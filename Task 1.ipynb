{
 "cells": [
  {
   "cell_type": "markdown",
   "id": "ea1e154f",
   "metadata": {
    "toc": true
   },
   "source": [
    "<h1>Table of Contents<span class=\"tocSkip\"></span></h1>\n",
    "<div class=\"toc\"><ul class=\"toc-item\"><li><ul class=\"toc-item\"><li><span><a href=\"#Libraries\" data-toc-modified-id=\"Libraries-0.1\"><span class=\"toc-item-num\">0.1&nbsp;&nbsp;</span>Libraries</a></span></li></ul></li><li><span><a href=\"#Income-Dataframe\" data-toc-modified-id=\"Income-Dataframe-1\"><span class=\"toc-item-num\">1&nbsp;&nbsp;</span>Income Dataframe</a></span></li><li><span><a href=\"#Population-Dataframe\" data-toc-modified-id=\"Population-Dataframe-2\"><span class=\"toc-item-num\">2&nbsp;&nbsp;</span>Population Dataframe</a></span><ul class=\"toc-item\"><li><ul class=\"toc-item\"><li><span><a href=\"#Distribution-of-years\" data-toc-modified-id=\"Distribution-of-years-2.0.1\"><span class=\"toc-item-num\">2.0.1&nbsp;&nbsp;</span>Distribution of years</a></span></li><li><span><a href=\"#Missing-Values\" data-toc-modified-id=\"Missing-Values-2.0.2\"><span class=\"toc-item-num\">2.0.2&nbsp;&nbsp;</span>Missing Values</a></span></li></ul></li></ul></li><li><span><a href=\"#Income-and-Population-df\" data-toc-modified-id=\"Income-and-Population-df-3\"><span class=\"toc-item-num\">3&nbsp;&nbsp;</span>Income and Population df</a></span><ul class=\"toc-item\"><li><ul class=\"toc-item\"><li><span><a href=\"#Merge\" data-toc-modified-id=\"Merge-3.0.1\"><span class=\"toc-item-num\">3.0.1&nbsp;&nbsp;</span>Merge</a></span></li><li><span><a href=\"#Re-naming-headers\" data-toc-modified-id=\"Re-naming-headers-3.0.2\"><span class=\"toc-item-num\">3.0.2&nbsp;&nbsp;</span>Re-naming headers</a></span></li><li><span><a href=\"#Replacing-missing-population-values\" data-toc-modified-id=\"Replacing-missing-population-values-3.0.3\"><span class=\"toc-item-num\">3.0.3&nbsp;&nbsp;</span>Replacing missing population values</a></span></li><li><span><a href=\"#Replacing-missing-gdp-ppp-values\" data-toc-modified-id=\"Replacing-missing-gdp-ppp-values-3.0.4\"><span class=\"toc-item-num\">3.0.4&nbsp;&nbsp;</span>Replacing missing gdp ppp values</a></span></li><li><span><a href=\"#GDP-PPP\" data-toc-modified-id=\"GDP-PPP-3.0.5\"><span class=\"toc-item-num\">3.0.5&nbsp;&nbsp;</span>GDP PPP</a></span></li></ul></li></ul></li><li><span><a href=\"#Gini-df\" data-toc-modified-id=\"Gini-df-4\"><span class=\"toc-item-num\">4&nbsp;&nbsp;</span>Gini df</a></span><ul class=\"toc-item\"><li><span><a href=\"#Cleaning\" data-toc-modified-id=\"Cleaning-4.1\"><span class=\"toc-item-num\">4.1&nbsp;&nbsp;</span>Cleaning</a></span></li><li><span><a href=\"#Merging\" data-toc-modified-id=\"Merging-4.2\"><span class=\"toc-item-num\">4.2&nbsp;&nbsp;</span>Merging</a></span></li><li><span><a href=\"#Correcting-or-replacing-values\" data-toc-modified-id=\"Correcting-or-replacing-values-4.3\"><span class=\"toc-item-num\">4.3&nbsp;&nbsp;</span>Correcting or replacing values</a></span></li><li><span><a href=\"#Missing-quantile\" data-toc-modified-id=\"Missing-quantile-4.4\"><span class=\"toc-item-num\">4.4&nbsp;&nbsp;</span>Missing quantile</a></span></li></ul></li><li><span><a href=\"#Task-1\" data-toc-modified-id=\"Task-1-5\"><span class=\"toc-item-num\">5&nbsp;&nbsp;</span>Task 1</a></span></li></ul></div>"
   ]
  },
  {
   "cell_type": "markdown",
   "id": "c71661c4",
   "metadata": {},
   "source": [
    "## Libraries"
   ]
  },
  {
   "cell_type": "code",
   "execution_count": 397,
   "id": "de51b879",
   "metadata": {},
   "outputs": [],
   "source": [
    "import pandas as pd\n",
    "import numpy as np\n",
    "import seaborn as sns\n",
    "import matplotlib.pyplot as plt\n",
    "\n",
    "from functions import * # local functions file\n",
    "import pickle\n",
    "\n",
    "from matplotlib.ticker import FuncFormatter"
   ]
  },
  {
   "cell_type": "markdown",
   "id": "1fbb70d2",
   "metadata": {},
   "source": [
    "# Income Dataframe"
   ]
  },
  {
   "cell_type": "code",
   "execution_count": 398,
   "id": "f9eb8b13",
   "metadata": {},
   "outputs": [],
   "source": [
    "df_ic = pd.read_csv('raw_data/word_income_distribution.csv')"
   ]
  },
  {
   "cell_type": "code",
   "execution_count": 399,
   "id": "0c00e578",
   "metadata": {
    "scrolled": true
   },
   "outputs": [
    {
     "data": {
      "text/html": [
       "<div>\n",
       "<style scoped>\n",
       "    .dataframe tbody tr th:only-of-type {\n",
       "        vertical-align: middle;\n",
       "    }\n",
       "\n",
       "    .dataframe tbody tr th {\n",
       "        vertical-align: top;\n",
       "    }\n",
       "\n",
       "    .dataframe thead th {\n",
       "        text-align: right;\n",
       "    }\n",
       "</style>\n",
       "<table border=\"1\" class=\"dataframe\">\n",
       "  <thead>\n",
       "    <tr style=\"text-align: right;\">\n",
       "      <th></th>\n",
       "      <th>country</th>\n",
       "      <th>year_survey</th>\n",
       "      <th>quantile</th>\n",
       "      <th>nb_quantiles</th>\n",
       "      <th>income</th>\n",
       "      <th>gdpppp</th>\n",
       "    </tr>\n",
       "  </thead>\n",
       "  <tbody>\n",
       "    <tr>\n",
       "      <th>0</th>\n",
       "      <td>ALB</td>\n",
       "      <td>2008</td>\n",
       "      <td>1</td>\n",
       "      <td>100</td>\n",
       "      <td>728,89795</td>\n",
       "      <td>7297</td>\n",
       "    </tr>\n",
       "    <tr>\n",
       "      <th>1</th>\n",
       "      <td>ALB</td>\n",
       "      <td>2008</td>\n",
       "      <td>2</td>\n",
       "      <td>100</td>\n",
       "      <td>916,66235</td>\n",
       "      <td>7297</td>\n",
       "    </tr>\n",
       "  </tbody>\n",
       "</table>\n",
       "</div>"
      ],
      "text/plain": [
       "  country  year_survey  quantile  nb_quantiles     income gdpppp\n",
       "0     ALB         2008         1           100  728,89795   7297\n",
       "1     ALB         2008         2           100  916,66235   7297"
      ]
     },
     "metadata": {},
     "output_type": "display_data"
    },
    {
     "name": "stdout",
     "output_type": "stream",
     "text": [
      "<class 'pandas.core.frame.DataFrame'>\n",
      "RangeIndex: 11599 entries, 0 to 11598\n",
      "Data columns (total 6 columns):\n",
      " #   Column        Non-Null Count  Dtype \n",
      "---  ------        --------------  ----- \n",
      " 0   country       11599 non-null  object\n",
      " 1   year_survey   11599 non-null  int64 \n",
      " 2   quantile      11599 non-null  int64 \n",
      " 3   nb_quantiles  11599 non-null  int64 \n",
      " 4   income        11599 non-null  object\n",
      " 5   gdpppp        11399 non-null  object\n",
      "dtypes: int64(3), object(3)\n",
      "memory usage: 543.8+ KB\n"
     ]
    },
    {
     "data": {
      "text/plain": [
       "None"
      ]
     },
     "metadata": {},
     "output_type": "display_data"
    },
    {
     "data": {
      "text/html": [
       "<div>\n",
       "<style scoped>\n",
       "    .dataframe tbody tr th:only-of-type {\n",
       "        vertical-align: middle;\n",
       "    }\n",
       "\n",
       "    .dataframe tbody tr th {\n",
       "        vertical-align: top;\n",
       "    }\n",
       "\n",
       "    .dataframe thead th {\n",
       "        text-align: right;\n",
       "    }\n",
       "</style>\n",
       "<table border=\"1\" class=\"dataframe\">\n",
       "  <thead>\n",
       "    <tr style=\"text-align: right;\">\n",
       "      <th></th>\n",
       "      <th>year_survey</th>\n",
       "      <th>quantile</th>\n",
       "      <th>nb_quantiles</th>\n",
       "    </tr>\n",
       "  </thead>\n",
       "  <tbody>\n",
       "    <tr>\n",
       "      <th>count</th>\n",
       "      <td>11599.000000</td>\n",
       "      <td>11599.000000</td>\n",
       "      <td>11599.0</td>\n",
       "    </tr>\n",
       "    <tr>\n",
       "      <th>mean</th>\n",
       "      <td>2007.982757</td>\n",
       "      <td>50.500819</td>\n",
       "      <td>100.0</td>\n",
       "    </tr>\n",
       "    <tr>\n",
       "      <th>std</th>\n",
       "      <td>0.909633</td>\n",
       "      <td>28.868424</td>\n",
       "      <td>0.0</td>\n",
       "    </tr>\n",
       "    <tr>\n",
       "      <th>min</th>\n",
       "      <td>2004.000000</td>\n",
       "      <td>1.000000</td>\n",
       "      <td>100.0</td>\n",
       "    </tr>\n",
       "    <tr>\n",
       "      <th>25%</th>\n",
       "      <td>2008.000000</td>\n",
       "      <td>25.500000</td>\n",
       "      <td>100.0</td>\n",
       "    </tr>\n",
       "    <tr>\n",
       "      <th>50%</th>\n",
       "      <td>2008.000000</td>\n",
       "      <td>51.000000</td>\n",
       "      <td>100.0</td>\n",
       "    </tr>\n",
       "    <tr>\n",
       "      <th>75%</th>\n",
       "      <td>2008.000000</td>\n",
       "      <td>75.500000</td>\n",
       "      <td>100.0</td>\n",
       "    </tr>\n",
       "    <tr>\n",
       "      <th>max</th>\n",
       "      <td>2011.000000</td>\n",
       "      <td>100.000000</td>\n",
       "      <td>100.0</td>\n",
       "    </tr>\n",
       "  </tbody>\n",
       "</table>\n",
       "</div>"
      ],
      "text/plain": [
       "        year_survey      quantile  nb_quantiles\n",
       "count  11599.000000  11599.000000       11599.0\n",
       "mean    2007.982757     50.500819         100.0\n",
       "std        0.909633     28.868424           0.0\n",
       "min     2004.000000      1.000000         100.0\n",
       "25%     2008.000000     25.500000         100.0\n",
       "50%     2008.000000     51.000000         100.0\n",
       "75%     2008.000000     75.500000         100.0\n",
       "max     2011.000000    100.000000         100.0"
      ]
     },
     "metadata": {},
     "output_type": "display_data"
    },
    {
     "data": {
      "text/plain": [
       "country           0\n",
       "year_survey       0\n",
       "quantile          0\n",
       "nb_quantiles      0\n",
       "income            0\n",
       "gdpppp          200\n",
       "dtype: int64"
      ]
     },
     "execution_count": 399,
     "metadata": {},
     "output_type": "execute_result"
    }
   ],
   "source": [
    "# Looking at the df_ic dataframe\n",
    "display(df_ic.head(2))\n",
    "display(df_ic.info())\n",
    "display(df_ic.describe())\n",
    "df_ic.isna().sum()"
   ]
  },
  {
   "cell_type": "markdown",
   "id": "a8f75fc6",
   "metadata": {},
   "source": [
    "First I will replace the commmas within the datafram with fullstops. "
   ]
  },
  {
   "cell_type": "code",
   "execution_count": 400,
   "id": "3413574e",
   "metadata": {},
   "outputs": [],
   "source": [
    "df_ic['income'] = df_ic['income'].str.replace(',', '.').astype(float)\n",
    "df_ic['gdpppp'] = df_ic['gdpppp'].str.replace(',', '.').astype(float)"
   ]
  },
  {
   "cell_type": "code",
   "execution_count": 401,
   "id": "f61b9d45",
   "metadata": {
    "scrolled": true
   },
   "outputs": [
    {
     "data": {
      "text/html": [
       "<div>\n",
       "<style scoped>\n",
       "    .dataframe tbody tr th:only-of-type {\n",
       "        vertical-align: middle;\n",
       "    }\n",
       "\n",
       "    .dataframe tbody tr th {\n",
       "        vertical-align: top;\n",
       "    }\n",
       "\n",
       "    .dataframe thead th {\n",
       "        text-align: right;\n",
       "    }\n",
       "</style>\n",
       "<table border=\"1\" class=\"dataframe\">\n",
       "  <thead>\n",
       "    <tr style=\"text-align: right;\">\n",
       "      <th></th>\n",
       "      <th>country</th>\n",
       "      <th>year_survey</th>\n",
       "      <th>quantile</th>\n",
       "      <th>nb_quantiles</th>\n",
       "      <th>income</th>\n",
       "      <th>gdpppp</th>\n",
       "    </tr>\n",
       "  </thead>\n",
       "  <tbody>\n",
       "    <tr>\n",
       "      <th>0</th>\n",
       "      <td>ALB</td>\n",
       "      <td>2008</td>\n",
       "      <td>1</td>\n",
       "      <td>100</td>\n",
       "      <td>728.89795</td>\n",
       "      <td>7297.0</td>\n",
       "    </tr>\n",
       "    <tr>\n",
       "      <th>1</th>\n",
       "      <td>ALB</td>\n",
       "      <td>2008</td>\n",
       "      <td>2</td>\n",
       "      <td>100</td>\n",
       "      <td>916.66235</td>\n",
       "      <td>7297.0</td>\n",
       "    </tr>\n",
       "  </tbody>\n",
       "</table>\n",
       "</div>"
      ],
      "text/plain": [
       "  country  year_survey  quantile  nb_quantiles     income  gdpppp\n",
       "0     ALB         2008         1           100  728.89795  7297.0\n",
       "1     ALB         2008         2           100  916.66235  7297.0"
      ]
     },
     "execution_count": 401,
     "metadata": {},
     "output_type": "execute_result"
    }
   ],
   "source": [
    "df_ic.head(2)"
   ]
  },
  {
   "cell_type": "code",
   "execution_count": 402,
   "id": "558f945a",
   "metadata": {},
   "outputs": [
    {
     "data": {
      "text/html": [
       "<div>\n",
       "<style scoped>\n",
       "    .dataframe tbody tr th:only-of-type {\n",
       "        vertical-align: middle;\n",
       "    }\n",
       "\n",
       "    .dataframe tbody tr th {\n",
       "        vertical-align: top;\n",
       "    }\n",
       "\n",
       "    .dataframe thead th {\n",
       "        text-align: right;\n",
       "    }\n",
       "</style>\n",
       "<table border=\"1\" class=\"dataframe\">\n",
       "  <thead>\n",
       "    <tr style=\"text-align: right;\">\n",
       "      <th></th>\n",
       "      <th>country</th>\n",
       "      <th>year_survey</th>\n",
       "      <th>quantile</th>\n",
       "      <th>nb_quantiles</th>\n",
       "      <th>income</th>\n",
       "      <th>gdpppp</th>\n",
       "    </tr>\n",
       "  </thead>\n",
       "  <tbody>\n",
       "    <tr>\n",
       "      <th>10998</th>\n",
       "      <td>USA</td>\n",
       "      <td>2008</td>\n",
       "      <td>100</td>\n",
       "      <td>100</td>\n",
       "      <td>176928.550</td>\n",
       "      <td>43261.0</td>\n",
       "    </tr>\n",
       "    <tr>\n",
       "      <th>4899</th>\n",
       "      <td>ISL</td>\n",
       "      <td>2008</td>\n",
       "      <td>100</td>\n",
       "      <td>100</td>\n",
       "      <td>160645.270</td>\n",
       "      <td>36527.0</td>\n",
       "    </tr>\n",
       "    <tr>\n",
       "      <th>3499</th>\n",
       "      <td>GBR</td>\n",
       "      <td>2008</td>\n",
       "      <td>100</td>\n",
       "      <td>100</td>\n",
       "      <td>141565.230</td>\n",
       "      <td>34048.0</td>\n",
       "    </tr>\n",
       "    <tr>\n",
       "      <th>1599</th>\n",
       "      <td>CAN</td>\n",
       "      <td>2008</td>\n",
       "      <td>100</td>\n",
       "      <td>100</td>\n",
       "      <td>133454.840</td>\n",
       "      <td>35895.0</td>\n",
       "    </tr>\n",
       "    <tr>\n",
       "      <th>3399</th>\n",
       "      <td>FRA</td>\n",
       "      <td>2008</td>\n",
       "      <td>100</td>\n",
       "      <td>100</td>\n",
       "      <td>122775.164</td>\n",
       "      <td>30357.0</td>\n",
       "    </tr>\n",
       "  </tbody>\n",
       "</table>\n",
       "</div>"
      ],
      "text/plain": [
       "      country  year_survey  quantile  nb_quantiles      income   gdpppp\n",
       "10998     USA         2008       100           100  176928.550  43261.0\n",
       "4899      ISL         2008       100           100  160645.270  36527.0\n",
       "3499      GBR         2008       100           100  141565.230  34048.0\n",
       "1599      CAN         2008       100           100  133454.840  35895.0\n",
       "3399      FRA         2008       100           100  122775.164  30357.0"
      ]
     },
     "execution_count": 402,
     "metadata": {},
     "output_type": "execute_result"
    }
   ],
   "source": [
    "top_5_income = df_ic.nlargest(5, 'income')\n",
    "top_5_income"
   ]
  },
  {
   "cell_type": "code",
   "execution_count": 403,
   "id": "681b6bf5",
   "metadata": {
    "scrolled": false
   },
   "outputs": [
    {
     "data": {
      "text/html": [
       "<div>\n",
       "<style scoped>\n",
       "    .dataframe tbody tr th:only-of-type {\n",
       "        vertical-align: middle;\n",
       "    }\n",
       "\n",
       "    .dataframe tbody tr th {\n",
       "        vertical-align: top;\n",
       "    }\n",
       "\n",
       "    .dataframe thead th {\n",
       "        text-align: right;\n",
       "    }\n",
       "</style>\n",
       "<table border=\"1\" class=\"dataframe\">\n",
       "  <thead>\n",
       "    <tr style=\"text-align: right;\">\n",
       "      <th></th>\n",
       "      <th>country</th>\n",
       "      <th>year_survey</th>\n",
       "      <th>quantile</th>\n",
       "      <th>nb_quantiles</th>\n",
       "      <th>income</th>\n",
       "      <th>gdpppp</th>\n",
       "    </tr>\n",
       "  </thead>\n",
       "  <tbody>\n",
       "    <tr>\n",
       "      <th>1700</th>\n",
       "      <td>CHN</td>\n",
       "      <td>2007</td>\n",
       "      <td>1</td>\n",
       "      <td>100</td>\n",
       "      <td>16.719418</td>\n",
       "      <td>5712.00000</td>\n",
       "    </tr>\n",
       "    <tr>\n",
       "      <th>5700</th>\n",
       "      <td>KOR</td>\n",
       "      <td>2008</td>\n",
       "      <td>1</td>\n",
       "      <td>100</td>\n",
       "      <td>17.317732</td>\n",
       "      <td>19162.00000</td>\n",
       "    </tr>\n",
       "    <tr>\n",
       "      <th>1100</th>\n",
       "      <td>BOL</td>\n",
       "      <td>2008</td>\n",
       "      <td>1</td>\n",
       "      <td>100</td>\n",
       "      <td>20.584948</td>\n",
       "      <td>3950.00000</td>\n",
       "    </tr>\n",
       "    <tr>\n",
       "      <th>11499</th>\n",
       "      <td>COD</td>\n",
       "      <td>2008</td>\n",
       "      <td>1</td>\n",
       "      <td>100</td>\n",
       "      <td>29.364283</td>\n",
       "      <td>303.19305</td>\n",
       "    </tr>\n",
       "    <tr>\n",
       "      <th>6699</th>\n",
       "      <td>MDG</td>\n",
       "      <td>2010</td>\n",
       "      <td>1</td>\n",
       "      <td>100</td>\n",
       "      <td>29.411367</td>\n",
       "      <td>950.00000</td>\n",
       "    </tr>\n",
       "  </tbody>\n",
       "</table>\n",
       "</div>"
      ],
      "text/plain": [
       "      country  year_survey  quantile  nb_quantiles     income       gdpppp\n",
       "1700      CHN         2007         1           100  16.719418   5712.00000\n",
       "5700      KOR         2008         1           100  17.317732  19162.00000\n",
       "1100      BOL         2008         1           100  20.584948   3950.00000\n",
       "11499     COD         2008         1           100  29.364283    303.19305\n",
       "6699      MDG         2010         1           100  29.411367    950.00000"
      ]
     },
     "execution_count": 403,
     "metadata": {},
     "output_type": "execute_result"
    }
   ],
   "source": [
    "bottom_5_income = df_ic.nsmallest(5, 'income')\n",
    "bottom_5_income"
   ]
  },
  {
   "cell_type": "code",
   "execution_count": 404,
   "id": "eed74b3f",
   "metadata": {},
   "outputs": [
    {
     "data": {
      "text/plain": [
       "array(['XKX', 'PSE'], dtype=object)"
      ]
     },
     "execution_count": 404,
     "metadata": {},
     "output_type": "execute_result"
    }
   ],
   "source": [
    "# Let's check if there are any missing values:\n",
    "df_ic[df_ic.isna().any(axis=1)]['country'].unique()"
   ]
  },
  {
   "cell_type": "markdown",
   "id": "1248fe3c",
   "metadata": {},
   "source": [
    "We are missing PSE and XKX countries gdppp. I will replace thes later"
   ]
  },
  {
   "cell_type": "markdown",
   "id": "1537f317",
   "metadata": {},
   "source": [
    "# Population Dataframe"
   ]
  },
  {
   "cell_type": "code",
   "execution_count": 405,
   "id": "97e19e2c",
   "metadata": {},
   "outputs": [],
   "source": [
    "df_pop=pd.read_csv('raw_data/population.csv')"
   ]
  },
  {
   "cell_type": "code",
   "execution_count": 406,
   "id": "896bf1a6",
   "metadata": {
    "scrolled": true
   },
   "outputs": [
    {
     "data": {
      "text/html": [
       "<div>\n",
       "<style scoped>\n",
       "    .dataframe tbody tr th:only-of-type {\n",
       "        vertical-align: middle;\n",
       "    }\n",
       "\n",
       "    .dataframe tbody tr th {\n",
       "        vertical-align: top;\n",
       "    }\n",
       "\n",
       "    .dataframe thead th {\n",
       "        text-align: right;\n",
       "    }\n",
       "</style>\n",
       "<table border=\"1\" class=\"dataframe\">\n",
       "  <thead>\n",
       "    <tr style=\"text-align: right;\">\n",
       "      <th></th>\n",
       "      <th>Country Name</th>\n",
       "      <th>Country Code</th>\n",
       "      <th>Indicator Name</th>\n",
       "      <th>Indicator Code</th>\n",
       "      <th>2004</th>\n",
       "      <th>2005</th>\n",
       "      <th>2006</th>\n",
       "      <th>2007</th>\n",
       "      <th>2008</th>\n",
       "      <th>2009</th>\n",
       "      <th>2010</th>\n",
       "      <th>2011</th>\n",
       "    </tr>\n",
       "  </thead>\n",
       "  <tbody>\n",
       "    <tr>\n",
       "      <th>0</th>\n",
       "      <td>Aruba</td>\n",
       "      <td>ABW</td>\n",
       "      <td>Population, total</td>\n",
       "      <td>SP.POP.TOTL</td>\n",
       "      <td>93540.0</td>\n",
       "      <td>94483.0</td>\n",
       "      <td>95606.0</td>\n",
       "      <td>96787.0</td>\n",
       "      <td>97996.0</td>\n",
       "      <td>99212.0</td>\n",
       "      <td>100341.0</td>\n",
       "      <td>101288.0</td>\n",
       "    </tr>\n",
       "    <tr>\n",
       "      <th>1</th>\n",
       "      <td>Africa Eastern and Southern</td>\n",
       "      <td>AFE</td>\n",
       "      <td>Population, total</td>\n",
       "      <td>SP.POP.TOTL</td>\n",
       "      <td>445281555.0</td>\n",
       "      <td>457153837.0</td>\n",
       "      <td>469508516.0</td>\n",
       "      <td>482406426.0</td>\n",
       "      <td>495748900.0</td>\n",
       "      <td>509410477.0</td>\n",
       "      <td>523459657.0</td>\n",
       "      <td>537792950.0</td>\n",
       "    </tr>\n",
       "  </tbody>\n",
       "</table>\n",
       "</div>"
      ],
      "text/plain": [
       "                  Country Name Country Code     Indicator Name Indicator Code  \\\n",
       "0                        Aruba          ABW  Population, total    SP.POP.TOTL   \n",
       "1  Africa Eastern and Southern          AFE  Population, total    SP.POP.TOTL   \n",
       "\n",
       "          2004         2005         2006         2007         2008  \\\n",
       "0      93540.0      94483.0      95606.0      96787.0      97996.0   \n",
       "1  445281555.0  457153837.0  469508516.0  482406426.0  495748900.0   \n",
       "\n",
       "          2009         2010         2011  \n",
       "0      99212.0     100341.0     101288.0  \n",
       "1  509410477.0  523459657.0  537792950.0  "
      ]
     },
     "metadata": {},
     "output_type": "display_data"
    },
    {
     "name": "stdout",
     "output_type": "stream",
     "text": [
      "<class 'pandas.core.frame.DataFrame'>\n",
      "RangeIndex: 266 entries, 0 to 265\n",
      "Data columns (total 12 columns):\n",
      " #   Column          Non-Null Count  Dtype  \n",
      "---  ------          --------------  -----  \n",
      " 0   Country Name    266 non-null    object \n",
      " 1   Country Code    266 non-null    object \n",
      " 2   Indicator Name  266 non-null    object \n",
      " 3   Indicator Code  266 non-null    object \n",
      " 4   2004            265 non-null    float64\n",
      " 5   2005            265 non-null    float64\n",
      " 6   2006            265 non-null    float64\n",
      " 7   2007            265 non-null    float64\n",
      " 8   2008            265 non-null    float64\n",
      " 9   2009            265 non-null    float64\n",
      " 10  2010            265 non-null    float64\n",
      " 11  2011            265 non-null    float64\n",
      "dtypes: float64(8), object(4)\n",
      "memory usage: 25.1+ KB\n"
     ]
    },
    {
     "data": {
      "text/plain": [
       "None"
      ]
     },
     "metadata": {},
     "output_type": "display_data"
    },
    {
     "data": {
      "text/html": [
       "<div>\n",
       "<style scoped>\n",
       "    .dataframe tbody tr th:only-of-type {\n",
       "        vertical-align: middle;\n",
       "    }\n",
       "\n",
       "    .dataframe tbody tr th {\n",
       "        vertical-align: top;\n",
       "    }\n",
       "\n",
       "    .dataframe thead th {\n",
       "        text-align: right;\n",
       "    }\n",
       "</style>\n",
       "<table border=\"1\" class=\"dataframe\">\n",
       "  <thead>\n",
       "    <tr style=\"text-align: right;\">\n",
       "      <th></th>\n",
       "      <th>2004</th>\n",
       "      <th>2005</th>\n",
       "      <th>2006</th>\n",
       "      <th>2007</th>\n",
       "      <th>2008</th>\n",
       "      <th>2009</th>\n",
       "      <th>2010</th>\n",
       "      <th>2011</th>\n",
       "    </tr>\n",
       "  </thead>\n",
       "  <tbody>\n",
       "    <tr>\n",
       "      <th>count</th>\n",
       "      <td>2.650000e+02</td>\n",
       "      <td>2.650000e+02</td>\n",
       "      <td>2.650000e+02</td>\n",
       "      <td>2.650000e+02</td>\n",
       "      <td>2.650000e+02</td>\n",
       "      <td>2.650000e+02</td>\n",
       "      <td>2.650000e+02</td>\n",
       "      <td>2.650000e+02</td>\n",
       "    </tr>\n",
       "    <tr>\n",
       "      <th>mean</th>\n",
       "      <td>2.598251e+08</td>\n",
       "      <td>2.633511e+08</td>\n",
       "      <td>2.668927e+08</td>\n",
       "      <td>2.704279e+08</td>\n",
       "      <td>2.740269e+08</td>\n",
       "      <td>2.776707e+08</td>\n",
       "      <td>2.813496e+08</td>\n",
       "      <td>2.850609e+08</td>\n",
       "    </tr>\n",
       "    <tr>\n",
       "      <th>std</th>\n",
       "      <td>8.216948e+08</td>\n",
       "      <td>8.321852e+08</td>\n",
       "      <td>8.426180e+08</td>\n",
       "      <td>8.529604e+08</td>\n",
       "      <td>8.634657e+08</td>\n",
       "      <td>8.741055e+08</td>\n",
       "      <td>8.848700e+08</td>\n",
       "      <td>8.958524e+08</td>\n",
       "    </tr>\n",
       "    <tr>\n",
       "      <th>min</th>\n",
       "      <td>9.791000e+03</td>\n",
       "      <td>9.912000e+03</td>\n",
       "      <td>1.003000e+04</td>\n",
       "      <td>1.014900e+04</td>\n",
       "      <td>1.024300e+04</td>\n",
       "      <td>1.023300e+04</td>\n",
       "      <td>1.024100e+04</td>\n",
       "      <td>1.028300e+04</td>\n",
       "    </tr>\n",
       "    <tr>\n",
       "      <th>25%</th>\n",
       "      <td>1.361172e+06</td>\n",
       "      <td>1.369075e+06</td>\n",
       "      <td>1.376919e+06</td>\n",
       "      <td>1.384861e+06</td>\n",
       "      <td>1.444277e+06</td>\n",
       "      <td>1.527196e+06</td>\n",
       "      <td>1.567220e+06</td>\n",
       "      <td>1.609017e+06</td>\n",
       "    </tr>\n",
       "    <tr>\n",
       "      <th>50%</th>\n",
       "      <td>8.791853e+06</td>\n",
       "      <td>9.026299e+06</td>\n",
       "      <td>9.080505e+06</td>\n",
       "      <td>9.148092e+06</td>\n",
       "      <td>9.219637e+06</td>\n",
       "      <td>9.298515e+06</td>\n",
       "      <td>9.483836e+06</td>\n",
       "      <td>9.726380e+06</td>\n",
       "    </tr>\n",
       "    <tr>\n",
       "      <th>75%</th>\n",
       "      <td>5.481561e+07</td>\n",
       "      <td>5.655025e+07</td>\n",
       "      <td>5.814398e+07</td>\n",
       "      <td>5.843831e+07</td>\n",
       "      <td>5.882673e+07</td>\n",
       "      <td>5.909536e+07</td>\n",
       "      <td>5.927742e+07</td>\n",
       "      <td>5.937945e+07</td>\n",
       "    </tr>\n",
       "    <tr>\n",
       "      <th>max</th>\n",
       "      <td>6.470924e+09</td>\n",
       "      <td>6.552700e+09</td>\n",
       "      <td>6.635110e+09</td>\n",
       "      <td>6.717568e+09</td>\n",
       "      <td>6.801441e+09</td>\n",
       "      <td>6.885663e+09</td>\n",
       "      <td>6.969986e+09</td>\n",
       "      <td>7.054044e+09</td>\n",
       "    </tr>\n",
       "  </tbody>\n",
       "</table>\n",
       "</div>"
      ],
      "text/plain": [
       "               2004          2005          2006          2007          2008  \\\n",
       "count  2.650000e+02  2.650000e+02  2.650000e+02  2.650000e+02  2.650000e+02   \n",
       "mean   2.598251e+08  2.633511e+08  2.668927e+08  2.704279e+08  2.740269e+08   \n",
       "std    8.216948e+08  8.321852e+08  8.426180e+08  8.529604e+08  8.634657e+08   \n",
       "min    9.791000e+03  9.912000e+03  1.003000e+04  1.014900e+04  1.024300e+04   \n",
       "25%    1.361172e+06  1.369075e+06  1.376919e+06  1.384861e+06  1.444277e+06   \n",
       "50%    8.791853e+06  9.026299e+06  9.080505e+06  9.148092e+06  9.219637e+06   \n",
       "75%    5.481561e+07  5.655025e+07  5.814398e+07  5.843831e+07  5.882673e+07   \n",
       "max    6.470924e+09  6.552700e+09  6.635110e+09  6.717568e+09  6.801441e+09   \n",
       "\n",
       "               2009          2010          2011  \n",
       "count  2.650000e+02  2.650000e+02  2.650000e+02  \n",
       "mean   2.776707e+08  2.813496e+08  2.850609e+08  \n",
       "std    8.741055e+08  8.848700e+08  8.958524e+08  \n",
       "min    1.023300e+04  1.024100e+04  1.028300e+04  \n",
       "25%    1.527196e+06  1.567220e+06  1.609017e+06  \n",
       "50%    9.298515e+06  9.483836e+06  9.726380e+06  \n",
       "75%    5.909536e+07  5.927742e+07  5.937945e+07  \n",
       "max    6.885663e+09  6.969986e+09  7.054044e+09  "
      ]
     },
     "metadata": {},
     "output_type": "display_data"
    },
    {
     "data": {
      "text/plain": [
       "Country Name      0\n",
       "Country Code      0\n",
       "Indicator Name    0\n",
       "Indicator Code    0\n",
       "2004              1\n",
       "2005              1\n",
       "2006              1\n",
       "2007              1\n",
       "2008              1\n",
       "2009              1\n",
       "2010              1\n",
       "2011              1\n",
       "dtype: int64"
      ]
     },
     "execution_count": 406,
     "metadata": {},
     "output_type": "execute_result"
    }
   ],
   "source": [
    "# Looking at df_pop dataframe\n",
    "display(df_pop.head(2))\n",
    "display(df_pop.info())\n",
    "display(df_pop.describe())\n",
    "df_pop.isna().sum()"
   ]
  },
  {
   "cell_type": "markdown",
   "id": "51002ea5",
   "metadata": {},
   "source": [
    "### Distribution of years"
   ]
  },
  {
   "cell_type": "code",
   "execution_count": 407,
   "id": "5afd78e6",
   "metadata": {},
   "outputs": [
    {
     "data": {
      "image/png": "[encoded data removed]",
      "text/plain": [
       "<Figure size 500x400 with 1 Axes>"
      ]
     },
     "metadata": {},
     "output_type": "display_data"
    }
   ],
   "source": [
    "\n",
    "# Grouping by year_survey and counting unique countries for each year\n",
    "survey_counts_per_year = df_ic.groupby('year_survey')['country'].nunique()\n",
    "\n",
    "# Plotting the count of countries surveyed per year\n",
    "survey_counts_per_year.plot(kind='bar', figsize=(5, 4))\n",
    "plt.xlabel('Year')\n",
    "plt.ylabel('Number of Countries')\n",
    "plt.title('Number of Countries')\n",
    "plt.show()\n"
   ]
  },
  {
   "cell_type": "markdown",
   "id": "87f6c124",
   "metadata": {},
   "source": [
    "Majority the countries have 2008 data available, or 2007 and 2009, I am going to use 2008 data as population, and assume that the population values have not changed that significantly over the other years."
   ]
  },
  {
   "cell_type": "code",
   "execution_count": 408,
   "id": "828bf3b2",
   "metadata": {},
   "outputs": [
    {
     "data": {
      "text/html": [
       "<div>\n",
       "<style scoped>\n",
       "    .dataframe tbody tr th:only-of-type {\n",
       "        vertical-align: middle;\n",
       "    }\n",
       "\n",
       "    .dataframe tbody tr th {\n",
       "        vertical-align: top;\n",
       "    }\n",
       "\n",
       "    .dataframe thead th {\n",
       "        text-align: right;\n",
       "    }\n",
       "</style>\n",
       "<table border=\"1\" class=\"dataframe\">\n",
       "  <thead>\n",
       "    <tr style=\"text-align: right;\">\n",
       "      <th></th>\n",
       "      <th>Country Name</th>\n",
       "      <th>Country Code</th>\n",
       "      <th>2008</th>\n",
       "    </tr>\n",
       "  </thead>\n",
       "  <tbody>\n",
       "    <tr>\n",
       "      <th>0</th>\n",
       "      <td>Aruba</td>\n",
       "      <td>ABW</td>\n",
       "      <td>97996.0</td>\n",
       "    </tr>\n",
       "    <tr>\n",
       "      <th>1</th>\n",
       "      <td>Africa Eastern and Southern</td>\n",
       "      <td>AFE</td>\n",
       "      <td>495748900.0</td>\n",
       "    </tr>\n",
       "  </tbody>\n",
       "</table>\n",
       "</div>"
      ],
      "text/plain": [
       "                  Country Name Country Code         2008\n",
       "0                        Aruba          ABW      97996.0\n",
       "1  Africa Eastern and Southern          AFE  495748900.0"
      ]
     },
     "execution_count": 408,
     "metadata": {},
     "output_type": "execute_result"
    }
   ],
   "source": [
    "df_pop = df_pop[['Country Name', 'Country Code', '2008']]\n",
    "df_pop.head(2)"
   ]
  },
  {
   "cell_type": "markdown",
   "id": "fb6e9cf0",
   "metadata": {},
   "source": [
    "### Missing Values"
   ]
  },
  {
   "cell_type": "markdown",
   "id": "fe4de628",
   "metadata": {},
   "source": [
    "Checking for missing population values in df_pop"
   ]
  },
  {
   "cell_type": "code",
   "execution_count": 409,
   "id": "4af19433",
   "metadata": {},
   "outputs": [
    {
     "data": {
      "text/plain": [
       "266"
      ]
     },
     "execution_count": 409,
     "metadata": {},
     "output_type": "execute_result"
    }
   ],
   "source": [
    "# Number of countries within df_pop\n",
    "df_pop['Country Code'].nunique()"
   ]
  },
  {
   "cell_type": "code",
   "execution_count": 410,
   "id": "15cec3ff",
   "metadata": {},
   "outputs": [
    {
     "data": {
      "text/plain": [
       "116"
      ]
     },
     "execution_count": 410,
     "metadata": {},
     "output_type": "execute_result"
    }
   ],
   "source": [
    "# Number of countries in the df_ic dataframe\n",
    "df_ic['country'].nunique()"
   ]
  },
  {
   "cell_type": "code",
   "execution_count": 411,
   "id": "9fe8b7d2",
   "metadata": {},
   "outputs": [],
   "source": [
    "# Saving the unique countries of each dataframe\n",
    "df_pop_countries = df_pop['Country Code'].unique()\n",
    "df_ic_countries = df_ic['country'].unique()"
   ]
  },
  {
   "cell_type": "code",
   "execution_count": 412,
   "id": "80161108",
   "metadata": {},
   "outputs": [
    {
     "name": "stdout",
     "output_type": "stream",
     "text": [
      "['TWN']\n"
     ]
    }
   ],
   "source": [
    "#Lets check if there are any values that are missing from our population data\n",
    "missing_country_codes = set(df_ic_countries) - set(df_pop_countries)\n",
    "print(list(missing_country_codes))"
   ]
  },
  {
   "cell_type": "markdown",
   "id": "5b9e969c",
   "metadata": {},
   "source": [
    "Seems like, we don't have the population of TWN. I will add this later after the merge."
   ]
  },
  {
   "cell_type": "markdown",
   "id": "1567de3d",
   "metadata": {},
   "source": [
    "# Income and Population df"
   ]
  },
  {
   "cell_type": "markdown",
   "id": "b5880223",
   "metadata": {},
   "source": [
    "### Merge "
   ]
  },
  {
   "cell_type": "markdown",
   "id": "5da9a195",
   "metadata": {},
   "source": [
    "I will first make a merger, to get one dataframe. "
   ]
  },
  {
   "cell_type": "code",
   "execution_count": 413,
   "id": "178fe915",
   "metadata": {},
   "outputs": [],
   "source": [
    "df = pd.merge(df_pop, df_ic, left_on='Country Code', right_on='country', how='right')"
   ]
  },
  {
   "cell_type": "code",
   "execution_count": 414,
   "id": "8f37a2aa",
   "metadata": {
    "scrolled": true
   },
   "outputs": [
    {
     "data": {
      "text/html": [
       "<div>\n",
       "<style scoped>\n",
       "    .dataframe tbody tr th:only-of-type {\n",
       "        vertical-align: middle;\n",
       "    }\n",
       "\n",
       "    .dataframe tbody tr th {\n",
       "        vertical-align: top;\n",
       "    }\n",
       "\n",
       "    .dataframe thead th {\n",
       "        text-align: right;\n",
       "    }\n",
       "</style>\n",
       "<table border=\"1\" class=\"dataframe\">\n",
       "  <thead>\n",
       "    <tr style=\"text-align: right;\">\n",
       "      <th></th>\n",
       "      <th>Country Name</th>\n",
       "      <th>Country Code</th>\n",
       "      <th>2008</th>\n",
       "      <th>country</th>\n",
       "      <th>year_survey</th>\n",
       "      <th>quantile</th>\n",
       "      <th>nb_quantiles</th>\n",
       "      <th>income</th>\n",
       "      <th>gdpppp</th>\n",
       "    </tr>\n",
       "  </thead>\n",
       "  <tbody>\n",
       "    <tr>\n",
       "      <th>0</th>\n",
       "      <td>Albania</td>\n",
       "      <td>ALB</td>\n",
       "      <td>2947314.0</td>\n",
       "      <td>ALB</td>\n",
       "      <td>2008</td>\n",
       "      <td>1</td>\n",
       "      <td>100</td>\n",
       "      <td>728.89795</td>\n",
       "      <td>7297.0</td>\n",
       "    </tr>\n",
       "    <tr>\n",
       "      <th>1</th>\n",
       "      <td>Albania</td>\n",
       "      <td>ALB</td>\n",
       "      <td>2947314.0</td>\n",
       "      <td>ALB</td>\n",
       "      <td>2008</td>\n",
       "      <td>2</td>\n",
       "      <td>100</td>\n",
       "      <td>916.66235</td>\n",
       "      <td>7297.0</td>\n",
       "    </tr>\n",
       "    <tr>\n",
       "      <th>2</th>\n",
       "      <td>Albania</td>\n",
       "      <td>ALB</td>\n",
       "      <td>2947314.0</td>\n",
       "      <td>ALB</td>\n",
       "      <td>2008</td>\n",
       "      <td>3</td>\n",
       "      <td>100</td>\n",
       "      <td>1010.91600</td>\n",
       "      <td>7297.0</td>\n",
       "    </tr>\n",
       "    <tr>\n",
       "      <th>3</th>\n",
       "      <td>Albania</td>\n",
       "      <td>ALB</td>\n",
       "      <td>2947314.0</td>\n",
       "      <td>ALB</td>\n",
       "      <td>2008</td>\n",
       "      <td>4</td>\n",
       "      <td>100</td>\n",
       "      <td>1086.90780</td>\n",
       "      <td>7297.0</td>\n",
       "    </tr>\n",
       "    <tr>\n",
       "      <th>4</th>\n",
       "      <td>Albania</td>\n",
       "      <td>ALB</td>\n",
       "      <td>2947314.0</td>\n",
       "      <td>ALB</td>\n",
       "      <td>2008</td>\n",
       "      <td>5</td>\n",
       "      <td>100</td>\n",
       "      <td>1132.69970</td>\n",
       "      <td>7297.0</td>\n",
       "    </tr>\n",
       "  </tbody>\n",
       "</table>\n",
       "</div>"
      ],
      "text/plain": [
       "  Country Name Country Code       2008 country  year_survey  quantile  \\\n",
       "0      Albania          ALB  2947314.0     ALB         2008         1   \n",
       "1      Albania          ALB  2947314.0     ALB         2008         2   \n",
       "2      Albania          ALB  2947314.0     ALB         2008         3   \n",
       "3      Albania          ALB  2947314.0     ALB         2008         4   \n",
       "4      Albania          ALB  2947314.0     ALB         2008         5   \n",
       "\n",
       "   nb_quantiles      income  gdpppp  \n",
       "0           100   728.89795  7297.0  \n",
       "1           100   916.66235  7297.0  \n",
       "2           100  1010.91600  7297.0  \n",
       "3           100  1086.90780  7297.0  \n",
       "4           100  1132.69970  7297.0  "
      ]
     },
     "metadata": {},
     "output_type": "display_data"
    },
    {
     "name": "stdout",
     "output_type": "stream",
     "text": [
      "<class 'pandas.core.frame.DataFrame'>\n",
      "RangeIndex: 11599 entries, 0 to 11598\n",
      "Data columns (total 9 columns):\n",
      " #   Column        Non-Null Count  Dtype  \n",
      "---  ------        --------------  -----  \n",
      " 0   Country Name  11499 non-null  object \n",
      " 1   Country Code  11499 non-null  object \n",
      " 2   2008          11499 non-null  float64\n",
      " 3   country       11599 non-null  object \n",
      " 4   year_survey   11599 non-null  int64  \n",
      " 5   quantile      11599 non-null  int64  \n",
      " 6   nb_quantiles  11599 non-null  int64  \n",
      " 7   income        11599 non-null  float64\n",
      " 8   gdpppp        11399 non-null  float64\n",
      "dtypes: float64(3), int64(3), object(3)\n",
      "memory usage: 815.7+ KB\n"
     ]
    },
    {
     "data": {
      "text/plain": [
       "None"
      ]
     },
     "metadata": {},
     "output_type": "display_data"
    },
    {
     "data": {
      "text/html": [
       "<div>\n",
       "<style scoped>\n",
       "    .dataframe tbody tr th:only-of-type {\n",
       "        vertical-align: middle;\n",
       "    }\n",
       "\n",
       "    .dataframe tbody tr th {\n",
       "        vertical-align: top;\n",
       "    }\n",
       "\n",
       "    .dataframe thead th {\n",
       "        text-align: right;\n",
       "    }\n",
       "</style>\n",
       "<table border=\"1\" class=\"dataframe\">\n",
       "  <thead>\n",
       "    <tr style=\"text-align: right;\">\n",
       "      <th></th>\n",
       "      <th>2008</th>\n",
       "      <th>year_survey</th>\n",
       "      <th>quantile</th>\n",
       "      <th>nb_quantiles</th>\n",
       "      <th>income</th>\n",
       "      <th>gdpppp</th>\n",
       "    </tr>\n",
       "  </thead>\n",
       "  <tbody>\n",
       "    <tr>\n",
       "      <th>count</th>\n",
       "      <td>1.149900e+04</td>\n",
       "      <td>11599.000000</td>\n",
       "      <td>11599.000000</td>\n",
       "      <td>11599.0</td>\n",
       "      <td>11599.000000</td>\n",
       "      <td>1.139900e+04</td>\n",
       "    </tr>\n",
       "    <tr>\n",
       "      <th>mean</th>\n",
       "      <td>5.411438e+07</td>\n",
       "      <td>2007.982757</td>\n",
       "      <td>50.500819</td>\n",
       "      <td>100.0</td>\n",
       "      <td>6069.224260</td>\n",
       "      <td>5.022128e+04</td>\n",
       "    </tr>\n",
       "    <tr>\n",
       "      <th>std</th>\n",
       "      <td>1.689444e+08</td>\n",
       "      <td>0.909633</td>\n",
       "      <td>28.868424</td>\n",
       "      <td>0.0</td>\n",
       "      <td>9414.185972</td>\n",
       "      <td>4.000688e+05</td>\n",
       "    </tr>\n",
       "    <tr>\n",
       "      <th>min</th>\n",
       "      <td>3.174140e+05</td>\n",
       "      <td>2004.000000</td>\n",
       "      <td>1.000000</td>\n",
       "      <td>100.0</td>\n",
       "      <td>16.719418</td>\n",
       "      <td>3.031931e+02</td>\n",
       "    </tr>\n",
       "    <tr>\n",
       "      <th>25%</th>\n",
       "      <td>4.501921e+06</td>\n",
       "      <td>2008.000000</td>\n",
       "      <td>25.500000</td>\n",
       "      <td>100.0</td>\n",
       "      <td>900.685515</td>\n",
       "      <td>2.576000e+03</td>\n",
       "    </tr>\n",
       "    <tr>\n",
       "      <th>50%</th>\n",
       "      <td>1.388942e+07</td>\n",
       "      <td>2008.000000</td>\n",
       "      <td>51.000000</td>\n",
       "      <td>100.0</td>\n",
       "      <td>2403.244900</td>\n",
       "      <td>7.560000e+03</td>\n",
       "    </tr>\n",
       "    <tr>\n",
       "      <th>75%</th>\n",
       "      <td>4.027377e+07</td>\n",
       "      <td>2008.000000</td>\n",
       "      <td>75.500000</td>\n",
       "      <td>100.0</td>\n",
       "      <td>7515.420900</td>\n",
       "      <td>1.877300e+04</td>\n",
       "    </tr>\n",
       "    <tr>\n",
       "      <th>max</th>\n",
       "      <td>1.324655e+09</td>\n",
       "      <td>2011.000000</td>\n",
       "      <td>100.000000</td>\n",
       "      <td>100.0</td>\n",
       "      <td>176928.550000</td>\n",
       "      <td>4.300332e+06</td>\n",
       "    </tr>\n",
       "  </tbody>\n",
       "</table>\n",
       "</div>"
      ],
      "text/plain": [
       "               2008   year_survey      quantile  nb_quantiles         income  \\\n",
       "count  1.149900e+04  11599.000000  11599.000000       11599.0   11599.000000   \n",
       "mean   5.411438e+07   2007.982757     50.500819         100.0    6069.224260   \n",
       "std    1.689444e+08      0.909633     28.868424           0.0    9414.185972   \n",
       "min    3.174140e+05   2004.000000      1.000000         100.0      16.719418   \n",
       "25%    4.501921e+06   2008.000000     25.500000         100.0     900.685515   \n",
       "50%    1.388942e+07   2008.000000     51.000000         100.0    2403.244900   \n",
       "75%    4.027377e+07   2008.000000     75.500000         100.0    7515.420900   \n",
       "max    1.324655e+09   2011.000000    100.000000         100.0  176928.550000   \n",
       "\n",
       "             gdpppp  \n",
       "count  1.139900e+04  \n",
       "mean   5.022128e+04  \n",
       "std    4.000688e+05  \n",
       "min    3.031931e+02  \n",
       "25%    2.576000e+03  \n",
       "50%    7.560000e+03  \n",
       "75%    1.877300e+04  \n",
       "max    4.300332e+06  "
      ]
     },
     "metadata": {},
     "output_type": "display_data"
    },
    {
     "data": {
      "text/plain": [
       "Country Name    100\n",
       "Country Code    100\n",
       "2008            100\n",
       "country           0\n",
       "year_survey       0\n",
       "quantile          0\n",
       "nb_quantiles      0\n",
       "income            0\n",
       "gdpppp          200\n",
       "dtype: int64"
      ]
     },
     "metadata": {},
     "output_type": "display_data"
    }
   ],
   "source": [
    "display(df.head())\n",
    "display(df.info())\n",
    "display(df.describe())\n",
    "display(df.isna().sum())"
   ]
  },
  {
   "cell_type": "code",
   "execution_count": 415,
   "id": "9522f0f4",
   "metadata": {},
   "outputs": [],
   "source": [
    "df=df[['Country Name','country', '2008','quantile', 'income', 'gdpppp']]"
   ]
  },
  {
   "cell_type": "code",
   "execution_count": 416,
   "id": "67463a03",
   "metadata": {
    "scrolled": false
   },
   "outputs": [
    {
     "data": {
      "text/html": [
       "<div>\n",
       "<style scoped>\n",
       "    .dataframe tbody tr th:only-of-type {\n",
       "        vertical-align: middle;\n",
       "    }\n",
       "\n",
       "    .dataframe tbody tr th {\n",
       "        vertical-align: top;\n",
       "    }\n",
       "\n",
       "    .dataframe thead th {\n",
       "        text-align: right;\n",
       "    }\n",
       "</style>\n",
       "<table border=\"1\" class=\"dataframe\">\n",
       "  <thead>\n",
       "    <tr style=\"text-align: right;\">\n",
       "      <th></th>\n",
       "      <th>Country Name</th>\n",
       "      <th>country</th>\n",
       "      <th>2008</th>\n",
       "      <th>quantile</th>\n",
       "      <th>income</th>\n",
       "      <th>gdpppp</th>\n",
       "    </tr>\n",
       "  </thead>\n",
       "  <tbody>\n",
       "    <tr>\n",
       "      <th>0</th>\n",
       "      <td>Albania</td>\n",
       "      <td>ALB</td>\n",
       "      <td>2947314.0</td>\n",
       "      <td>1</td>\n",
       "      <td>728.89795</td>\n",
       "      <td>7297.0</td>\n",
       "    </tr>\n",
       "    <tr>\n",
       "      <th>1</th>\n",
       "      <td>Albania</td>\n",
       "      <td>ALB</td>\n",
       "      <td>2947314.0</td>\n",
       "      <td>2</td>\n",
       "      <td>916.66235</td>\n",
       "      <td>7297.0</td>\n",
       "    </tr>\n",
       "    <tr>\n",
       "      <th>2</th>\n",
       "      <td>Albania</td>\n",
       "      <td>ALB</td>\n",
       "      <td>2947314.0</td>\n",
       "      <td>3</td>\n",
       "      <td>1010.91600</td>\n",
       "      <td>7297.0</td>\n",
       "    </tr>\n",
       "    <tr>\n",
       "      <th>3</th>\n",
       "      <td>Albania</td>\n",
       "      <td>ALB</td>\n",
       "      <td>2947314.0</td>\n",
       "      <td>4</td>\n",
       "      <td>1086.90780</td>\n",
       "      <td>7297.0</td>\n",
       "    </tr>\n",
       "    <tr>\n",
       "      <th>4</th>\n",
       "      <td>Albania</td>\n",
       "      <td>ALB</td>\n",
       "      <td>2947314.0</td>\n",
       "      <td>5</td>\n",
       "      <td>1132.69970</td>\n",
       "      <td>7297.0</td>\n",
       "    </tr>\n",
       "  </tbody>\n",
       "</table>\n",
       "</div>"
      ],
      "text/plain": [
       "  Country Name country       2008  quantile      income  gdpppp\n",
       "0      Albania     ALB  2947314.0         1   728.89795  7297.0\n",
       "1      Albania     ALB  2947314.0         2   916.66235  7297.0\n",
       "2      Albania     ALB  2947314.0         3  1010.91600  7297.0\n",
       "3      Albania     ALB  2947314.0         4  1086.90780  7297.0\n",
       "4      Albania     ALB  2947314.0         5  1132.69970  7297.0"
      ]
     },
     "execution_count": 416,
     "metadata": {},
     "output_type": "execute_result"
    }
   ],
   "source": [
    "df.head()"
   ]
  },
  {
   "cell_type": "markdown",
   "id": "187a6586",
   "metadata": {},
   "source": [
    "### Re-naming headers"
   ]
  },
  {
   "cell_type": "code",
   "execution_count": 417,
   "id": "7f1133aa",
   "metadata": {},
   "outputs": [],
   "source": [
    "df.columns = ['country_name', 'country_code', 'population', 'quantile', 'income', 'gdp_ppp']"
   ]
  },
  {
   "cell_type": "markdown",
   "id": "0a02ad17",
   "metadata": {},
   "source": [
    "### Replacing missing population values"
   ]
  },
  {
   "cell_type": "markdown",
   "id": "311e96e0",
   "metadata": {},
   "source": [
    "Let's first add Taiwan's (TWN) population which in 2008 was 23,037,000"
   ]
  },
  {
   "cell_type": "code",
   "execution_count": 418,
   "id": "e6ba8408",
   "metadata": {},
   "outputs": [
    {
     "data": {
      "text/html": [
       "<div>\n",
       "<style scoped>\n",
       "    .dataframe tbody tr th:only-of-type {\n",
       "        vertical-align: middle;\n",
       "    }\n",
       "\n",
       "    .dataframe tbody tr th {\n",
       "        vertical-align: top;\n",
       "    }\n",
       "\n",
       "    .dataframe thead th {\n",
       "        text-align: right;\n",
       "    }\n",
       "</style>\n",
       "<table border=\"1\" class=\"dataframe\">\n",
       "  <thead>\n",
       "    <tr style=\"text-align: right;\">\n",
       "      <th></th>\n",
       "      <th>country_name</th>\n",
       "      <th>country_code</th>\n",
       "      <th>population</th>\n",
       "      <th>quantile</th>\n",
       "      <th>income</th>\n",
       "      <th>gdp_ppp</th>\n",
       "    </tr>\n",
       "  </thead>\n",
       "  <tbody>\n",
       "    <tr>\n",
       "      <th>10399</th>\n",
       "      <td>NaN</td>\n",
       "      <td>TWN</td>\n",
       "      <td>NaN</td>\n",
       "      <td>1</td>\n",
       "      <td>3477.1800</td>\n",
       "      <td>25342.0</td>\n",
       "    </tr>\n",
       "    <tr>\n",
       "      <th>10400</th>\n",
       "      <td>NaN</td>\n",
       "      <td>TWN</td>\n",
       "      <td>NaN</td>\n",
       "      <td>2</td>\n",
       "      <td>4740.2637</td>\n",
       "      <td>25342.0</td>\n",
       "    </tr>\n",
       "    <tr>\n",
       "      <th>10401</th>\n",
       "      <td>NaN</td>\n",
       "      <td>TWN</td>\n",
       "      <td>NaN</td>\n",
       "      <td>3</td>\n",
       "      <td>5331.3013</td>\n",
       "      <td>25342.0</td>\n",
       "    </tr>\n",
       "    <tr>\n",
       "      <th>10402</th>\n",
       "      <td>NaN</td>\n",
       "      <td>TWN</td>\n",
       "      <td>NaN</td>\n",
       "      <td>4</td>\n",
       "      <td>5761.6577</td>\n",
       "      <td>25342.0</td>\n",
       "    </tr>\n",
       "    <tr>\n",
       "      <th>10403</th>\n",
       "      <td>NaN</td>\n",
       "      <td>TWN</td>\n",
       "      <td>NaN</td>\n",
       "      <td>5</td>\n",
       "      <td>6093.2017</td>\n",
       "      <td>25342.0</td>\n",
       "    </tr>\n",
       "  </tbody>\n",
       "</table>\n",
       "</div>"
      ],
      "text/plain": [
       "      country_name country_code  population  quantile     income  gdp_ppp\n",
       "10399          NaN          TWN         NaN         1  3477.1800  25342.0\n",
       "10400          NaN          TWN         NaN         2  4740.2637  25342.0\n",
       "10401          NaN          TWN         NaN         3  5331.3013  25342.0\n",
       "10402          NaN          TWN         NaN         4  5761.6577  25342.0\n",
       "10403          NaN          TWN         NaN         5  6093.2017  25342.0"
      ]
     },
     "execution_count": 418,
     "metadata": {},
     "output_type": "execute_result"
    }
   ],
   "source": [
    "df[df['country_code'] == 'TWN'].head()"
   ]
  },
  {
   "cell_type": "code",
   "execution_count": 419,
   "id": "09dda3ac",
   "metadata": {},
   "outputs": [],
   "source": [
    "# Adding country name \n",
    "df.loc[df['country_code'] == 'TWN', 'country_name'] = 'Taiwan'\n",
    "\n",
    "# Adding population value\n",
    "df.loc[df['country_code'] == 'TWN', 'population'] = 23037000\n"
   ]
  },
  {
   "cell_type": "code",
   "execution_count": 420,
   "id": "da0ad7f2",
   "metadata": {
    "scrolled": true
   },
   "outputs": [
    {
     "data": {
      "text/html": [
       "<div>\n",
       "<style scoped>\n",
       "    .dataframe tbody tr th:only-of-type {\n",
       "        vertical-align: middle;\n",
       "    }\n",
       "\n",
       "    .dataframe tbody tr th {\n",
       "        vertical-align: top;\n",
       "    }\n",
       "\n",
       "    .dataframe thead th {\n",
       "        text-align: right;\n",
       "    }\n",
       "</style>\n",
       "<table border=\"1\" class=\"dataframe\">\n",
       "  <thead>\n",
       "    <tr style=\"text-align: right;\">\n",
       "      <th></th>\n",
       "      <th>country_name</th>\n",
       "      <th>country_code</th>\n",
       "      <th>population</th>\n",
       "      <th>quantile</th>\n",
       "      <th>income</th>\n",
       "      <th>gdp_ppp</th>\n",
       "    </tr>\n",
       "  </thead>\n",
       "  <tbody>\n",
       "    <tr>\n",
       "      <th>10399</th>\n",
       "      <td>Taiwan</td>\n",
       "      <td>TWN</td>\n",
       "      <td>23037000.0</td>\n",
       "      <td>1</td>\n",
       "      <td>3477.1800</td>\n",
       "      <td>25342.0</td>\n",
       "    </tr>\n",
       "    <tr>\n",
       "      <th>10400</th>\n",
       "      <td>Taiwan</td>\n",
       "      <td>TWN</td>\n",
       "      <td>23037000.0</td>\n",
       "      <td>2</td>\n",
       "      <td>4740.2637</td>\n",
       "      <td>25342.0</td>\n",
       "    </tr>\n",
       "    <tr>\n",
       "      <th>10401</th>\n",
       "      <td>Taiwan</td>\n",
       "      <td>TWN</td>\n",
       "      <td>23037000.0</td>\n",
       "      <td>3</td>\n",
       "      <td>5331.3013</td>\n",
       "      <td>25342.0</td>\n",
       "    </tr>\n",
       "    <tr>\n",
       "      <th>10402</th>\n",
       "      <td>Taiwan</td>\n",
       "      <td>TWN</td>\n",
       "      <td>23037000.0</td>\n",
       "      <td>4</td>\n",
       "      <td>5761.6577</td>\n",
       "      <td>25342.0</td>\n",
       "    </tr>\n",
       "    <tr>\n",
       "      <th>10403</th>\n",
       "      <td>Taiwan</td>\n",
       "      <td>TWN</td>\n",
       "      <td>23037000.0</td>\n",
       "      <td>5</td>\n",
       "      <td>6093.2017</td>\n",
       "      <td>25342.0</td>\n",
       "    </tr>\n",
       "  </tbody>\n",
       "</table>\n",
       "</div>"
      ],
      "text/plain": [
       "      country_name country_code  population  quantile     income  gdp_ppp\n",
       "10399       Taiwan          TWN  23037000.0         1  3477.1800  25342.0\n",
       "10400       Taiwan          TWN  23037000.0         2  4740.2637  25342.0\n",
       "10401       Taiwan          TWN  23037000.0         3  5331.3013  25342.0\n",
       "10402       Taiwan          TWN  23037000.0         4  5761.6577  25342.0\n",
       "10403       Taiwan          TWN  23037000.0         5  6093.2017  25342.0"
      ]
     },
     "execution_count": 420,
     "metadata": {},
     "output_type": "execute_result"
    }
   ],
   "source": [
    "#Checking if it worked\n",
    "df[df['country_code'] == 'TWN'].head()"
   ]
  },
  {
   "cell_type": "markdown",
   "id": "61e7e3d5",
   "metadata": {},
   "source": [
    "### Replacing missing gdp ppp values"
   ]
  },
  {
   "cell_type": "markdown",
   "id": "50e7a778",
   "metadata": {},
   "source": [
    "Lets add the missing data for PSE and XKX \n",
    "\n",
    "Palestine's gdp ppp is 3,950 in 2009 according to the Word Bank\n",
    "https://data.worldbank.org/indicator/NY.GDP.PCAP.PP.CD?locations=PS\n",
    "\n",
    "XKX's gdp ppp 6,863 in 2009\n",
    "https://data.worldbank.org/indicator/NY.GDP.PCAP.PP.CD?locations=XK"
   ]
  },
  {
   "cell_type": "code",
   "execution_count": 421,
   "id": "966ef734",
   "metadata": {
    "scrolled": true
   },
   "outputs": [
    {
     "data": {
      "text/html": [
       "<div>\n",
       "<style scoped>\n",
       "    .dataframe tbody tr th:only-of-type {\n",
       "        vertical-align: middle;\n",
       "    }\n",
       "\n",
       "    .dataframe tbody tr th {\n",
       "        vertical-align: top;\n",
       "    }\n",
       "\n",
       "    .dataframe thead th {\n",
       "        text-align: right;\n",
       "    }\n",
       "</style>\n",
       "<table border=\"1\" class=\"dataframe\">\n",
       "  <thead>\n",
       "    <tr style=\"text-align: right;\">\n",
       "      <th></th>\n",
       "      <th>country_name</th>\n",
       "      <th>country_code</th>\n",
       "      <th>population</th>\n",
       "      <th>quantile</th>\n",
       "      <th>income</th>\n",
       "      <th>gdp_ppp</th>\n",
       "    </tr>\n",
       "  </thead>\n",
       "  <tbody>\n",
       "    <tr>\n",
       "      <th>11199</th>\n",
       "      <td>West Bank and Gaza</td>\n",
       "      <td>PSE</td>\n",
       "      <td>3591977.0</td>\n",
       "      <td>1</td>\n",
       "      <td>195.28990</td>\n",
       "      <td>NaN</td>\n",
       "    </tr>\n",
       "    <tr>\n",
       "      <th>11200</th>\n",
       "      <td>West Bank and Gaza</td>\n",
       "      <td>PSE</td>\n",
       "      <td>3591977.0</td>\n",
       "      <td>2</td>\n",
       "      <td>264.36533</td>\n",
       "      <td>NaN</td>\n",
       "    </tr>\n",
       "    <tr>\n",
       "      <th>11201</th>\n",
       "      <td>West Bank and Gaza</td>\n",
       "      <td>PSE</td>\n",
       "      <td>3591977.0</td>\n",
       "      <td>3</td>\n",
       "      <td>301.44672</td>\n",
       "      <td>NaN</td>\n",
       "    </tr>\n",
       "    <tr>\n",
       "      <th>11202</th>\n",
       "      <td>West Bank and Gaza</td>\n",
       "      <td>PSE</td>\n",
       "      <td>3591977.0</td>\n",
       "      <td>4</td>\n",
       "      <td>329.83392</td>\n",
       "      <td>NaN</td>\n",
       "    </tr>\n",
       "    <tr>\n",
       "      <th>11203</th>\n",
       "      <td>West Bank and Gaza</td>\n",
       "      <td>PSE</td>\n",
       "      <td>3591977.0</td>\n",
       "      <td>5</td>\n",
       "      <td>348.76495</td>\n",
       "      <td>NaN</td>\n",
       "    </tr>\n",
       "  </tbody>\n",
       "</table>\n",
       "</div>"
      ],
      "text/plain": [
       "             country_name country_code  population  quantile     income  \\\n",
       "11199  West Bank and Gaza          PSE   3591977.0         1  195.28990   \n",
       "11200  West Bank and Gaza          PSE   3591977.0         2  264.36533   \n",
       "11201  West Bank and Gaza          PSE   3591977.0         3  301.44672   \n",
       "11202  West Bank and Gaza          PSE   3591977.0         4  329.83392   \n",
       "11203  West Bank and Gaza          PSE   3591977.0         5  348.76495   \n",
       "\n",
       "       gdp_ppp  \n",
       "11199      NaN  \n",
       "11200      NaN  \n",
       "11201      NaN  \n",
       "11202      NaN  \n",
       "11203      NaN  "
      ]
     },
     "execution_count": 421,
     "metadata": {},
     "output_type": "execute_result"
    }
   ],
   "source": [
    "df[df['country_code'] == 'PSE'].head()"
   ]
  },
  {
   "cell_type": "code",
   "execution_count": 422,
   "id": "46562f83",
   "metadata": {},
   "outputs": [],
   "source": [
    "# Adding gdp_ppp value\n",
    "df.loc[df['country_code'] == 'PSE', 'gdp_ppp'] = 3950"
   ]
  },
  {
   "cell_type": "code",
   "execution_count": 423,
   "id": "7fa7fc87",
   "metadata": {},
   "outputs": [
    {
     "data": {
      "text/html": [
       "<div>\n",
       "<style scoped>\n",
       "    .dataframe tbody tr th:only-of-type {\n",
       "        vertical-align: middle;\n",
       "    }\n",
       "\n",
       "    .dataframe tbody tr th {\n",
       "        vertical-align: top;\n",
       "    }\n",
       "\n",
       "    .dataframe thead th {\n",
       "        text-align: right;\n",
       "    }\n",
       "</style>\n",
       "<table border=\"1\" class=\"dataframe\">\n",
       "  <thead>\n",
       "    <tr style=\"text-align: right;\">\n",
       "      <th></th>\n",
       "      <th>country_name</th>\n",
       "      <th>country_code</th>\n",
       "      <th>population</th>\n",
       "      <th>quantile</th>\n",
       "      <th>income</th>\n",
       "      <th>gdp_ppp</th>\n",
       "    </tr>\n",
       "  </thead>\n",
       "  <tbody>\n",
       "    <tr>\n",
       "      <th>11199</th>\n",
       "      <td>West Bank and Gaza</td>\n",
       "      <td>PSE</td>\n",
       "      <td>3591977.0</td>\n",
       "      <td>1</td>\n",
       "      <td>195.28990</td>\n",
       "      <td>3950.0</td>\n",
       "    </tr>\n",
       "    <tr>\n",
       "      <th>11200</th>\n",
       "      <td>West Bank and Gaza</td>\n",
       "      <td>PSE</td>\n",
       "      <td>3591977.0</td>\n",
       "      <td>2</td>\n",
       "      <td>264.36533</td>\n",
       "      <td>3950.0</td>\n",
       "    </tr>\n",
       "    <tr>\n",
       "      <th>11201</th>\n",
       "      <td>West Bank and Gaza</td>\n",
       "      <td>PSE</td>\n",
       "      <td>3591977.0</td>\n",
       "      <td>3</td>\n",
       "      <td>301.44672</td>\n",
       "      <td>3950.0</td>\n",
       "    </tr>\n",
       "    <tr>\n",
       "      <th>11202</th>\n",
       "      <td>West Bank and Gaza</td>\n",
       "      <td>PSE</td>\n",
       "      <td>3591977.0</td>\n",
       "      <td>4</td>\n",
       "      <td>329.83392</td>\n",
       "      <td>3950.0</td>\n",
       "    </tr>\n",
       "    <tr>\n",
       "      <th>11203</th>\n",
       "      <td>West Bank and Gaza</td>\n",
       "      <td>PSE</td>\n",
       "      <td>3591977.0</td>\n",
       "      <td>5</td>\n",
       "      <td>348.76495</td>\n",
       "      <td>3950.0</td>\n",
       "    </tr>\n",
       "  </tbody>\n",
       "</table>\n",
       "</div>"
      ],
      "text/plain": [
       "             country_name country_code  population  quantile     income  \\\n",
       "11199  West Bank and Gaza          PSE   3591977.0         1  195.28990   \n",
       "11200  West Bank and Gaza          PSE   3591977.0         2  264.36533   \n",
       "11201  West Bank and Gaza          PSE   3591977.0         3  301.44672   \n",
       "11202  West Bank and Gaza          PSE   3591977.0         4  329.83392   \n",
       "11203  West Bank and Gaza          PSE   3591977.0         5  348.76495   \n",
       "\n",
       "       gdp_ppp  \n",
       "11199   3950.0  \n",
       "11200   3950.0  \n",
       "11201   3950.0  \n",
       "11202   3950.0  \n",
       "11203   3950.0  "
      ]
     },
     "execution_count": 423,
     "metadata": {},
     "output_type": "execute_result"
    }
   ],
   "source": [
    "#Checking if it worked\n",
    "df[df['country_code'] == 'PSE'].head()"
   ]
  },
  {
   "cell_type": "code",
   "execution_count": 424,
   "id": "b461555d",
   "metadata": {},
   "outputs": [
    {
     "data": {
      "text/html": [
       "<div>\n",
       "<style scoped>\n",
       "    .dataframe tbody tr th:only-of-type {\n",
       "        vertical-align: middle;\n",
       "    }\n",
       "\n",
       "    .dataframe tbody tr th {\n",
       "        vertical-align: top;\n",
       "    }\n",
       "\n",
       "    .dataframe thead th {\n",
       "        text-align: right;\n",
       "    }\n",
       "</style>\n",
       "<table border=\"1\" class=\"dataframe\">\n",
       "  <thead>\n",
       "    <tr style=\"text-align: right;\">\n",
       "      <th></th>\n",
       "      <th>country_name</th>\n",
       "      <th>country_code</th>\n",
       "      <th>population</th>\n",
       "      <th>quantile</th>\n",
       "      <th>income</th>\n",
       "      <th>gdp_ppp</th>\n",
       "    </tr>\n",
       "  </thead>\n",
       "  <tbody>\n",
       "    <tr>\n",
       "      <th>5800</th>\n",
       "      <td>Kosovo</td>\n",
       "      <td>XKX</td>\n",
       "      <td>1747383.0</td>\n",
       "      <td>1</td>\n",
       "      <td>437.89370</td>\n",
       "      <td>NaN</td>\n",
       "    </tr>\n",
       "    <tr>\n",
       "      <th>5801</th>\n",
       "      <td>Kosovo</td>\n",
       "      <td>XKX</td>\n",
       "      <td>1747383.0</td>\n",
       "      <td>2</td>\n",
       "      <td>508.17133</td>\n",
       "      <td>NaN</td>\n",
       "    </tr>\n",
       "    <tr>\n",
       "      <th>5802</th>\n",
       "      <td>Kosovo</td>\n",
       "      <td>XKX</td>\n",
       "      <td>1747383.0</td>\n",
       "      <td>3</td>\n",
       "      <td>591.82820</td>\n",
       "      <td>NaN</td>\n",
       "    </tr>\n",
       "    <tr>\n",
       "      <th>5803</th>\n",
       "      <td>Kosovo</td>\n",
       "      <td>XKX</td>\n",
       "      <td>1747383.0</td>\n",
       "      <td>4</td>\n",
       "      <td>668.00000</td>\n",
       "      <td>NaN</td>\n",
       "    </tr>\n",
       "    <tr>\n",
       "      <th>5804</th>\n",
       "      <td>Kosovo</td>\n",
       "      <td>XKX</td>\n",
       "      <td>1747383.0</td>\n",
       "      <td>5</td>\n",
       "      <td>730.40220</td>\n",
       "      <td>NaN</td>\n",
       "    </tr>\n",
       "  </tbody>\n",
       "</table>\n",
       "</div>"
      ],
      "text/plain": [
       "     country_name country_code  population  quantile     income  gdp_ppp\n",
       "5800       Kosovo          XKX   1747383.0         1  437.89370      NaN\n",
       "5801       Kosovo          XKX   1747383.0         2  508.17133      NaN\n",
       "5802       Kosovo          XKX   1747383.0         3  591.82820      NaN\n",
       "5803       Kosovo          XKX   1747383.0         4  668.00000      NaN\n",
       "5804       Kosovo          XKX   1747383.0         5  730.40220      NaN"
      ]
     },
     "execution_count": 424,
     "metadata": {},
     "output_type": "execute_result"
    }
   ],
   "source": [
    "# Now let's do Republic of Kosovo\n",
    "df[df['country_code'] == 'XKX'].head()"
   ]
  },
  {
   "cell_type": "code",
   "execution_count": 425,
   "id": "30d74b1e",
   "metadata": {},
   "outputs": [],
   "source": [
    "# Adding country name \n",
    "df.loc[df['country_code'] == 'XKX', 'country_name'] = 'Republic of Kosovo'\n",
    "\n",
    "# Adding population value\n",
    "df.loc[df['country_code'] == 'XKX', 'gdp_ppp'] = 6863"
   ]
  },
  {
   "cell_type": "code",
   "execution_count": 426,
   "id": "016bd284",
   "metadata": {
    "scrolled": false
   },
   "outputs": [
    {
     "data": {
      "text/html": [
       "<div>\n",
       "<style scoped>\n",
       "    .dataframe tbody tr th:only-of-type {\n",
       "        vertical-align: middle;\n",
       "    }\n",
       "\n",
       "    .dataframe tbody tr th {\n",
       "        vertical-align: top;\n",
       "    }\n",
       "\n",
       "    .dataframe thead th {\n",
       "        text-align: right;\n",
       "    }\n",
       "</style>\n",
       "<table border=\"1\" class=\"dataframe\">\n",
       "  <thead>\n",
       "    <tr style=\"text-align: right;\">\n",
       "      <th></th>\n",
       "      <th>country_name</th>\n",
       "      <th>country_code</th>\n",
       "      <th>population</th>\n",
       "      <th>quantile</th>\n",
       "      <th>income</th>\n",
       "      <th>gdp_ppp</th>\n",
       "    </tr>\n",
       "  </thead>\n",
       "  <tbody>\n",
       "    <tr>\n",
       "      <th>5800</th>\n",
       "      <td>Republic of Kosovo</td>\n",
       "      <td>XKX</td>\n",
       "      <td>1747383.0</td>\n",
       "      <td>1</td>\n",
       "      <td>437.89370</td>\n",
       "      <td>6863.0</td>\n",
       "    </tr>\n",
       "    <tr>\n",
       "      <th>5801</th>\n",
       "      <td>Republic of Kosovo</td>\n",
       "      <td>XKX</td>\n",
       "      <td>1747383.0</td>\n",
       "      <td>2</td>\n",
       "      <td>508.17133</td>\n",
       "      <td>6863.0</td>\n",
       "    </tr>\n",
       "    <tr>\n",
       "      <th>5802</th>\n",
       "      <td>Republic of Kosovo</td>\n",
       "      <td>XKX</td>\n",
       "      <td>1747383.0</td>\n",
       "      <td>3</td>\n",
       "      <td>591.82820</td>\n",
       "      <td>6863.0</td>\n",
       "    </tr>\n",
       "    <tr>\n",
       "      <th>5803</th>\n",
       "      <td>Republic of Kosovo</td>\n",
       "      <td>XKX</td>\n",
       "      <td>1747383.0</td>\n",
       "      <td>4</td>\n",
       "      <td>668.00000</td>\n",
       "      <td>6863.0</td>\n",
       "    </tr>\n",
       "    <tr>\n",
       "      <th>5804</th>\n",
       "      <td>Republic of Kosovo</td>\n",
       "      <td>XKX</td>\n",
       "      <td>1747383.0</td>\n",
       "      <td>5</td>\n",
       "      <td>730.40220</td>\n",
       "      <td>6863.0</td>\n",
       "    </tr>\n",
       "  </tbody>\n",
       "</table>\n",
       "</div>"
      ],
      "text/plain": [
       "            country_name country_code  population  quantile     income  \\\n",
       "5800  Republic of Kosovo          XKX   1747383.0         1  437.89370   \n",
       "5801  Republic of Kosovo          XKX   1747383.0         2  508.17133   \n",
       "5802  Republic of Kosovo          XKX   1747383.0         3  591.82820   \n",
       "5803  Republic of Kosovo          XKX   1747383.0         4  668.00000   \n",
       "5804  Republic of Kosovo          XKX   1747383.0         5  730.40220   \n",
       "\n",
       "      gdp_ppp  \n",
       "5800   6863.0  \n",
       "5801   6863.0  \n",
       "5802   6863.0  \n",
       "5803   6863.0  \n",
       "5804   6863.0  "
      ]
     },
     "execution_count": 426,
     "metadata": {},
     "output_type": "execute_result"
    }
   ],
   "source": [
    "#Checking\n",
    "df[df['country_code'] == 'XKX'].head()"
   ]
  },
  {
   "cell_type": "markdown",
   "id": "eb2025be",
   "metadata": {},
   "source": [
    "### GDP PPP"
   ]
  },
  {
   "cell_type": "markdown",
   "id": "6d1622a2",
   "metadata": {},
   "source": [
    "There seems to be an outlier within the gdp ppp values. "
   ]
  },
  {
   "cell_type": "code",
   "execution_count": 427,
   "id": "6b7bb6c9",
   "metadata": {
    "scrolled": false
   },
   "outputs": [
    {
     "data": {
      "text/plain": [
       "<Axes: >"
      ]
     },
     "execution_count": 427,
     "metadata": {},
     "output_type": "execute_result"
    },
    {
     "data": {
      "image/png": "[encoded data removed]",
      "text/plain": [
       "<Figure size 640x480 with 1 Axes>"
      ]
     },
     "metadata": {},
     "output_type": "display_data"
    }
   ],
   "source": [
    "df.boxplot(column='gdp_ppp')"
   ]
  },
  {
   "cell_type": "markdown",
   "id": "4f76597e",
   "metadata": {},
   "source": [
    "Top 5 countries according to gdp"
   ]
  },
  {
   "cell_type": "code",
   "execution_count": 428,
   "id": "79409253",
   "metadata": {
    "scrolled": true
   },
   "outputs": [
    {
     "data": {
      "text/html": [
       "<div>\n",
       "<style scoped>\n",
       "    .dataframe tbody tr th:only-of-type {\n",
       "        vertical-align: middle;\n",
       "    }\n",
       "\n",
       "    .dataframe tbody tr th {\n",
       "        vertical-align: top;\n",
       "    }\n",
       "\n",
       "    .dataframe thead th {\n",
       "        text-align: right;\n",
       "    }\n",
       "</style>\n",
       "<table border=\"1\" class=\"dataframe\">\n",
       "  <thead>\n",
       "    <tr style=\"text-align: right;\">\n",
       "      <th></th>\n",
       "      <th>country_code</th>\n",
       "      <th>population</th>\n",
       "      <th>quantile</th>\n",
       "      <th>income</th>\n",
       "      <th>gdp_ppp</th>\n",
       "    </tr>\n",
       "    <tr>\n",
       "      <th>country_name</th>\n",
       "      <th></th>\n",
       "      <th></th>\n",
       "      <th></th>\n",
       "      <th></th>\n",
       "      <th></th>\n",
       "    </tr>\n",
       "  </thead>\n",
       "  <tbody>\n",
       "    <tr>\n",
       "      <th>Fiji</th>\n",
       "      <td>FJI</td>\n",
       "      <td>896731.0</td>\n",
       "      <td>1</td>\n",
       "      <td>308.17334</td>\n",
       "      <td>4300332.0</td>\n",
       "    </tr>\n",
       "    <tr>\n",
       "      <th>Luxembourg</th>\n",
       "      <td>LUX</td>\n",
       "      <td>488650.0</td>\n",
       "      <td>1</td>\n",
       "      <td>5780.83740</td>\n",
       "      <td>73127.0</td>\n",
       "    </tr>\n",
       "    <tr>\n",
       "      <th>Norway</th>\n",
       "      <td>NOR</td>\n",
       "      <td>4768212.0</td>\n",
       "      <td>1</td>\n",
       "      <td>3520.26150</td>\n",
       "      <td>49070.0</td>\n",
       "    </tr>\n",
       "    <tr>\n",
       "      <th>United States</th>\n",
       "      <td>USA</td>\n",
       "      <td>304093966.0</td>\n",
       "      <td>1</td>\n",
       "      <td>663.47610</td>\n",
       "      <td>43261.0</td>\n",
       "    </tr>\n",
       "    <tr>\n",
       "      <th>Ireland</th>\n",
       "      <td>IRL</td>\n",
       "      <td>4489544.0</td>\n",
       "      <td>1</td>\n",
       "      <td>2819.13500</td>\n",
       "      <td>39268.0</td>\n",
       "    </tr>\n",
       "  </tbody>\n",
       "</table>\n",
       "</div>"
      ],
      "text/plain": [
       "              country_code   population  quantile      income    gdp_ppp\n",
       "country_name                                                            \n",
       "Fiji                   FJI     896731.0         1   308.17334  4300332.0\n",
       "Luxembourg             LUX     488650.0         1  5780.83740    73127.0\n",
       "Norway                 NOR    4768212.0         1  3520.26150    49070.0\n",
       "United States          USA  304093966.0         1   663.47610    43261.0\n",
       "Ireland                IRL    4489544.0         1  2819.13500    39268.0"
      ]
     },
     "execution_count": 428,
     "metadata": {},
     "output_type": "execute_result"
    }
   ],
   "source": [
    "df.groupby('country_name').first().nlargest(5,'gdp_ppp')"
   ]
  },
  {
   "cell_type": "markdown",
   "id": "53e06574",
   "metadata": {},
   "source": [
    "Seems like there was a typo in Fiji's gdp ppp. After consulting the wold bank website I believe the value is supposed to be 4,300. "
   ]
  },
  {
   "cell_type": "code",
   "execution_count": 429,
   "id": "02e59afd",
   "metadata": {},
   "outputs": [],
   "source": [
    "df.loc[df['country_code']== 'FJI','gdp_ppp'] = 4300"
   ]
  },
  {
   "cell_type": "markdown",
   "id": "17673d5f",
   "metadata": {},
   "source": [
    "Checking the histogram of values again:"
   ]
  },
  {
   "cell_type": "code",
   "execution_count": 430,
   "id": "0bb0a4b4",
   "metadata": {},
   "outputs": [
    {
     "data": {
      "text/plain": [
       "<Axes: >"
      ]
     },
     "execution_count": 430,
     "metadata": {},
     "output_type": "execute_result"
    },
    {
     "data": {
      "image/png": "[encoded data removed]",
      "text/plain": [
       "<Figure size 640x480 with 1 Axes>"
      ]
     },
     "metadata": {},
     "output_type": "display_data"
    }
   ],
   "source": [
    "df['gdp_ppp'].hist()"
   ]
  },
  {
   "cell_type": "markdown",
   "id": "ba67cdc6",
   "metadata": {},
   "source": [
    "Bottom 5 countries according to gdp"
   ]
  },
  {
   "cell_type": "code",
   "execution_count": 431,
   "id": "56171640",
   "metadata": {
    "scrolled": true
   },
   "outputs": [
    {
     "data": {
      "text/html": [
       "<div>\n",
       "<style scoped>\n",
       "    .dataframe tbody tr th:only-of-type {\n",
       "        vertical-align: middle;\n",
       "    }\n",
       "\n",
       "    .dataframe tbody tr th {\n",
       "        vertical-align: top;\n",
       "    }\n",
       "\n",
       "    .dataframe thead th {\n",
       "        text-align: right;\n",
       "    }\n",
       "</style>\n",
       "<table border=\"1\" class=\"dataframe\">\n",
       "  <thead>\n",
       "    <tr style=\"text-align: right;\">\n",
       "      <th></th>\n",
       "      <th>country_code</th>\n",
       "      <th>population</th>\n",
       "      <th>quantile</th>\n",
       "      <th>income</th>\n",
       "      <th>gdp_ppp</th>\n",
       "    </tr>\n",
       "    <tr>\n",
       "      <th>country_name</th>\n",
       "      <th></th>\n",
       "      <th></th>\n",
       "      <th></th>\n",
       "      <th></th>\n",
       "      <th></th>\n",
       "    </tr>\n",
       "  </thead>\n",
       "  <tbody>\n",
       "    <tr>\n",
       "      <th>Congo, Dem. Rep.</th>\n",
       "      <td>COD</td>\n",
       "      <td>62249724.0</td>\n",
       "      <td>1</td>\n",
       "      <td>29.364283</td>\n",
       "      <td>303.19305</td>\n",
       "    </tr>\n",
       "    <tr>\n",
       "      <th>Liberia</th>\n",
       "      <td>LBR</td>\n",
       "      <td>3783887.0</td>\n",
       "      <td>1</td>\n",
       "      <td>37.782673</td>\n",
       "      <td>372.00000</td>\n",
       "    </tr>\n",
       "    <tr>\n",
       "      <th>Niger</th>\n",
       "      <td>NER</td>\n",
       "      <td>15455175.0</td>\n",
       "      <td>1</td>\n",
       "      <td>137.395310</td>\n",
       "      <td>631.00000</td>\n",
       "    </tr>\n",
       "    <tr>\n",
       "      <th>Central African Republic</th>\n",
       "      <td>CAF</td>\n",
       "      <td>4467233.0</td>\n",
       "      <td>1</td>\n",
       "      <td>40.928130</td>\n",
       "      <td>685.00000</td>\n",
       "    </tr>\n",
       "    <tr>\n",
       "      <th>Malawi</th>\n",
       "      <td>MWI</td>\n",
       "      <td>13889423.0</td>\n",
       "      <td>1</td>\n",
       "      <td>115.632480</td>\n",
       "      <td>728.81158</td>\n",
       "    </tr>\n",
       "  </tbody>\n",
       "</table>\n",
       "</div>"
      ],
      "text/plain": [
       "                         country_code  population  quantile      income  \\\n",
       "country_name                                                              \n",
       "Congo, Dem. Rep.                  COD  62249724.0         1   29.364283   \n",
       "Liberia                           LBR   3783887.0         1   37.782673   \n",
       "Niger                             NER  15455175.0         1  137.395310   \n",
       "Central African Republic          CAF   4467233.0         1   40.928130   \n",
       "Malawi                            MWI  13889423.0         1  115.632480   \n",
       "\n",
       "                            gdp_ppp  \n",
       "country_name                         \n",
       "Congo, Dem. Rep.          303.19305  \n",
       "Liberia                   372.00000  \n",
       "Niger                     631.00000  \n",
       "Central African Republic  685.00000  \n",
       "Malawi                    728.81158  "
      ]
     },
     "execution_count": 431,
     "metadata": {},
     "output_type": "execute_result"
    }
   ],
   "source": [
    "df.groupby('country_name').first().nsmallest(5,'gdp_ppp')"
   ]
  },
  {
   "cell_type": "markdown",
   "id": "a31cf5e8",
   "metadata": {},
   "source": [
    "These values seem correct."
   ]
  },
  {
   "cell_type": "markdown",
   "id": "0b6884ca",
   "metadata": {},
   "source": [
    "# Gini df"
   ]
  },
  {
   "cell_type": "code",
   "execution_count": 432,
   "id": "18fbc4f4",
   "metadata": {},
   "outputs": [],
   "source": [
    "gini = pd.read_csv('raw_data/gini.csv',skiprows=4)"
   ]
  },
  {
   "cell_type": "code",
   "execution_count": 433,
   "id": "de6663aa",
   "metadata": {
    "scrolled": true
   },
   "outputs": [
    {
     "data": {
      "text/html": [
       "<div>\n",
       "<style scoped>\n",
       "    .dataframe tbody tr th:only-of-type {\n",
       "        vertical-align: middle;\n",
       "    }\n",
       "\n",
       "    .dataframe tbody tr th {\n",
       "        vertical-align: top;\n",
       "    }\n",
       "\n",
       "    .dataframe thead th {\n",
       "        text-align: right;\n",
       "    }\n",
       "</style>\n",
       "<table border=\"1\" class=\"dataframe\">\n",
       "  <thead>\n",
       "    <tr style=\"text-align: right;\">\n",
       "      <th></th>\n",
       "      <th>Country Name</th>\n",
       "      <th>Country Code</th>\n",
       "      <th>Indicator Name</th>\n",
       "      <th>Indicator Code</th>\n",
       "      <th>1960</th>\n",
       "      <th>1961</th>\n",
       "      <th>1962</th>\n",
       "      <th>1963</th>\n",
       "      <th>1964</th>\n",
       "      <th>1965</th>\n",
       "      <th>...</th>\n",
       "      <th>2015</th>\n",
       "      <th>2016</th>\n",
       "      <th>2017</th>\n",
       "      <th>2018</th>\n",
       "      <th>2019</th>\n",
       "      <th>2020</th>\n",
       "      <th>2021</th>\n",
       "      <th>2022</th>\n",
       "      <th>2023</th>\n",
       "      <th>Unnamed: 68</th>\n",
       "    </tr>\n",
       "  </thead>\n",
       "  <tbody>\n",
       "    <tr>\n",
       "      <th>0</th>\n",
       "      <td>Aruba</td>\n",
       "      <td>ABW</td>\n",
       "      <td>Gini index</td>\n",
       "      <td>SI.POV.GINI</td>\n",
       "      <td>NaN</td>\n",
       "      <td>NaN</td>\n",
       "      <td>NaN</td>\n",
       "      <td>NaN</td>\n",
       "      <td>NaN</td>\n",
       "      <td>NaN</td>\n",
       "      <td>...</td>\n",
       "      <td>NaN</td>\n",
       "      <td>NaN</td>\n",
       "      <td>NaN</td>\n",
       "      <td>NaN</td>\n",
       "      <td>NaN</td>\n",
       "      <td>NaN</td>\n",
       "      <td>NaN</td>\n",
       "      <td>NaN</td>\n",
       "      <td>NaN</td>\n",
       "      <td>NaN</td>\n",
       "    </tr>\n",
       "    <tr>\n",
       "      <th>1</th>\n",
       "      <td>Africa Eastern and Southern</td>\n",
       "      <td>AFE</td>\n",
       "      <td>Gini index</td>\n",
       "      <td>SI.POV.GINI</td>\n",
       "      <td>NaN</td>\n",
       "      <td>NaN</td>\n",
       "      <td>NaN</td>\n",
       "      <td>NaN</td>\n",
       "      <td>NaN</td>\n",
       "      <td>NaN</td>\n",
       "      <td>...</td>\n",
       "      <td>NaN</td>\n",
       "      <td>NaN</td>\n",
       "      <td>NaN</td>\n",
       "      <td>NaN</td>\n",
       "      <td>NaN</td>\n",
       "      <td>NaN</td>\n",
       "      <td>NaN</td>\n",
       "      <td>NaN</td>\n",
       "      <td>NaN</td>\n",
       "      <td>NaN</td>\n",
       "    </tr>\n",
       "  </tbody>\n",
       "</table>\n",
       "<p>2 rows × 69 columns</p>\n",
       "</div>"
      ],
      "text/plain": [
       "                  Country Name Country Code Indicator Name Indicator Code  \\\n",
       "0                        Aruba          ABW     Gini index    SI.POV.GINI   \n",
       "1  Africa Eastern and Southern          AFE     Gini index    SI.POV.GINI   \n",
       "\n",
       "   1960  1961  1962  1963  1964  1965  ...  2015  2016  2017  2018  2019  \\\n",
       "0   NaN   NaN   NaN   NaN   NaN   NaN  ...   NaN   NaN   NaN   NaN   NaN   \n",
       "1   NaN   NaN   NaN   NaN   NaN   NaN  ...   NaN   NaN   NaN   NaN   NaN   \n",
       "\n",
       "   2020  2021  2022  2023  Unnamed: 68  \n",
       "0   NaN   NaN   NaN   NaN          NaN  \n",
       "1   NaN   NaN   NaN   NaN          NaN  \n",
       "\n",
       "[2 rows x 69 columns]"
      ]
     },
     "execution_count": 433,
     "metadata": {},
     "output_type": "execute_result"
    }
   ],
   "source": [
    "gini.head(2)"
   ]
  },
  {
   "cell_type": "markdown",
   "id": "3c11163e",
   "metadata": {},
   "source": [
    "## Cleaning"
   ]
  },
  {
   "cell_type": "code",
   "execution_count": 434,
   "id": "9a6add48",
   "metadata": {},
   "outputs": [
    {
     "data": {
      "text/html": [
       "<div>\n",
       "<style scoped>\n",
       "    .dataframe tbody tr th:only-of-type {\n",
       "        vertical-align: middle;\n",
       "    }\n",
       "\n",
       "    .dataframe tbody tr th {\n",
       "        vertical-align: top;\n",
       "    }\n",
       "\n",
       "    .dataframe thead th {\n",
       "        text-align: right;\n",
       "    }\n",
       "</style>\n",
       "<table border=\"1\" class=\"dataframe\">\n",
       "  <thead>\n",
       "    <tr style=\"text-align: right;\">\n",
       "      <th></th>\n",
       "      <th>country_name</th>\n",
       "      <th>gini</th>\n",
       "      <th>gini_year</th>\n",
       "    </tr>\n",
       "  </thead>\n",
       "  <tbody>\n",
       "    <tr>\n",
       "      <th>0</th>\n",
       "      <td>Aruba</td>\n",
       "      <td>NaN</td>\n",
       "      <td>None</td>\n",
       "    </tr>\n",
       "    <tr>\n",
       "      <th>1</th>\n",
       "      <td>Africa Eastern and Southern</td>\n",
       "      <td>NaN</td>\n",
       "      <td>None</td>\n",
       "    </tr>\n",
       "    <tr>\n",
       "      <th>2</th>\n",
       "      <td>Afghanistan</td>\n",
       "      <td>NaN</td>\n",
       "      <td>None</td>\n",
       "    </tr>\n",
       "    <tr>\n",
       "      <th>3</th>\n",
       "      <td>Africa Western and Central</td>\n",
       "      <td>NaN</td>\n",
       "      <td>None</td>\n",
       "    </tr>\n",
       "    <tr>\n",
       "      <th>4</th>\n",
       "      <td>Angola</td>\n",
       "      <td>42.7</td>\n",
       "      <td>2008</td>\n",
       "    </tr>\n",
       "    <tr>\n",
       "      <th>...</th>\n",
       "      <td>...</td>\n",
       "      <td>...</td>\n",
       "      <td>...</td>\n",
       "    </tr>\n",
       "    <tr>\n",
       "      <th>261</th>\n",
       "      <td>Kosovo</td>\n",
       "      <td>31.8</td>\n",
       "      <td>2009</td>\n",
       "    </tr>\n",
       "    <tr>\n",
       "      <th>262</th>\n",
       "      <td>Yemen, Rep.</td>\n",
       "      <td>34.7</td>\n",
       "      <td>2005</td>\n",
       "    </tr>\n",
       "    <tr>\n",
       "      <th>263</th>\n",
       "      <td>South Africa</td>\n",
       "      <td>63.0</td>\n",
       "      <td>2008</td>\n",
       "    </tr>\n",
       "    <tr>\n",
       "      <th>264</th>\n",
       "      <td>Zambia</td>\n",
       "      <td>54.6</td>\n",
       "      <td>2006</td>\n",
       "    </tr>\n",
       "    <tr>\n",
       "      <th>265</th>\n",
       "      <td>Zimbabwe</td>\n",
       "      <td>43.2</td>\n",
       "      <td>2011</td>\n",
       "    </tr>\n",
       "  </tbody>\n",
       "</table>\n",
       "<p>266 rows × 3 columns</p>\n",
       "</div>"
      ],
      "text/plain": [
       "                    country_name  gini gini_year\n",
       "0                          Aruba   NaN      None\n",
       "1    Africa Eastern and Southern   NaN      None\n",
       "2                    Afghanistan   NaN      None\n",
       "3     Africa Western and Central   NaN      None\n",
       "4                         Angola  42.7      2008\n",
       "..                           ...   ...       ...\n",
       "261                       Kosovo  31.8      2009\n",
       "262                  Yemen, Rep.  34.7      2005\n",
       "263                 South Africa  63.0      2008\n",
       "264                       Zambia  54.6      2006\n",
       "265                     Zimbabwe  43.2      2011\n",
       "\n",
       "[266 rows x 3 columns]"
      ]
     },
     "execution_count": 434,
     "metadata": {},
     "output_type": "execute_result"
    }
   ],
   "source": [
    "# Initialize lists to store the results\n",
    "countries = []\n",
    "values = []\n",
    "years = []\n",
    "\n",
    "# Loop through each row (each country)\n",
    "for index, row in gini.iterrows():\n",
    "    country_name = row['Country Name']\n",
    "    country_data = row.drop(['Country Name', 'Country Code', 'Indicator Name', 'Indicator Code'])\n",
    "    \n",
    "    # Drop NaN values and convert the index to integers (years)\n",
    "    non_null_data = country_data.dropna()\n",
    "    \n",
    "    # Proceed only if there are non-null values\n",
    "    if not non_null_data.empty:\n",
    "        # Find the year closest to 2008 with a non-null value\n",
    "        year_closest_to_2008 = min(non_null_data.index, key=lambda x: abs(int(x) - 2008))\n",
    "        value_closest_to_2008 = row[year_closest_to_2008]\n",
    "        \n",
    "        # Store the results\n",
    "        countries.append(country_name)\n",
    "        values.append(value_closest_to_2008)\n",
    "        years.append(year_closest_to_2008)\n",
    "    else:\n",
    "        # Store the results as NaN if there are no non-null values\n",
    "        countries.append(country_name)\n",
    "        values.append(None)\n",
    "        years.append(None)\n",
    "\n",
    "# Create a new DataFrame with the results\n",
    "gini_df = pd.DataFrame({\n",
    "    'country_name': countries,\n",
    "    'gini': values,\n",
    "    'gini_year': years\n",
    "})\n",
    "\n",
    "# Display the result\n",
    "gini_df"
   ]
  },
  {
   "cell_type": "markdown",
   "id": "6f674ad5",
   "metadata": {},
   "source": [
    "## Merging"
   ]
  },
  {
   "cell_type": "code",
   "execution_count": 435,
   "id": "f6be7c8e",
   "metadata": {},
   "outputs": [],
   "source": [
    "df = pd.merge(df,gini_df, on = 'country_name')"
   ]
  },
  {
   "cell_type": "code",
   "execution_count": 436,
   "id": "6cc18a0c",
   "metadata": {},
   "outputs": [
    {
     "data": {
      "text/html": [
       "<div>\n",
       "<style scoped>\n",
       "    .dataframe tbody tr th:only-of-type {\n",
       "        vertical-align: middle;\n",
       "    }\n",
       "\n",
       "    .dataframe tbody tr th {\n",
       "        vertical-align: top;\n",
       "    }\n",
       "\n",
       "    .dataframe thead th {\n",
       "        text-align: right;\n",
       "    }\n",
       "</style>\n",
       "<table border=\"1\" class=\"dataframe\">\n",
       "  <thead>\n",
       "    <tr style=\"text-align: right;\">\n",
       "      <th></th>\n",
       "      <th>country_name</th>\n",
       "      <th>country_code</th>\n",
       "      <th>population</th>\n",
       "      <th>quantile</th>\n",
       "      <th>income</th>\n",
       "      <th>gdp_ppp</th>\n",
       "      <th>gini</th>\n",
       "      <th>gini_year</th>\n",
       "    </tr>\n",
       "  </thead>\n",
       "  <tbody>\n",
       "    <tr>\n",
       "      <th>0</th>\n",
       "      <td>Albania</td>\n",
       "      <td>ALB</td>\n",
       "      <td>2947314.0</td>\n",
       "      <td>1</td>\n",
       "      <td>728.89795</td>\n",
       "      <td>7297.0</td>\n",
       "      <td>30.0</td>\n",
       "      <td>2008</td>\n",
       "    </tr>\n",
       "    <tr>\n",
       "      <th>1</th>\n",
       "      <td>Albania</td>\n",
       "      <td>ALB</td>\n",
       "      <td>2947314.0</td>\n",
       "      <td>2</td>\n",
       "      <td>916.66235</td>\n",
       "      <td>7297.0</td>\n",
       "      <td>30.0</td>\n",
       "      <td>2008</td>\n",
       "    </tr>\n",
       "  </tbody>\n",
       "</table>\n",
       "</div>"
      ],
      "text/plain": [
       "  country_name country_code  population  quantile     income  gdp_ppp  gini  \\\n",
       "0      Albania          ALB   2947314.0         1  728.89795   7297.0  30.0   \n",
       "1      Albania          ALB   2947314.0         2  916.66235   7297.0  30.0   \n",
       "\n",
       "  gini_year  \n",
       "0      2008  \n",
       "1      2008  "
      ]
     },
     "execution_count": 436,
     "metadata": {},
     "output_type": "execute_result"
    }
   ],
   "source": [
    "df.head(2)"
   ]
  },
  {
   "cell_type": "markdown",
   "id": "bf43915a",
   "metadata": {},
   "source": [
    "## Correcting or replacing values"
   ]
  },
  {
   "cell_type": "markdown",
   "id": "e0f6cd47",
   "metadata": {},
   "source": [
    "Let's see if there are values that we would have to correct. \n",
    " 1. because they are too far from 2008, I can check it based on the year_survey column\n",
    " 2. because they are missing"
   ]
  },
  {
   "cell_type": "code",
   "execution_count": 437,
   "id": "ce2f48f0",
   "metadata": {
    "scrolled": true
   },
   "outputs": [
    {
     "data": {
      "text/plain": [
       "<Axes: >"
      ]
     },
     "execution_count": 437,
     "metadata": {},
     "output_type": "execute_result"
    },
    {
     "data": {
      "image/png": "[encoded data removed]",
      "text/plain": [
       "<Figure size 640x480 with 1 Axes>"
      ]
     },
     "metadata": {},
     "output_type": "display_data"
    }
   ],
   "source": [
    "# Checking that values are not too far off from 2008.\n",
    "df.sort_values(by='gini_year')['gini_year'].hist()"
   ]
  },
  {
   "cell_type": "markdown",
   "id": "b0041581",
   "metadata": {},
   "source": [
    "The values are not too far from the year."
   ]
  },
  {
   "cell_type": "markdown",
   "id": "78c4c8ad",
   "metadata": {},
   "source": [
    "Checking missing values"
   ]
  },
  {
   "cell_type": "code",
   "execution_count": 438,
   "id": "49bd28c7",
   "metadata": {
    "scrolled": true
   },
   "outputs": [
    {
     "data": {
      "text/html": [
       "<div>\n",
       "<style scoped>\n",
       "    .dataframe tbody tr th:only-of-type {\n",
       "        vertical-align: middle;\n",
       "    }\n",
       "\n",
       "    .dataframe tbody tr th {\n",
       "        vertical-align: top;\n",
       "    }\n",
       "\n",
       "    .dataframe thead th {\n",
       "        text-align: right;\n",
       "    }\n",
       "</style>\n",
       "<table border=\"1\" class=\"dataframe\">\n",
       "  <thead>\n",
       "    <tr style=\"text-align: right;\">\n",
       "      <th></th>\n",
       "      <th>country_name</th>\n",
       "      <th>country_code</th>\n",
       "      <th>population</th>\n",
       "      <th>quantile</th>\n",
       "      <th>income</th>\n",
       "      <th>gdp_ppp</th>\n",
       "      <th>gini</th>\n",
       "      <th>gini_year</th>\n",
       "    </tr>\n",
       "  </thead>\n",
       "  <tbody>\n",
       "    <tr>\n",
       "      <th>5600</th>\n",
       "      <td>Cambodia</td>\n",
       "      <td>KHM</td>\n",
       "      <td>13943888.0</td>\n",
       "      <td>1</td>\n",
       "      <td>345.87497</td>\n",
       "      <td>1802.0</td>\n",
       "      <td>NaN</td>\n",
       "      <td>None</td>\n",
       "    </tr>\n",
       "    <tr>\n",
       "      <th>5601</th>\n",
       "      <td>Cambodia</td>\n",
       "      <td>KHM</td>\n",
       "      <td>13943888.0</td>\n",
       "      <td>2</td>\n",
       "      <td>437.74557</td>\n",
       "      <td>1802.0</td>\n",
       "      <td>NaN</td>\n",
       "      <td>None</td>\n",
       "    </tr>\n",
       "    <tr>\n",
       "      <th>5602</th>\n",
       "      <td>Cambodia</td>\n",
       "      <td>KHM</td>\n",
       "      <td>13943888.0</td>\n",
       "      <td>3</td>\n",
       "      <td>481.92444</td>\n",
       "      <td>1802.0</td>\n",
       "      <td>NaN</td>\n",
       "      <td>None</td>\n",
       "    </tr>\n",
       "    <tr>\n",
       "      <th>5603</th>\n",
       "      <td>Cambodia</td>\n",
       "      <td>KHM</td>\n",
       "      <td>13943888.0</td>\n",
       "      <td>4</td>\n",
       "      <td>514.47370</td>\n",
       "      <td>1802.0</td>\n",
       "      <td>NaN</td>\n",
       "      <td>None</td>\n",
       "    </tr>\n",
       "    <tr>\n",
       "      <th>5604</th>\n",
       "      <td>Cambodia</td>\n",
       "      <td>KHM</td>\n",
       "      <td>13943888.0</td>\n",
       "      <td>5</td>\n",
       "      <td>540.41986</td>\n",
       "      <td>1802.0</td>\n",
       "      <td>NaN</td>\n",
       "      <td>None</td>\n",
       "    </tr>\n",
       "    <tr>\n",
       "      <th>...</th>\n",
       "      <td>...</td>\n",
       "      <td>...</td>\n",
       "      <td>...</td>\n",
       "      <td>...</td>\n",
       "      <td>...</td>\n",
       "      <td>...</td>\n",
       "      <td>...</td>\n",
       "      <td>...</td>\n",
       "    </tr>\n",
       "    <tr>\n",
       "      <th>5695</th>\n",
       "      <td>Cambodia</td>\n",
       "      <td>KHM</td>\n",
       "      <td>13943888.0</td>\n",
       "      <td>96</td>\n",
       "      <td>3425.02400</td>\n",
       "      <td>1802.0</td>\n",
       "      <td>NaN</td>\n",
       "      <td>None</td>\n",
       "    </tr>\n",
       "    <tr>\n",
       "      <th>5696</th>\n",
       "      <td>Cambodia</td>\n",
       "      <td>KHM</td>\n",
       "      <td>13943888.0</td>\n",
       "      <td>97</td>\n",
       "      <td>3699.99850</td>\n",
       "      <td>1802.0</td>\n",
       "      <td>NaN</td>\n",
       "      <td>None</td>\n",
       "    </tr>\n",
       "    <tr>\n",
       "      <th>5697</th>\n",
       "      <td>Cambodia</td>\n",
       "      <td>KHM</td>\n",
       "      <td>13943888.0</td>\n",
       "      <td>98</td>\n",
       "      <td>4184.60550</td>\n",
       "      <td>1802.0</td>\n",
       "      <td>NaN</td>\n",
       "      <td>None</td>\n",
       "    </tr>\n",
       "    <tr>\n",
       "      <th>5698</th>\n",
       "      <td>Cambodia</td>\n",
       "      <td>KHM</td>\n",
       "      <td>13943888.0</td>\n",
       "      <td>99</td>\n",
       "      <td>4790.81250</td>\n",
       "      <td>1802.0</td>\n",
       "      <td>NaN</td>\n",
       "      <td>None</td>\n",
       "    </tr>\n",
       "    <tr>\n",
       "      <th>5699</th>\n",
       "      <td>Cambodia</td>\n",
       "      <td>KHM</td>\n",
       "      <td>13943888.0</td>\n",
       "      <td>100</td>\n",
       "      <td>7375.56100</td>\n",
       "      <td>1802.0</td>\n",
       "      <td>NaN</td>\n",
       "      <td>None</td>\n",
       "    </tr>\n",
       "  </tbody>\n",
       "</table>\n",
       "<p>100 rows × 8 columns</p>\n",
       "</div>"
      ],
      "text/plain": [
       "     country_name country_code  population  quantile      income  gdp_ppp  \\\n",
       "5600     Cambodia          KHM  13943888.0         1   345.87497   1802.0   \n",
       "5601     Cambodia          KHM  13943888.0         2   437.74557   1802.0   \n",
       "5602     Cambodia          KHM  13943888.0         3   481.92444   1802.0   \n",
       "5603     Cambodia          KHM  13943888.0         4   514.47370   1802.0   \n",
       "5604     Cambodia          KHM  13943888.0         5   540.41986   1802.0   \n",
       "...           ...          ...         ...       ...         ...      ...   \n",
       "5695     Cambodia          KHM  13943888.0        96  3425.02400   1802.0   \n",
       "5696     Cambodia          KHM  13943888.0        97  3699.99850   1802.0   \n",
       "5697     Cambodia          KHM  13943888.0        98  4184.60550   1802.0   \n",
       "5698     Cambodia          KHM  13943888.0        99  4790.81250   1802.0   \n",
       "5699     Cambodia          KHM  13943888.0       100  7375.56100   1802.0   \n",
       "\n",
       "      gini gini_year  \n",
       "5600   NaN      None  \n",
       "5601   NaN      None  \n",
       "5602   NaN      None  \n",
       "5603   NaN      None  \n",
       "5604   NaN      None  \n",
       "...    ...       ...  \n",
       "5695   NaN      None  \n",
       "5696   NaN      None  \n",
       "5697   NaN      None  \n",
       "5698   NaN      None  \n",
       "5699   NaN      None  \n",
       "\n",
       "[100 rows x 8 columns]"
      ]
     },
     "execution_count": 438,
     "metadata": {},
     "output_type": "execute_result"
    }
   ],
   "source": [
    "df[df.isna().any(axis=1)]"
   ]
  },
  {
   "cell_type": "markdown",
   "id": "b594ee14",
   "metadata": {},
   "source": [
    "The gini idex for cambodia in 2008 was 35.10\n",
    "\n",
    "Source: https://fred.stlouisfed.org/series/SIPOVGINIKHM "
   ]
  },
  {
   "cell_type": "code",
   "execution_count": 439,
   "id": "df89e708",
   "metadata": {},
   "outputs": [],
   "source": [
    "df.loc[df['country_name'] == 'Cambodia', 'gini'] = 35.10"
   ]
  },
  {
   "cell_type": "code",
   "execution_count": 440,
   "id": "3b0c1d89",
   "metadata": {
    "scrolled": true
   },
   "outputs": [
    {
     "data": {
      "text/html": [
       "<div>\n",
       "<style scoped>\n",
       "    .dataframe tbody tr th:only-of-type {\n",
       "        vertical-align: middle;\n",
       "    }\n",
       "\n",
       "    .dataframe tbody tr th {\n",
       "        vertical-align: top;\n",
       "    }\n",
       "\n",
       "    .dataframe thead th {\n",
       "        text-align: right;\n",
       "    }\n",
       "</style>\n",
       "<table border=\"1\" class=\"dataframe\">\n",
       "  <thead>\n",
       "    <tr style=\"text-align: right;\">\n",
       "      <th></th>\n",
       "      <th>country_name</th>\n",
       "      <th>country_code</th>\n",
       "      <th>population</th>\n",
       "      <th>quantile</th>\n",
       "      <th>income</th>\n",
       "      <th>gdp_ppp</th>\n",
       "      <th>gini</th>\n",
       "      <th>gini_year</th>\n",
       "    </tr>\n",
       "  </thead>\n",
       "  <tbody>\n",
       "    <tr>\n",
       "      <th>5600</th>\n",
       "      <td>Cambodia</td>\n",
       "      <td>KHM</td>\n",
       "      <td>13943888.0</td>\n",
       "      <td>1</td>\n",
       "      <td>345.87497</td>\n",
       "      <td>1802.0</td>\n",
       "      <td>35.1</td>\n",
       "      <td>None</td>\n",
       "    </tr>\n",
       "    <tr>\n",
       "      <th>5601</th>\n",
       "      <td>Cambodia</td>\n",
       "      <td>KHM</td>\n",
       "      <td>13943888.0</td>\n",
       "      <td>2</td>\n",
       "      <td>437.74557</td>\n",
       "      <td>1802.0</td>\n",
       "      <td>35.1</td>\n",
       "      <td>None</td>\n",
       "    </tr>\n",
       "    <tr>\n",
       "      <th>5602</th>\n",
       "      <td>Cambodia</td>\n",
       "      <td>KHM</td>\n",
       "      <td>13943888.0</td>\n",
       "      <td>3</td>\n",
       "      <td>481.92444</td>\n",
       "      <td>1802.0</td>\n",
       "      <td>35.1</td>\n",
       "      <td>None</td>\n",
       "    </tr>\n",
       "    <tr>\n",
       "      <th>5603</th>\n",
       "      <td>Cambodia</td>\n",
       "      <td>KHM</td>\n",
       "      <td>13943888.0</td>\n",
       "      <td>4</td>\n",
       "      <td>514.47370</td>\n",
       "      <td>1802.0</td>\n",
       "      <td>35.1</td>\n",
       "      <td>None</td>\n",
       "    </tr>\n",
       "    <tr>\n",
       "      <th>5604</th>\n",
       "      <td>Cambodia</td>\n",
       "      <td>KHM</td>\n",
       "      <td>13943888.0</td>\n",
       "      <td>5</td>\n",
       "      <td>540.41986</td>\n",
       "      <td>1802.0</td>\n",
       "      <td>35.1</td>\n",
       "      <td>None</td>\n",
       "    </tr>\n",
       "    <tr>\n",
       "      <th>...</th>\n",
       "      <td>...</td>\n",
       "      <td>...</td>\n",
       "      <td>...</td>\n",
       "      <td>...</td>\n",
       "      <td>...</td>\n",
       "      <td>...</td>\n",
       "      <td>...</td>\n",
       "      <td>...</td>\n",
       "    </tr>\n",
       "    <tr>\n",
       "      <th>5695</th>\n",
       "      <td>Cambodia</td>\n",
       "      <td>KHM</td>\n",
       "      <td>13943888.0</td>\n",
       "      <td>96</td>\n",
       "      <td>3425.02400</td>\n",
       "      <td>1802.0</td>\n",
       "      <td>35.1</td>\n",
       "      <td>None</td>\n",
       "    </tr>\n",
       "    <tr>\n",
       "      <th>5696</th>\n",
       "      <td>Cambodia</td>\n",
       "      <td>KHM</td>\n",
       "      <td>13943888.0</td>\n",
       "      <td>97</td>\n",
       "      <td>3699.99850</td>\n",
       "      <td>1802.0</td>\n",
       "      <td>35.1</td>\n",
       "      <td>None</td>\n",
       "    </tr>\n",
       "    <tr>\n",
       "      <th>5697</th>\n",
       "      <td>Cambodia</td>\n",
       "      <td>KHM</td>\n",
       "      <td>13943888.0</td>\n",
       "      <td>98</td>\n",
       "      <td>4184.60550</td>\n",
       "      <td>1802.0</td>\n",
       "      <td>35.1</td>\n",
       "      <td>None</td>\n",
       "    </tr>\n",
       "    <tr>\n",
       "      <th>5698</th>\n",
       "      <td>Cambodia</td>\n",
       "      <td>KHM</td>\n",
       "      <td>13943888.0</td>\n",
       "      <td>99</td>\n",
       "      <td>4790.81250</td>\n",
       "      <td>1802.0</td>\n",
       "      <td>35.1</td>\n",
       "      <td>None</td>\n",
       "    </tr>\n",
       "    <tr>\n",
       "      <th>5699</th>\n",
       "      <td>Cambodia</td>\n",
       "      <td>KHM</td>\n",
       "      <td>13943888.0</td>\n",
       "      <td>100</td>\n",
       "      <td>7375.56100</td>\n",
       "      <td>1802.0</td>\n",
       "      <td>35.1</td>\n",
       "      <td>None</td>\n",
       "    </tr>\n",
       "  </tbody>\n",
       "</table>\n",
       "<p>100 rows × 8 columns</p>\n",
       "</div>"
      ],
      "text/plain": [
       "     country_name country_code  population  quantile      income  gdp_ppp  \\\n",
       "5600     Cambodia          KHM  13943888.0         1   345.87497   1802.0   \n",
       "5601     Cambodia          KHM  13943888.0         2   437.74557   1802.0   \n",
       "5602     Cambodia          KHM  13943888.0         3   481.92444   1802.0   \n",
       "5603     Cambodia          KHM  13943888.0         4   514.47370   1802.0   \n",
       "5604     Cambodia          KHM  13943888.0         5   540.41986   1802.0   \n",
       "...           ...          ...         ...       ...         ...      ...   \n",
       "5695     Cambodia          KHM  13943888.0        96  3425.02400   1802.0   \n",
       "5696     Cambodia          KHM  13943888.0        97  3699.99850   1802.0   \n",
       "5697     Cambodia          KHM  13943888.0        98  4184.60550   1802.0   \n",
       "5698     Cambodia          KHM  13943888.0        99  4790.81250   1802.0   \n",
       "5699     Cambodia          KHM  13943888.0       100  7375.56100   1802.0   \n",
       "\n",
       "      gini gini_year  \n",
       "5600  35.1      None  \n",
       "5601  35.1      None  \n",
       "5602  35.1      None  \n",
       "5603  35.1      None  \n",
       "5604  35.1      None  \n",
       "...    ...       ...  \n",
       "5695  35.1      None  \n",
       "5696  35.1      None  \n",
       "5697  35.1      None  \n",
       "5698  35.1      None  \n",
       "5699  35.1      None  \n",
       "\n",
       "[100 rows x 8 columns]"
      ]
     },
     "execution_count": 440,
     "metadata": {},
     "output_type": "execute_result"
    }
   ],
   "source": [
    "df[df['country_name'] == 'Cambodia']"
   ]
  },
  {
   "cell_type": "markdown",
   "id": "cce42870",
   "metadata": {},
   "source": [
    "I will only keep the essential columns"
   ]
  },
  {
   "cell_type": "code",
   "execution_count": 441,
   "id": "689dac43",
   "metadata": {},
   "outputs": [],
   "source": [
    "df = df.drop(columns= ['gini_year'])"
   ]
  },
  {
   "cell_type": "code",
   "execution_count": 442,
   "id": "e3f3d1c0",
   "metadata": {
    "scrolled": true
   },
   "outputs": [
    {
     "data": {
      "text/html": [
       "<div>\n",
       "<style scoped>\n",
       "    .dataframe tbody tr th:only-of-type {\n",
       "        vertical-align: middle;\n",
       "    }\n",
       "\n",
       "    .dataframe tbody tr th {\n",
       "        vertical-align: top;\n",
       "    }\n",
       "\n",
       "    .dataframe thead th {\n",
       "        text-align: right;\n",
       "    }\n",
       "</style>\n",
       "<table border=\"1\" class=\"dataframe\">\n",
       "  <thead>\n",
       "    <tr style=\"text-align: right;\">\n",
       "      <th></th>\n",
       "      <th>country_name</th>\n",
       "      <th>country_code</th>\n",
       "      <th>population</th>\n",
       "      <th>quantile</th>\n",
       "      <th>income</th>\n",
       "      <th>gdp_ppp</th>\n",
       "      <th>gini</th>\n",
       "    </tr>\n",
       "  </thead>\n",
       "  <tbody>\n",
       "    <tr>\n",
       "      <th>0</th>\n",
       "      <td>Albania</td>\n",
       "      <td>ALB</td>\n",
       "      <td>2947314.0</td>\n",
       "      <td>1</td>\n",
       "      <td>728.89795</td>\n",
       "      <td>7297.0</td>\n",
       "      <td>30.0</td>\n",
       "    </tr>\n",
       "    <tr>\n",
       "      <th>1</th>\n",
       "      <td>Albania</td>\n",
       "      <td>ALB</td>\n",
       "      <td>2947314.0</td>\n",
       "      <td>2</td>\n",
       "      <td>916.66235</td>\n",
       "      <td>7297.0</td>\n",
       "      <td>30.0</td>\n",
       "    </tr>\n",
       "  </tbody>\n",
       "</table>\n",
       "</div>"
      ],
      "text/plain": [
       "  country_name country_code  population  quantile     income  gdp_ppp  gini\n",
       "0      Albania          ALB   2947314.0         1  728.89795   7297.0  30.0\n",
       "1      Albania          ALB   2947314.0         2  916.66235   7297.0  30.0"
      ]
     },
     "execution_count": 442,
     "metadata": {},
     "output_type": "execute_result"
    }
   ],
   "source": [
    "df.head(2)"
   ]
  },
  {
   "cell_type": "markdown",
   "id": "afc014bd",
   "metadata": {},
   "source": [
    "## Missing quantile"
   ]
  },
  {
   "cell_type": "markdown",
   "id": "7f931667",
   "metadata": {},
   "source": [
    "df.shape()"
   ]
  },
  {
   "cell_type": "code",
   "execution_count": 443,
   "id": "df43f4ac",
   "metadata": {},
   "outputs": [
    {
     "data": {
      "text/plain": [
       "(11399, 7)"
      ]
     },
     "execution_count": 443,
     "metadata": {},
     "output_type": "execute_result"
    }
   ],
   "source": [
    "df.shape"
   ]
  },
  {
   "cell_type": "code",
   "execution_count": 444,
   "id": "8d28ebfb",
   "metadata": {},
   "outputs": [
    {
     "name": "stdout",
     "output_type": "stream",
     "text": [
      "Country present in 113 group but not in 114 group: set()\n",
      "Country present in 114 group but not in 113 group: {'Lithuania'}\n"
     ]
    }
   ],
   "source": [
    "# Calculate the value counts for the 'quantile' column\n",
    "quantile_counts = df['quantile'].value_counts()\n",
    "\n",
    "# Find the quantile value(s) that have counts of 113 and 114\n",
    "quantile_values_with_113_counts = quantile_counts[quantile_counts == 113].index\n",
    "quantile_values_with_114_counts = quantile_counts[quantile_counts == 114].index\n",
    "\n",
    "# Filter the DataFrame for rows where 'quantile' is in the quantile_values_with_113_counts and quantile_values_with_114_counts\n",
    "rows_with_113_count = df[df['quantile'].isin(quantile_values_with_113_counts)]\n",
    "rows_with_114_count = df[df['quantile'].isin(quantile_values_with_114_counts)]\n",
    "\n",
    "# Extract sets of countries for both groups\n",
    "countries_with_113_count = set(rows_with_113_count['country_name'])\n",
    "countries_with_114_count = set(rows_with_114_count['country_name'])\n",
    "\n",
    "# Find the country present in one group but not the other\n",
    "unique_to_113 = countries_with_113_count - countries_with_114_count\n",
    "unique_to_114 = countries_with_114_count - countries_with_113_count\n",
    "\n",
    "# Print results\n",
    "print(\"Country present in 113 group but not in 114 group:\", unique_to_113)\n",
    "print(\"Country present in 114 group but not in 113 group:\", unique_to_114)\n"
   ]
  },
  {
   "cell_type": "code",
   "execution_count": 445,
   "id": "28be7d25",
   "metadata": {},
   "outputs": [
    {
     "data": {
      "text/plain": [
       "Index([41], dtype='int64', name='quantile')"
      ]
     },
     "execution_count": 445,
     "metadata": {},
     "output_type": "execute_result"
    }
   ],
   "source": [
    "quantile_counts[quantile_counts == 113].index\n"
   ]
  },
  {
   "cell_type": "code",
   "execution_count": 446,
   "id": "8bb29311",
   "metadata": {
    "scrolled": false
   },
   "outputs": [
    {
     "data": {
      "text/plain": [
       "array([  1,   2,   3,   4,   5,   6,   7,   8,   9,  10,  11,  12,  13,\n",
       "        14,  15,  16,  17,  18,  19,  20,  21,  22,  23,  24,  25,  26,\n",
       "        27,  28,  29,  30,  31,  32,  33,  34,  35,  36,  37,  38,  39,\n",
       "        40,  42,  43,  44,  45,  46,  47,  48,  49,  50,  51,  52,  53,\n",
       "        54,  55,  56,  57,  58,  59,  60,  61,  62,  63,  64,  65,  66,\n",
       "        67,  68,  69,  70,  71,  72,  73,  74,  75,  76,  77,  78,  79,\n",
       "        80,  81,  82,  83,  84,  85,  86,  87,  88,  89,  90,  91,  92,\n",
       "        93,  94,  95,  96,  97,  98,  99, 100], dtype=int64)"
      ]
     },
     "execution_count": 446,
     "metadata": {},
     "output_type": "execute_result"
    }
   ],
   "source": [
    "df[df['country_name']  == 'Lithuania']['quantile'].unique()"
   ]
  },
  {
   "cell_type": "markdown",
   "id": "98ce6e4a",
   "metadata": {},
   "source": [
    "As you can see, the 41th percentile is missing. Let's add it:"
   ]
  },
  {
   "cell_type": "code",
   "execution_count": 447,
   "id": "8a82157b",
   "metadata": {},
   "outputs": [],
   "source": [
    "# Identify rows for the mean\n",
    "lithuania_two_rows= df[(df['country_name'] == 'Lithuania') & (df['quantile'].isin([40, 42]))]\n",
    "\n",
    "\n",
    "# Compute the median income for quantiles 1 and 3\n",
    "l_mean = lithuania_two_rows['income'].mean()\n",
    "l_population = lithuania_two_rows['population'].mean()\n",
    "l_gdp_ppp =  lithuania_two_rows['gdp_ppp'].mean().astype(int)\n",
    "l_gini = lithuania_two_rows['gini'].mean()\n",
    "\n",
    "# Create the new row for quantile 2\n",
    "new_row = {\n",
    "    'country_name': 'Lithuania',\n",
    "    'country_code': 'LTU',\n",
    "    'population': l_population,\n",
    "    'quantile': 41,\n",
    "    'income': l_mean,\n",
    "    'gdp_ppp': l_gdp_ppp,\n",
    "    'gini': l_gini\n",
    "}\n",
    "\n",
    "# Making the new row into a DataFrame\n",
    "new_row_df = pd.DataFrame([new_row])\n",
    "\n",
    "# Merging it with original\n",
    "df = pd.concat([df, new_row_df], ignore_index=True)\n",
    "\n",
    "# Sort the DataFrame by country_name and quantile to maintain order\n",
    "df = df.sort_values(by=['country_name', 'quantile']).reset_index(drop=True)\n"
   ]
  },
  {
   "cell_type": "markdown",
   "id": "8a47fa5a",
   "metadata": {},
   "source": [
    "Let's check if it worked:"
   ]
  },
  {
   "cell_type": "code",
   "execution_count": 448,
   "id": "e07c80c9",
   "metadata": {
    "scrolled": true
   },
   "outputs": [
    {
     "data": {
      "text/plain": [
       "array([  1,   2,   3,   4,   5,   6,   7,   8,   9,  10,  11,  12,  13,\n",
       "        14,  15,  16,  17,  18,  19,  20,  21,  22,  23,  24,  25,  26,\n",
       "        27,  28,  29,  30,  31,  32,  33,  34,  35,  36,  37,  38,  39,\n",
       "        40,  41,  42,  43,  44,  45,  46,  47,  48,  49,  50,  51,  52,\n",
       "        53,  54,  55,  56,  57,  58,  59,  60,  61,  62,  63,  64,  65,\n",
       "        66,  67,  68,  69,  70,  71,  72,  73,  74,  75,  76,  77,  78,\n",
       "        79,  80,  81,  82,  83,  84,  85,  86,  87,  88,  89,  90,  91,\n",
       "        92,  93,  94,  95,  96,  97,  98,  99, 100], dtype=int64)"
      ]
     },
     "execution_count": 448,
     "metadata": {},
     "output_type": "execute_result"
    }
   ],
   "source": [
    "df[df['country_name']  == 'Lithuania']['quantile'].unique()"
   ]
  },
  {
   "cell_type": "code",
   "execution_count": 449,
   "id": "947160b1",
   "metadata": {
    "scrolled": false
   },
   "outputs": [
    {
     "data": {
      "text/html": [
       "<div>\n",
       "<style scoped>\n",
       "    .dataframe tbody tr th:only-of-type {\n",
       "        vertical-align: middle;\n",
       "    }\n",
       "\n",
       "    .dataframe tbody tr th {\n",
       "        vertical-align: top;\n",
       "    }\n",
       "\n",
       "    .dataframe thead th {\n",
       "        text-align: right;\n",
       "    }\n",
       "</style>\n",
       "<table border=\"1\" class=\"dataframe\">\n",
       "  <thead>\n",
       "    <tr style=\"text-align: right;\">\n",
       "      <th></th>\n",
       "      <th>country_name</th>\n",
       "      <th>country_code</th>\n",
       "      <th>population</th>\n",
       "      <th>quantile</th>\n",
       "      <th>income</th>\n",
       "      <th>gdp_ppp</th>\n",
       "      <th>gini</th>\n",
       "    </tr>\n",
       "  </thead>\n",
       "  <tbody>\n",
       "    <tr>\n",
       "      <th>6240</th>\n",
       "      <td>Lithuania</td>\n",
       "      <td>LTU</td>\n",
       "      <td>3198231.0</td>\n",
       "      <td>41</td>\n",
       "      <td>4882.14065</td>\n",
       "      <td>17571.0</td>\n",
       "      <td>35.7</td>\n",
       "    </tr>\n",
       "  </tbody>\n",
       "</table>\n",
       "</div>"
      ],
      "text/plain": [
       "     country_name country_code  population  quantile      income  gdp_ppp  \\\n",
       "6240    Lithuania          LTU   3198231.0        41  4882.14065  17571.0   \n",
       "\n",
       "      gini  \n",
       "6240  35.7  "
      ]
     },
     "execution_count": 449,
     "metadata": {},
     "output_type": "execute_result"
    }
   ],
   "source": [
    "df[(df['country_name'] == 'Lithuania') & (df['quantile'] == 41)]"
   ]
  },
  {
   "cell_type": "markdown",
   "id": "d06251a7",
   "metadata": {},
   "source": [
    "Some of the columns are not numerical and we will need them to be so lets change that:"
   ]
  },
  {
   "cell_type": "code",
   "execution_count": 450,
   "id": "53c4ef10",
   "metadata": {},
   "outputs": [
    {
     "data": {
      "text/plain": [
       "country_name     object\n",
       "country_code     object\n",
       "population      float64\n",
       "quantile          int64\n",
       "income          float64\n",
       "gdp_ppp         float64\n",
       "gini            float64\n",
       "dtype: object"
      ]
     },
     "execution_count": 450,
     "metadata": {},
     "output_type": "execute_result"
    }
   ],
   "source": [
    "df.dtypes"
   ]
  },
  {
   "cell_type": "code",
   "execution_count": 451,
   "id": "f9d6293a",
   "metadata": {},
   "outputs": [],
   "source": [
    "numeric_columns = ['population','quantile','income', 'gdp_ppp', 'gini']\n",
    "\n",
    "for col in numeric_columns:\n",
    "    df[col] = pd.to_numeric(df[col], errors='coerce')\n",
    "    df[col].fillna(0, inplace=True)  # Fill NaN values with 0 or handle as needed\n",
    "\n",
    "# 2. Convert columns to integer type\n",
    "df[numeric_columns] = df[numeric_columns].astype(int)\n"
   ]
  },
  {
   "cell_type": "code",
   "execution_count": 452,
   "id": "08ac14f4",
   "metadata": {
    "scrolled": false
   },
   "outputs": [
    {
     "data": {
      "text/plain": [
       "country_name    object\n",
       "country_code    object\n",
       "population       int32\n",
       "quantile         int32\n",
       "income           int32\n",
       "gdp_ppp          int32\n",
       "gini             int32\n",
       "dtype: object"
      ]
     },
     "execution_count": 452,
     "metadata": {},
     "output_type": "execute_result"
    }
   ],
   "source": [
    "df.dtypes"
   ]
  },
  {
   "cell_type": "markdown",
   "id": "992b1c1e",
   "metadata": {},
   "source": [
    "# Task 1"
   ]
  },
  {
   "cell_type": "markdown",
   "id": "041f2b41",
   "metadata": {},
   "source": [
    "Number of countries involved."
   ]
  },
  {
   "cell_type": "code",
   "execution_count": 453,
   "id": "4a3d1baf",
   "metadata": {},
   "outputs": [
    {
     "data": {
      "text/plain": [
       "114"
      ]
     },
     "execution_count": 453,
     "metadata": {},
     "output_type": "execute_result"
    }
   ],
   "source": [
    "df['country_code'].nunique()"
   ]
  },
  {
   "cell_type": "markdown",
   "id": "2c03d4e2",
   "metadata": {},
   "source": [
    "Population covered by the dataset (percentage of world population)."
   ]
  },
  {
   "cell_type": "code",
   "execution_count": 454,
   "id": "ad0f11db",
   "metadata": {},
   "outputs": [
    {
     "data": {
      "text/plain": [
       "6220897530"
      ]
     },
     "execution_count": 454,
     "metadata": {},
     "output_type": "execute_result"
    }
   ],
   "source": [
    "df_pop = df.groupby('country_code')['population'].first().sum()\n",
    "df_pop"
   ]
  },
  {
   "cell_type": "code",
   "execution_count": 455,
   "id": "53730a4e",
   "metadata": {},
   "outputs": [
    {
     "data": {
      "text/plain": [
       "91.47033568592853"
      ]
     },
     "execution_count": 455,
     "metadata": {},
     "output_type": "execute_result"
    }
   ],
   "source": [
    "world_pop = 6801000000\n",
    "\n",
    "population_covered = df_pop/world_pop*100\n",
    "population_covered"
   ]
  },
  {
   "cell_type": "markdown",
   "id": "f973927d",
   "metadata": {},
   "source": [
    "Why the $PPP adjusted GDP values are a good method to compare countries.\n",
    "\n",
    "It is a useful measurment because it adjusts for the cost of living instead of just lookin at the absolute values\n",
    "If it wasn't adjusted the value would loose relevance in the local context"
   ]
  },
  {
   "cell_type": "markdown",
   "id": "5da23985",
   "metadata": {},
   "source": [
    "A graph showing how diverse countries are in terms of income distribution. This graph must represent the income (y-axis, on a log scale) as a function of income class (x-axis) for 5 to 10 countries. Please ensure you represent a diversity of cases. Among the countries that must be present : your own country, and the two countries that have the greatest and lowest Gini index.\n",
    "The Lorenz curve for these countries."
   ]
  },
  {
   "cell_type": "markdown",
   "id": "fa4bf4a5",
   "metadata": {},
   "source": [
    "Greates gini index:"
   ]
  },
  {
   "cell_type": "code",
   "execution_count": 456,
   "id": "39dadc51",
   "metadata": {
    "scrolled": true
   },
   "outputs": [
    {
     "data": {
      "text/plain": [
       "country_name    South Africa\n",
       "country_code             ZAF\n",
       "population          50565812\n",
       "quantile                   1\n",
       "income                    60\n",
       "gdp_ppp                 9602\n",
       "gini                      63\n",
       "Name: 9400, dtype: object"
      ]
     },
     "execution_count": 456,
     "metadata": {},
     "output_type": "execute_result"
    }
   ],
   "source": [
    "df.loc[df['gini'].idxmax()]\n"
   ]
  },
  {
   "cell_type": "markdown",
   "id": "ccbd922e",
   "metadata": {},
   "source": [
    "Lowest gini index: "
   ]
  },
  {
   "cell_type": "code",
   "execution_count": 457,
   "id": "8d49ed12",
   "metadata": {},
   "outputs": [
    {
     "data": {
      "text/plain": [
       "country_name    Slovenia\n",
       "country_code         SVN\n",
       "population       2021316\n",
       "quantile               1\n",
       "income              2814\n",
       "gdp_ppp            27197\n",
       "gini                  23\n",
       "Name: 9300, dtype: object"
      ]
     },
     "execution_count": 457,
     "metadata": {},
     "output_type": "execute_result"
    }
   ],
   "source": [
    "df.loc[df['gini'].idxmin()]"
   ]
  },
  {
   "cell_type": "markdown",
   "id": "c6470b1f",
   "metadata": {},
   "source": [
    "My country:"
   ]
  },
  {
   "cell_type": "code",
   "execution_count": 458,
   "id": "38bea118",
   "metadata": {
    "scrolled": true
   },
   "outputs": [
    {
     "data": {
      "text/plain": [
       "country_name     Hungary\n",
       "country_code         HUN\n",
       "population      10038188\n",
       "quantile               1\n",
       "income              1211\n",
       "gdp_ppp            18004\n",
       "gini                  27\n",
       "Name: 4400, dtype: object"
      ]
     },
     "execution_count": 458,
     "metadata": {},
     "output_type": "execute_result"
    }
   ],
   "source": [
    "df[df['country_name'] == 'Hungary'].iloc[0]"
   ]
  },
  {
   "cell_type": "markdown",
   "id": "9171e967",
   "metadata": {},
   "source": [
    "4th selected country: "
   ]
  },
  {
   "cell_type": "code",
   "execution_count": 459,
   "id": "52af6dd3",
   "metadata": {},
   "outputs": [
    {
     "data": {
      "text/plain": [
       "country_name      Canada\n",
       "country_code         CAN\n",
       "population      33247118\n",
       "quantile               1\n",
       "income               122\n",
       "gdp_ppp            35895\n",
       "gini                  33\n",
       "Name: 1600, dtype: object"
      ]
     },
     "execution_count": 459,
     "metadata": {},
     "output_type": "execute_result"
    }
   ],
   "source": [
    "df[df['country_name'] == 'Canada'].iloc[0]"
   ]
  },
  {
   "cell_type": "markdown",
   "id": "61e21a75",
   "metadata": {},
   "source": [
    "5th selected country:"
   ]
  },
  {
   "cell_type": "code",
   "execution_count": 460,
   "id": "5bc662a8",
   "metadata": {
    "scrolled": true
   },
   "outputs": [
    {
     "data": {
      "text/plain": [
       "country_name         China\n",
       "country_code           CHN\n",
       "population      1324655000\n",
       "quantile                 1\n",
       "income                  16\n",
       "gdp_ppp               5712\n",
       "gini                    43\n",
       "Name: 1900, dtype: object"
      ]
     },
     "execution_count": 460,
     "metadata": {},
     "output_type": "execute_result"
    }
   ],
   "source": [
    "df[df['country_name'] == 'China'].iloc[0]"
   ]
  },
  {
   "cell_type": "code",
   "execution_count": 461,
   "id": "cd3ead9b",
   "metadata": {},
   "outputs": [],
   "source": [
    "# Data preparation:\n",
    "countries = ['South Africa', 'Slovenia', 'Hungary', 'Canada', 'China']"
   ]
  },
  {
   "cell_type": "code",
   "execution_count": 462,
   "id": "3c173108",
   "metadata": {
    "scrolled": false
   },
   "outputs": [
    {
     "data": {
      "image/png": "[encoded data removed]",
      "text/plain": [
       "<Figure size 640x480 with 1 Axes>"
      ]
     },
     "metadata": {},
     "output_type": "display_data"
    }
   ],
   "source": [
    "plt.figure()\n",
    "\n",
    "colors = ['pink', 'tan', 'palevioletred', 'steelblue', 'teal']\n",
    "\n",
    "for i, country in enumerate(countries):\n",
    "    country_data = df[df['country_name'] == country]\n",
    "    plt.plot(country_data['quantile'], country_data['income'], label=country, color=colors[i % len(colors)])\n",
    "\n",
    "    \n",
    "plt.yscale('log')  \n",
    "plt.legend(loc='lower right')\n",
    "\n",
    "plt.xlabel('Quantile')\n",
    "plt.ylabel('Income')\n",
    "plt.title('Income Distribution by Quantile')\n",
    "\n",
    "\n",
    "plt.show()"
   ]
  },
  {
   "cell_type": "code",
   "execution_count": 463,
   "id": "2fedc88a",
   "metadata": {
    "scrolled": false
   },
   "outputs": [
    {
     "data": {
      "image/png": "[encoded data removed]",
      "text/plain": [
       "<Figure size 1000x1000 with 6 Axes>"
      ]
     },
     "metadata": {},
     "output_type": "display_data"
    }
   ],
   "source": [
    "# Function to format y-axis labels\n",
    "def million(x, pos):\n",
    "    return f'{x * 1e-6:.1f}M'\n",
    "\n",
    "fig, axes = plt.subplots(3, 2, figsize=(10, 10))\n",
    "\n",
    "axes = axes.flatten()\n",
    "\n",
    "for i, country in enumerate(countries):\n",
    "    country_data = df[df['country_name'] == country]\n",
    "    country_cumulative = country_data['income'].cumsum() \n",
    "    axes[i].plot(country_data['quantile'], country_cumulative, label=country)\n",
    "    axes[i].set_xlabel('Quantile')\n",
    "    axes[i].set_ylabel('Income (Thousands)')\n",
    "    axes[i].set_title(str(country))\n",
    "    axes[i].plot([0, 100], [0, country_cumulative.max()], label='Perfect Equality', color='palevioletred')\n",
    "    axes[i].plot([0, 100], [country_cumulative.max() / 2, country_cumulative.max() / 2], label='50% of income', linestyle='dashed', color='lightgray')\n",
    "    axes[i].yaxis.set_major_formatter(FuncFormatter(million))\n",
    "    axes[i].legend()\n",
    "\n",
    "plt.tight_layout()\n",
    "plt.show()\n"
   ]
  },
  {
   "cell_type": "code",
   "execution_count": 465,
   "id": "7ed89883",
   "metadata": {},
   "outputs": [],
   "source": [
    "df.to_csv('Task_1/df.csv')"
   ]
  }
 ],
 "metadata": {
  "kernelspec": {
   "display_name": "Python 3 (ipykernel)",
   "language": "python",
   "name": "python3"
  },
  "language_info": {
   "codemirror_mode": {
    "name": "ipython",
    "version": 3
   },
   "file_extension": ".py",
   "mimetype": "text/x-python",
   "name": "python",
   "nbconvert_exporter": "python",
   "pygments_lexer": "ipython3",
   "version": "3.11.5"
  },
  "toc": {
   "base_numbering": 1,
   "nav_menu": {},
   "number_sections": true,
   "sideBar": true,
   "skip_h1_title": false,
   "title_cell": "Table of Contents",
   "title_sidebar": "Contents",
   "toc_cell": true,
   "toc_position": {
    "height": "618.75px",
    "left": "10px",
    "top": "150px",
    "width": "365px"
   },
   "toc_section_display": false,
   "toc_window_display": false
  }
 },
 "nbformat": 4,
 "nbformat_minor": 5
}
