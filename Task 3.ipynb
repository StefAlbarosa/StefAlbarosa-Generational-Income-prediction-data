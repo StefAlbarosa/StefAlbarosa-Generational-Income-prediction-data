{
 "cells": [
  {
   "cell_type": "markdown",
   "id": "d2c75330",
   "metadata": {
    "toc": true
   },
   "source": [
    "<h1>Table of Contents<span class=\"tocSkip\"></span></h1>\n",
    "<div class=\"toc\"><ul class=\"toc-item\"><li><ul class=\"toc-item\"><li><ul class=\"toc-item\"><li><span><a href=\"#Libraries-and-dataframes\" data-toc-modified-id=\"Libraries-and-dataframes-0.0.1\"><span class=\"toc-item-num\">0.0.1&nbsp;&nbsp;</span>Libraries and dataframes</a></span></li></ul></li></ul></li><li><span><a href=\"#Data-exploration\" data-toc-modified-id=\"Data-exploration-1\"><span class=\"toc-item-num\">1&nbsp;&nbsp;</span>Data exploration</a></span><ul class=\"toc-item\"><li><span><a href=\"#Boxplot\" data-toc-modified-id=\"Boxplot-1.1\"><span class=\"toc-item-num\">1.1&nbsp;&nbsp;</span>Boxplot</a></span></li><li><span><a href=\"#Normality-test\" data-toc-modified-id=\"Normality-test-1.2\"><span class=\"toc-item-num\">1.2&nbsp;&nbsp;</span>Normality test</a></span><ul class=\"toc-item\"><li><span><a href=\"#QQ-plots\" data-toc-modified-id=\"QQ-plots-1.2.1\"><span class=\"toc-item-num\">1.2.1&nbsp;&nbsp;</span>QQ plots</a></span></li><li><span><a href=\"#Loged-data\" data-toc-modified-id=\"Loged-data-1.2.2\"><span class=\"toc-item-num\">1.2.2&nbsp;&nbsp;</span>Loged data</a></span></li></ul></li></ul></li><li><span><a href=\"#ANOVA\" data-toc-modified-id=\"ANOVA-2\"><span class=\"toc-item-num\">2&nbsp;&nbsp;</span>ANOVA</a></span><ul class=\"toc-item\"><li><span><a href=\"#Income-and-country\" data-toc-modified-id=\"Income-and-country-2.1\"><span class=\"toc-item-num\">2.1&nbsp;&nbsp;</span>Income and country</a></span></li><li><span><a href=\"#Income-and-country-logged\" data-toc-modified-id=\"Income-and-country-logged-2.2\"><span class=\"toc-item-num\">2.2&nbsp;&nbsp;</span>Income and country logged</a></span></li></ul></li><li><span><a href=\"#Linear-regression\" data-toc-modified-id=\"Linear-regression-3\"><span class=\"toc-item-num\">3&nbsp;&nbsp;</span>Linear regression</a></span><ul class=\"toc-item\"><li><span><a href=\"#Gini-and-Mean-Income\" data-toc-modified-id=\"Gini-and-Mean-Income-3.1\"><span class=\"toc-item-num\">3.1&nbsp;&nbsp;</span>Gini and Mean Income</a></span></li><li><span><a href=\"#Gini-and-Mean-income-logged\" data-toc-modified-id=\"Gini-and-Mean-income-logged-3.2\"><span class=\"toc-item-num\">3.2&nbsp;&nbsp;</span>Gini and Mean income logged</a></span></li><li><span><a href=\"#Gini,-Mean-Income-and-Parent's-salary\" data-toc-modified-id=\"Gini,-Mean-Income-and-Parent's-salary-3.3\"><span class=\"toc-item-num\">3.3&nbsp;&nbsp;</span>Gini, Mean Income and Parent's salary</a></span></li><li><span><a href=\"#Gini,-Mean-Income-and-Prent's-income-logged\" data-toc-modified-id=\"Gini,-Mean-Income-and-Prent's-income-logged-3.4\"><span class=\"toc-item-num\">3.4&nbsp;&nbsp;</span>Gini, Mean Income and Prent's income logged</a></span></li><li><span><a href=\"#Comparing-all-the-models\" data-toc-modified-id=\"Comparing-all-the-models-3.5\"><span class=\"toc-item-num\">3.5&nbsp;&nbsp;</span>Comparing all the models</a></span></li></ul></li><li><span><a href=\"#Question-2:\" data-toc-modified-id=\"Question-2:-4\"><span class=\"toc-item-num\">4&nbsp;&nbsp;</span>Question 2:</a></span></li><li><span><a href=\"#Question-3:\" data-toc-modified-id=\"Question-3:-5\"><span class=\"toc-item-num\">5&nbsp;&nbsp;</span>Question 3:</a></span><ul class=\"toc-item\"><li><span><a href=\"#Part-1\" data-toc-modified-id=\"Part-1-5.1\"><span class=\"toc-item-num\">5.1&nbsp;&nbsp;</span>Part 1</a></span></li><li><span><a href=\"#Part-2\" data-toc-modified-id=\"Part-2-5.2\"><span class=\"toc-item-num\">5.2&nbsp;&nbsp;</span>Part 2</a></span></li></ul></li></ul></div>"
   ]
  },
  {
   "cell_type": "markdown",
   "id": "f447d217",
   "metadata": {},
   "source": [
    "based on the model we will want to see if it predicts correctly.\n",
    "\n",
    "predicting childs income based on country, gdp, income of country, income of parent\n",
    "\n",
    "country and parents are two big factors\n",
    "\n"
   ]
  },
  {
   "cell_type": "markdown",
   "id": "6be02b75",
   "metadata": {},
   "source": [
    "### Libraries and dataframes"
   ]
  },
  {
   "cell_type": "code",
   "execution_count": 68,
   "id": "8e19435d",
   "metadata": {},
   "outputs": [],
   "source": [
    "from matplotlib.ticker import FuncFormatter\n",
    "\n",
    "import matplotlib.pyplot as plt\n",
    "import numpy as np\n",
    "import pandas as pd\n",
    "import pickle\n",
    "import seaborn as sns\n",
    "\n",
    "import scipy.stats as stats\n",
    "from scipy.stats import jarque_bera\n",
    "\n",
    "from functions import * \n",
    "\n",
    "from collections import Counter \n",
    "import inspect\n",
    "\n",
    "\n",
    "import statsmodels.api as sm\n",
    "import statsmodels.formula.api as smf\n",
    "from statsmodels.stats.multicomp import pairwise_tukeyhsd"
   ]
  },
  {
   "cell_type": "code",
   "execution_count": 69,
   "id": "6aded299",
   "metadata": {
    "scrolled": false
   },
   "outputs": [
    {
     "data": {
      "text/html": [
       "<div>\n",
       "<style scoped>\n",
       "    .dataframe tbody tr th:only-of-type {\n",
       "        vertical-align: middle;\n",
       "    }\n",
       "\n",
       "    .dataframe tbody tr th {\n",
       "        vertical-align: top;\n",
       "    }\n",
       "\n",
       "    .dataframe thead th {\n",
       "        text-align: right;\n",
       "    }\n",
       "</style>\n",
       "<table border=\"1\" class=\"dataframe\">\n",
       "  <thead>\n",
       "    <tr style=\"text-align: right;\">\n",
       "      <th></th>\n",
       "      <th>country</th>\n",
       "      <th>c_i_child</th>\n",
       "      <th>income</th>\n",
       "      <th>gini</th>\n",
       "      <th>elasticity</th>\n",
       "      <th>mi</th>\n",
       "      <th>c_i_parent</th>\n",
       "    </tr>\n",
       "  </thead>\n",
       "  <tbody>\n",
       "    <tr>\n",
       "      <th>0</th>\n",
       "      <td>ALB</td>\n",
       "      <td>1</td>\n",
       "      <td>728</td>\n",
       "      <td>30</td>\n",
       "      <td>0.815874</td>\n",
       "      <td>2994.27</td>\n",
       "      <td>12</td>\n",
       "    </tr>\n",
       "    <tr>\n",
       "      <th>1</th>\n",
       "      <td>ALB</td>\n",
       "      <td>1</td>\n",
       "      <td>728</td>\n",
       "      <td>30</td>\n",
       "      <td>0.815874</td>\n",
       "      <td>2994.27</td>\n",
       "      <td>1</td>\n",
       "    </tr>\n",
       "    <tr>\n",
       "      <th>2</th>\n",
       "      <td>ALB</td>\n",
       "      <td>1</td>\n",
       "      <td>728</td>\n",
       "      <td>30</td>\n",
       "      <td>0.815874</td>\n",
       "      <td>2994.27</td>\n",
       "      <td>1</td>\n",
       "    </tr>\n",
       "    <tr>\n",
       "      <th>3</th>\n",
       "      <td>ALB</td>\n",
       "      <td>1</td>\n",
       "      <td>728</td>\n",
       "      <td>30</td>\n",
       "      <td>0.815874</td>\n",
       "      <td>2994.27</td>\n",
       "      <td>7</td>\n",
       "    </tr>\n",
       "    <tr>\n",
       "      <th>4</th>\n",
       "      <td>ALB</td>\n",
       "      <td>1</td>\n",
       "      <td>728</td>\n",
       "      <td>30</td>\n",
       "      <td>0.815874</td>\n",
       "      <td>2994.27</td>\n",
       "      <td>1</td>\n",
       "    </tr>\n",
       "  </tbody>\n",
       "</table>\n",
       "</div>"
      ],
      "text/plain": [
       "  country  c_i_child  income  gini  elasticity       mi  c_i_parent\n",
       "0     ALB          1     728    30    0.815874  2994.27          12\n",
       "1     ALB          1     728    30    0.815874  2994.27           1\n",
       "2     ALB          1     728    30    0.815874  2994.27           1\n",
       "3     ALB          1     728    30    0.815874  2994.27           7\n",
       "4     ALB          1     728    30    0.815874  2994.27           1"
      ]
     },
     "execution_count": 69,
     "metadata": {},
     "output_type": "execute_result"
    }
   ],
   "source": [
    "df_c= pd.read_csv('Task_2/df_c.csv', index_col=0)\n",
    "df_c.drop(['gdp_ppp'], axis=1, inplace=True)\n",
    "df_c.head()"
   ]
  },
  {
   "cell_type": "markdown",
   "id": "27a70cbf",
   "metadata": {},
   "source": [
    "# Data exploration"
   ]
  },
  {
   "cell_type": "markdown",
   "id": "5de97b11",
   "metadata": {},
   "source": [
    "## Boxplot"
   ]
  },
  {
   "cell_type": "code",
   "execution_count": 70,
   "id": "672d7cd1",
   "metadata": {
    "scrolled": false
   },
   "outputs": [
    {
     "data": {
      "text/plain": [
       "<Figure size 400x600 with 0 Axes>"
      ]
     },
     "metadata": {},
     "output_type": "display_data"
    },
    {
     "data": {
      "image/png": "[encoded data removed]",
      "text/plain": [
       "<Figure size 640x480 with 1 Axes>"
      ]
     },
     "metadata": {},
     "output_type": "display_data"
    }
   ],
   "source": [
    "import pandas as pd\n",
    "import matplotlib.pyplot as plt\n",
    "from matplotlib.ticker import FuncFormatter\n",
    "\n",
    "# Function to format y-axis labels\n",
    "def thousand(x, pos):\n",
    "    return f'{x * 1e-3:.1f}K'\n",
    "\n",
    "# Example DataFrame creation (assuming df_c is your DataFrame)\n",
    "# df_c = pd.DataFrame({'country': ['CAN', 'HUN', 'CHN', ...], 'income': [value1, value2, value3, ...]})\n",
    "\n",
    "# Which countries to plot\n",
    "countries_for_boxplot = ['CAN', 'HUN', 'CHN']\n",
    "\n",
    "# New df for boxplot\n",
    "boxplot_df = df_c[df_c['country'].isin(countries_for_boxplot)]\n",
    "\n",
    "# Create the boxplot\n",
    "plt.figure(figsize=(4, 6))\n",
    "boxplot_df.boxplot(column='income', by='country')  \n",
    "plt.xlabel('Country')\n",
    "plt.ylabel('Income (in thousands)')\n",
    "plt.gca().yaxis.set_major_formatter(FuncFormatter(thousand))\n",
    "plt.title('Income Distribution by Country')\n",
    "plt.suptitle('')  # Suppress the automatic 'Boxplot grouped by country' title\n",
    "plt.show()\n"
   ]
  },
  {
   "cell_type": "markdown",
   "id": "23ebe121",
   "metadata": {},
   "source": [
    "## Normality test"
   ]
  },
  {
   "cell_type": "markdown",
   "id": "586ab932",
   "metadata": {},
   "source": [
    "### QQ plots"
   ]
  },
  {
   "cell_type": "code",
   "execution_count": 71,
   "id": "7cf7c5e2",
   "metadata": {
    "scrolled": false
   },
   "outputs": [
    {
     "data": {
      "image/png": "[encoded data removed]",
      "text/plain": [
       "<Figure size 1200x400 with 3 Axes>"
      ]
     },
     "metadata": {},
     "output_type": "display_data"
    }
   ],
   "source": [
    "# Using the original data\n",
    "qq_columns = ['income','gini', 'mi']\n",
    "\n",
    "# Create Q-Q plots for each column\n",
    "fig, axes = plt.subplots(nrows=1, ncols=len(qq_columns), figsize=(12, 4))\n",
    "\n",
    "for i, col in enumerate(qq_columns):\n",
    "    stats.probplot(df_c[col], dist=\"norm\", plot=axes[i])\n",
    "    axes[i].get_lines()[0].set_markerfacecolor('salmon')  # Change color of the points\n",
    "    axes[i].get_lines()[0].set_markeredgecolor('salmon')  # Change color of the point edges\n",
    "    axes[i].get_lines()[1].set_color('teal')  # Change color of the line\n",
    "    axes[i].set_title(f'Q-Q Plot for {col}')\n",
    "    axes[i].set_xlabel('Theoretical Quantiles')\n",
    "    axes[i].set_ylabel('Sample Quantiles')\n",
    "\n",
    "plt.tight_layout()\n",
    "plt.show()\n"
   ]
  },
  {
   "cell_type": "code",
   "execution_count": 72,
   "id": "d0bee9f4",
   "metadata": {
    "scrolled": true
   },
   "outputs": [
    {
     "data": {
      "image/png": "[encoded data removed]",
      "text/plain": [
       "<Figure size 1200x400 with 3 Axes>"
      ]
     },
     "metadata": {},
     "output_type": "display_data"
    }
   ],
   "source": [
    "# Using logged data\n",
    "qq_columns = ['income', 'gini', 'mi']\n",
    "small_constant = 1e-10  # Define a small constant to avoid log(0)\n",
    "\n",
    "# Add the small constant to the selected columns and log-transform the data\n",
    "df_c_log = np.log(df_c[qq_columns] + small_constant)\n",
    "\n",
    "# Create Q-Q plots for each column\n",
    "fig, axes = plt.subplots(nrows=1, ncols=len(qq_columns), figsize=(12, 4))\n",
    "\n",
    "for i, col in enumerate(qq_columns):\n",
    "    stats.probplot(df_c_log[col], dist=\"norm\", plot=axes[i])\n",
    "    axes[i].get_lines()[0].set_markerfacecolor('salmon')  # Change color of the points\n",
    "    axes[i].get_lines()[0].set_markeredgecolor('salmon')  # Change color of the point edges\n",
    "    axes[i].get_lines()[1].set_color('teal')  # Change color of the line\n",
    "    axes[i].set_title(f'Q-Q Plot for log({col})')\n",
    "    axes[i].set_xlabel('Theoretical Quantiles')\n",
    "    axes[i].set_ylabel('Sample Quantiles')\n",
    "\n",
    "plt.tight_layout()\n",
    "plt.show()"
   ]
  },
  {
   "cell_type": "code",
   "execution_count": 73,
   "id": "bcc8c748",
   "metadata": {},
   "outputs": [],
   "source": [
    "columns_to_test = ['income', 'gini', 'mi']"
   ]
  },
  {
   "cell_type": "code",
   "execution_count": 74,
   "id": "77c31168",
   "metadata": {},
   "outputs": [
    {
     "name": "stdout",
     "output_type": "stream",
     "text": [
      "Column: income\n",
      "  Jarque-Bera statistic: 453152597.2325278\n",
      "  p-value: 0.0\n",
      "  Reject the null hypothesis: Data is not normally distributed.\n",
      "\n",
      "Column: gini\n",
      "  Jarque-Bera statistic: 354720.10470932827\n",
      "  p-value: 0.0\n",
      "  Reject the null hypothesis: Data is not normally distributed.\n",
      "\n",
      "Column: mi\n",
      "  Jarque-Bera statistic: 2498038.7576204706\n",
      "  p-value: 0.0\n",
      "  Reject the null hypothesis: Data is not normally distributed.\n",
      "\n"
     ]
    }
   ],
   "source": [
    "# Original data\n",
    "# Step 3 and 4: Perform Jarque-Bera test on each selected column\n",
    "results = {}\n",
    "for column in columns_to_test:\n",
    "    jb_stat, p_value = jarque_bera(df_c[column])\n",
    "    results[column] = (jb_stat, p_value)\n",
    "\n",
    "# Step 5: Print the results\n",
    "for column, (jb_stat, p_value) in results.items():\n",
    "    print(f\"Column: {column}\")\n",
    "    print(f\"  Jarque-Bera statistic: {jb_stat}\")\n",
    "    print(f\"  p-value: {p_value}\")\n",
    "    if p_value < 0.05:\n",
    "        print(\"  Reject the null hypothesis: Data is not normally distributed.\\n\")\n",
    "    else:\n",
    "        print(\"  Fail to reject the null hypothesis: Data is normally distributed.\\n\")"
   ]
  },
  {
   "cell_type": "code",
   "execution_count": 75,
   "id": "34b881c1",
   "metadata": {
    "scrolled": true
   },
   "outputs": [
    {
     "name": "stdout",
     "output_type": "stream",
     "text": [
      "Column: income\n",
      "  Jarque-Bera statistic: 80827.7863333807\n",
      "  p-value: 0.0\n",
      "  Reject the null hypothesis: Data is not normally distributed.\n",
      "\n",
      "Column: gini\n",
      "  Jarque-Bera statistic: 117154.64179268696\n",
      "  p-value: 0.0\n",
      "  Reject the null hypothesis: Data is not normally distributed.\n",
      "\n",
      "Column: mi\n",
      "  Jarque-Bera statistic: 207473.8267858383\n",
      "  p-value: 0.0\n",
      "  Reject the null hypothesis: Data is not normally distributed.\n",
      "\n"
     ]
    }
   ],
   "source": [
    "# Logged data:\n",
    "#  Perform Jarque-Bera test on each selected column\n",
    "results = {}\n",
    "for column in columns_to_test:\n",
    "    jb_stat, p_value = jarque_bera(df_c_log[column])\n",
    "    results[column] = (jb_stat, p_value)\n",
    "\n",
    "# Step 5: Print the results\n",
    "for column, (jb_stat, p_value) in results.items():\n",
    "    print(f\"Column: {column}\")\n",
    "    print(f\"  Jarque-Bera statistic: {jb_stat}\")\n",
    "    print(f\"  p-value: {p_value}\")\n",
    "    if p_value < 0.05:\n",
    "        print(\"  Reject the null hypothesis: Data is not normally distributed.\\n\")\n",
    "    else:\n",
    "        print(\"  Fail to reject the null hypothesis: Data is normally distributed.\\n\")"
   ]
  },
  {
   "cell_type": "code",
   "execution_count": 76,
   "id": "62dce610",
   "metadata": {
    "scrolled": false
   },
   "outputs": [
    {
     "data": {
      "text/plain": [
       "array([[<Axes: title={'center': 'gini'}>]], dtype=object)"
      ]
     },
     "execution_count": 76,
     "metadata": {},
     "output_type": "execute_result"
    },
    {
     "data": {
      "image/png": "[encoded data removed]",
      "text/plain": [
       "<Figure size 640x480 with 1 Axes>"
      ]
     },
     "metadata": {},
     "output_type": "display_data"
    }
   ],
   "source": [
    "df_c.hist(column = 'gini')"
   ]
  },
  {
   "cell_type": "markdown",
   "id": "bb921747",
   "metadata": {},
   "source": [
    "Data doesn't seem to be normally distributed"
   ]
  },
  {
   "cell_type": "markdown",
   "id": "49fa39f1",
   "metadata": {},
   "source": [
    "### Loged data"
   ]
  },
  {
   "cell_type": "code",
   "execution_count": 77,
   "id": "b5e2e567",
   "metadata": {},
   "outputs": [
    {
     "data": {
      "text/html": [
       "<div>\n",
       "<style scoped>\n",
       "    .dataframe tbody tr th:only-of-type {\n",
       "        vertical-align: middle;\n",
       "    }\n",
       "\n",
       "    .dataframe tbody tr th {\n",
       "        vertical-align: top;\n",
       "    }\n",
       "\n",
       "    .dataframe thead th {\n",
       "        text-align: right;\n",
       "    }\n",
       "</style>\n",
       "<table border=\"1\" class=\"dataframe\">\n",
       "  <thead>\n",
       "    <tr style=\"text-align: right;\">\n",
       "      <th></th>\n",
       "      <th>country</th>\n",
       "      <th>c_i_child</th>\n",
       "      <th>income</th>\n",
       "      <th>gini</th>\n",
       "      <th>elasticity</th>\n",
       "      <th>mi</th>\n",
       "      <th>c_i_parent</th>\n",
       "      <th>income_ln</th>\n",
       "      <th>gini_ln</th>\n",
       "      <th>mi_ln</th>\n",
       "      <th>c_i_parent_ln</th>\n",
       "    </tr>\n",
       "  </thead>\n",
       "  <tbody>\n",
       "    <tr>\n",
       "      <th>0</th>\n",
       "      <td>ALB</td>\n",
       "      <td>1</td>\n",
       "      <td>728</td>\n",
       "      <td>30</td>\n",
       "      <td>0.815874</td>\n",
       "      <td>2994.27</td>\n",
       "      <td>12</td>\n",
       "      <td>6.590301</td>\n",
       "      <td>3.401197</td>\n",
       "      <td>8.004456</td>\n",
       "      <td>2.484907</td>\n",
       "    </tr>\n",
       "    <tr>\n",
       "      <th>1</th>\n",
       "      <td>ALB</td>\n",
       "      <td>1</td>\n",
       "      <td>728</td>\n",
       "      <td>30</td>\n",
       "      <td>0.815874</td>\n",
       "      <td>2994.27</td>\n",
       "      <td>1</td>\n",
       "      <td>6.590301</td>\n",
       "      <td>3.401197</td>\n",
       "      <td>8.004456</td>\n",
       "      <td>0.000000</td>\n",
       "    </tr>\n",
       "    <tr>\n",
       "      <th>2</th>\n",
       "      <td>ALB</td>\n",
       "      <td>1</td>\n",
       "      <td>728</td>\n",
       "      <td>30</td>\n",
       "      <td>0.815874</td>\n",
       "      <td>2994.27</td>\n",
       "      <td>1</td>\n",
       "      <td>6.590301</td>\n",
       "      <td>3.401197</td>\n",
       "      <td>8.004456</td>\n",
       "      <td>0.000000</td>\n",
       "    </tr>\n",
       "    <tr>\n",
       "      <th>3</th>\n",
       "      <td>ALB</td>\n",
       "      <td>1</td>\n",
       "      <td>728</td>\n",
       "      <td>30</td>\n",
       "      <td>0.815874</td>\n",
       "      <td>2994.27</td>\n",
       "      <td>7</td>\n",
       "      <td>6.590301</td>\n",
       "      <td>3.401197</td>\n",
       "      <td>8.004456</td>\n",
       "      <td>1.945910</td>\n",
       "    </tr>\n",
       "    <tr>\n",
       "      <th>4</th>\n",
       "      <td>ALB</td>\n",
       "      <td>1</td>\n",
       "      <td>728</td>\n",
       "      <td>30</td>\n",
       "      <td>0.815874</td>\n",
       "      <td>2994.27</td>\n",
       "      <td>1</td>\n",
       "      <td>6.590301</td>\n",
       "      <td>3.401197</td>\n",
       "      <td>8.004456</td>\n",
       "      <td>0.000000</td>\n",
       "    </tr>\n",
       "  </tbody>\n",
       "</table>\n",
       "</div>"
      ],
      "text/plain": [
       "  country  c_i_child  income  gini  elasticity       mi  c_i_parent  \\\n",
       "0     ALB          1     728    30    0.815874  2994.27          12   \n",
       "1     ALB          1     728    30    0.815874  2994.27           1   \n",
       "2     ALB          1     728    30    0.815874  2994.27           1   \n",
       "3     ALB          1     728    30    0.815874  2994.27           7   \n",
       "4     ALB          1     728    30    0.815874  2994.27           1   \n",
       "\n",
       "   income_ln   gini_ln     mi_ln  c_i_parent_ln  \n",
       "0   6.590301  3.401197  8.004456       2.484907  \n",
       "1   6.590301  3.401197  8.004456       0.000000  \n",
       "2   6.590301  3.401197  8.004456       0.000000  \n",
       "3   6.590301  3.401197  8.004456       1.945910  \n",
       "4   6.590301  3.401197  8.004456       0.000000  "
      ]
     },
     "execution_count": 77,
     "metadata": {},
     "output_type": "execute_result"
    }
   ],
   "source": [
    "df_c[\"income_ln\"] = np.log(df_c[\"income\"])\n",
    "df_c[\"gini_ln\"] = np.log(df_c[\"gini\"])\n",
    "df_c[\"mi_ln\"] = np.log(df_c[\"mi\"])\n",
    "df_c[\"c_i_parent_ln\"] = np.log(df_c[\"c_i_parent\"])\n",
    "\n",
    "\n",
    "df_c.head()"
   ]
  },
  {
   "cell_type": "markdown",
   "id": "9ca6dc5e",
   "metadata": {},
   "source": [
    "# ANOVA"
   ]
  },
  {
   "cell_type": "code",
   "execution_count": 78,
   "id": "b2e27eb3",
   "metadata": {
    "scrolled": true
   },
   "outputs": [
    {
     "data": {
      "text/html": [
       "<div>\n",
       "<style scoped>\n",
       "    .dataframe tbody tr th:only-of-type {\n",
       "        vertical-align: middle;\n",
       "    }\n",
       "\n",
       "    .dataframe tbody tr th {\n",
       "        vertical-align: top;\n",
       "    }\n",
       "\n",
       "    .dataframe thead th {\n",
       "        text-align: right;\n",
       "    }\n",
       "</style>\n",
       "<table border=\"1\" class=\"dataframe\">\n",
       "  <thead>\n",
       "    <tr style=\"text-align: right;\">\n",
       "      <th></th>\n",
       "      <th>country</th>\n",
       "      <th>c_i_child</th>\n",
       "      <th>income</th>\n",
       "      <th>gini</th>\n",
       "      <th>elasticity</th>\n",
       "      <th>mi</th>\n",
       "      <th>c_i_parent</th>\n",
       "      <th>income_ln</th>\n",
       "      <th>gini_ln</th>\n",
       "      <th>mi_ln</th>\n",
       "      <th>c_i_parent_ln</th>\n",
       "    </tr>\n",
       "  </thead>\n",
       "  <tbody>\n",
       "    <tr>\n",
       "      <th>0</th>\n",
       "      <td>ALB</td>\n",
       "      <td>1</td>\n",
       "      <td>728</td>\n",
       "      <td>30</td>\n",
       "      <td>0.815874</td>\n",
       "      <td>2994.27</td>\n",
       "      <td>12</td>\n",
       "      <td>6.590301</td>\n",
       "      <td>3.401197</td>\n",
       "      <td>8.004456</td>\n",
       "      <td>2.484907</td>\n",
       "    </tr>\n",
       "    <tr>\n",
       "      <th>1</th>\n",
       "      <td>ALB</td>\n",
       "      <td>1</td>\n",
       "      <td>728</td>\n",
       "      <td>30</td>\n",
       "      <td>0.815874</td>\n",
       "      <td>2994.27</td>\n",
       "      <td>1</td>\n",
       "      <td>6.590301</td>\n",
       "      <td>3.401197</td>\n",
       "      <td>8.004456</td>\n",
       "      <td>0.000000</td>\n",
       "    </tr>\n",
       "    <tr>\n",
       "      <th>2</th>\n",
       "      <td>ALB</td>\n",
       "      <td>1</td>\n",
       "      <td>728</td>\n",
       "      <td>30</td>\n",
       "      <td>0.815874</td>\n",
       "      <td>2994.27</td>\n",
       "      <td>1</td>\n",
       "      <td>6.590301</td>\n",
       "      <td>3.401197</td>\n",
       "      <td>8.004456</td>\n",
       "      <td>0.000000</td>\n",
       "    </tr>\n",
       "    <tr>\n",
       "      <th>3</th>\n",
       "      <td>ALB</td>\n",
       "      <td>1</td>\n",
       "      <td>728</td>\n",
       "      <td>30</td>\n",
       "      <td>0.815874</td>\n",
       "      <td>2994.27</td>\n",
       "      <td>7</td>\n",
       "      <td>6.590301</td>\n",
       "      <td>3.401197</td>\n",
       "      <td>8.004456</td>\n",
       "      <td>1.945910</td>\n",
       "    </tr>\n",
       "    <tr>\n",
       "      <th>4</th>\n",
       "      <td>ALB</td>\n",
       "      <td>1</td>\n",
       "      <td>728</td>\n",
       "      <td>30</td>\n",
       "      <td>0.815874</td>\n",
       "      <td>2994.27</td>\n",
       "      <td>1</td>\n",
       "      <td>6.590301</td>\n",
       "      <td>3.401197</td>\n",
       "      <td>8.004456</td>\n",
       "      <td>0.000000</td>\n",
       "    </tr>\n",
       "  </tbody>\n",
       "</table>\n",
       "</div>"
      ],
      "text/plain": [
       "  country  c_i_child  income  gini  elasticity       mi  c_i_parent  \\\n",
       "0     ALB          1     728    30    0.815874  2994.27          12   \n",
       "1     ALB          1     728    30    0.815874  2994.27           1   \n",
       "2     ALB          1     728    30    0.815874  2994.27           1   \n",
       "3     ALB          1     728    30    0.815874  2994.27           7   \n",
       "4     ALB          1     728    30    0.815874  2994.27           1   \n",
       "\n",
       "   income_ln   gini_ln     mi_ln  c_i_parent_ln  \n",
       "0   6.590301  3.401197  8.004456       2.484907  \n",
       "1   6.590301  3.401197  8.004456       0.000000  \n",
       "2   6.590301  3.401197  8.004456       0.000000  \n",
       "3   6.590301  3.401197  8.004456       1.945910  \n",
       "4   6.590301  3.401197  8.004456       0.000000  "
      ]
     },
     "execution_count": 78,
     "metadata": {},
     "output_type": "execute_result"
    }
   ],
   "source": [
    "df_c.head()"
   ]
  },
  {
   "cell_type": "markdown",
   "id": "60fe6699",
   "metadata": {},
   "source": [
    "Null hypothesis: Incomes are not significantly different depending on countries. "
   ]
  },
  {
   "cell_type": "markdown",
   "id": "afb66a67",
   "metadata": {},
   "source": [
    "## Income and country"
   ]
  },
  {
   "cell_type": "code",
   "execution_count": 79,
   "id": "94d9a0db",
   "metadata": {},
   "outputs": [],
   "source": [
    "anova_country = smf.ols('income ~ country',\n",
    "                       data= df_c).fit()\n",
    "\n",
    "anova_table = sm.stats.anova_lm(anova_country, typ=2)"
   ]
  },
  {
   "cell_type": "code",
   "execution_count": 80,
   "id": "24f43623",
   "metadata": {
    "scrolled": true
   },
   "outputs": [
    {
     "name": "stdout",
     "output_type": "stream",
     "text": [
      "                            OLS Regression Results                            \n",
      "==============================================================================\n",
      "Dep. Variable:                 income   R-squared:                       0.497\n",
      "Model:                            OLS   Adj. R-squared:                  0.496\n",
      "Method:                 Least Squares   F-statistic:                 4.974e+04\n",
      "Date:                Wed, 03 Jul 2024   Prob (F-statistic):               0.00\n",
      "Time:                        16:54:12   Log-Likelihood:            -5.8265e+07\n",
      "No. Observations:             5700000   AIC:                         1.165e+08\n",
      "Df Residuals:                 5699886   BIC:                         1.165e+08\n",
      "Df Model:                         113                                         \n",
      "Covariance Type:            nonrobust                                         \n",
      "==================================================================================\n",
      "                     coef    std err          t      P>|t|      [0.025      0.975]\n",
      "----------------------------------------------------------------------------------\n",
      "Intercept       2994.2700     29.760    100.614      0.000    2935.941    3052.599\n",
      "country[T.ARG]  2853.1600     42.087     67.792      0.000    2770.671    2935.649\n",
      "country[T.ARM] -1366.3900     42.087    -32.466      0.000   -1448.879   -1283.901\n",
      "country[T.AUT]  1.364e+04     42.087    324.156      0.000    1.36e+04    1.37e+04\n",
      "country[T.AZE]  -637.3800     42.087    -15.144      0.000    -719.869    -554.891\n",
      "country[T.BEL]  1.203e+04     42.087    285.832      0.000    1.19e+04    1.21e+04\n",
      "country[T.BFA] -2076.8600     42.087    -49.347      0.000   -2159.349   -1994.371\n",
      "country[T.BGD] -1996.0200     42.087    -47.426      0.000   -2078.509   -1913.531\n",
      "country[T.BGR]  1990.2400     42.087     47.289      0.000    1907.751    2072.729\n",
      "country[T.BIH]  3339.9600     42.087     79.358      0.000    3257.471    3422.449\n",
      "country[T.BLR]   926.4000     42.087     22.011      0.000     843.911    1008.889\n",
      "country[T.BOL]    21.5000     42.087      0.511      0.609     -60.989     103.989\n",
      "country[T.BRA]  1812.6800     42.087     43.070      0.000    1730.191    1895.169\n",
      "country[T.BTN] -1478.8200     42.087    -35.137      0.000   -1561.309   -1396.331\n",
      "country[T.CAF] -2183.5000     42.087    -51.880      0.000   -2265.989   -2101.011\n",
      "country[T.CAN]  2.074e+04     42.087    492.902      0.000    2.07e+04    2.08e+04\n",
      "country[T.CHL]  4056.8400     42.087     96.391      0.000    3974.351    4139.329\n",
      "country[T.CHN]  -472.0200     42.087    -11.215      0.000    -554.509    -389.531\n",
      "country[T.CIV] -2594.8800     42.087    -61.655      0.000   -2677.369   -2512.391\n",
      "country[T.CMR] -1200.2900     42.087    -28.519      0.000   -1282.779   -1117.801\n",
      "country[T.COD] -2718.7200     42.087    -64.597      0.000   -2801.209   -2636.231\n",
      "country[T.COL]   552.2600     42.087     13.122      0.000     469.771     634.749\n",
      "country[T.CRI]  2585.6300     42.087     61.435      0.000    2503.141    2668.119\n",
      "country[T.CYP]  1.435e+04     42.087    340.972      0.000    1.43e+04    1.44e+04\n",
      "country[T.CZE]  5240.5000     42.087    124.515      0.000    5158.011    5322.989\n",
      "country[T.DEU]  1.507e+04     42.087    357.994      0.000     1.5e+04    1.51e+04\n",
      "country[T.DNK]  1.405e+04     42.087    333.793      0.000     1.4e+04    1.41e+04\n",
      "country[T.DOM]   563.6100     42.087     13.391      0.000     481.121     646.099\n",
      "country[T.ECU]   388.9500     42.087      9.242      0.000     306.461     471.439\n",
      "country[T.EGY] -1025.2000     42.087    -24.359      0.000   -1107.689    -942.711\n",
      "country[T.ESP]  1.012e+04     42.087    240.508      0.000       1e+04    1.02e+04\n",
      "country[T.EST]  4707.2900     42.087    111.846      0.000    4624.801    4789.779\n",
      "country[T.FIN]  1.331e+04     42.087    316.285      0.000    1.32e+04    1.34e+04\n",
      "country[T.FJI]  -896.0600     42.087    -21.291      0.000    -978.549    -813.571\n",
      "country[T.FRA]  1.531e+04     42.087    363.879      0.000    1.52e+04    1.54e+04\n",
      "country[T.GBR]  1.871e+04     42.087    444.669      0.000    1.86e+04    1.88e+04\n",
      "country[T.GEO] -1630.9800     42.087    -38.752      0.000   -1713.469   -1548.491\n",
      "country[T.GHA] -2258.2000     42.087    -53.655      0.000   -2340.689   -2175.711\n",
      "country[T.GIN] -2298.7500     42.087    -54.619      0.000   -2381.239   -2216.261\n",
      "country[T.GRC]  8732.5200     42.087    207.487      0.000    8650.031    8815.009\n",
      "country[T.GTM]  -852.2800     42.087    -20.250      0.000    -934.769    -769.791\n",
      "country[T.HND]   301.5000     42.087      7.164      0.000     219.011     383.989\n",
      "country[T.HRV]  4721.6800     42.087    112.188      0.000    4639.191    4804.169\n",
      "country[T.HUN]  3106.5700     42.087     73.813      0.000    3024.081    3189.059\n",
      "country[T.IDN] -1660.1900     42.087    -39.446      0.000   -1742.679   -1577.701\n",
      "country[T.IND] -2070.5100     42.087    -49.196      0.000   -2152.999   -1988.021\n",
      "country[T.IRL]  1.472e+04     42.087    349.654      0.000    1.46e+04    1.48e+04\n",
      "country[T.IRN]  2837.9100     42.087     67.429      0.000    2755.421    2920.399\n",
      "country[T.IRQ] -1289.3000     42.087    -30.634      0.000   -1371.789   -1206.811\n",
      "country[T.ISL]  2.389e+04     42.087    567.721      0.000    2.38e+04     2.4e+04\n",
      "country[T.ISR]  8105.4900     42.087    192.588      0.000    8023.001    8187.979\n",
      "country[T.ITA]  1.193e+04     42.087    283.470      0.000    1.18e+04     1.2e+04\n",
      "country[T.JOR]    53.8300     42.087      1.279      0.201     -28.659     136.319\n",
      "country[T.JPN]  1.444e+04     42.087    343.055      0.000    1.44e+04    1.45e+04\n",
      "country[T.KAZ]  -755.6000     42.087    -17.953      0.000    -838.089    -673.111\n",
      "country[T.KEN] -2475.4500     42.087    -58.817      0.000   -2557.939   -2392.961\n",
      "country[T.KGZ] -1221.5300     42.087    -29.024      0.000   -1304.019   -1139.041\n",
      "country[T.KHM] -1508.4400     42.087    -35.841      0.000   -1590.929   -1425.951\n",
      "country[T.KOR]  1.223e+04     42.087    290.655      0.000    1.22e+04    1.23e+04\n",
      "country[T.LAO] -1991.4000     42.087    -47.316      0.000   -2073.889   -1908.911\n",
      "country[T.LBR] -2379.7600     42.087    -56.544      0.000   -2462.249   -2297.271\n",
      "country[T.LKA] -1116.8400     42.087    -26.536      0.000   -1199.329   -1034.351\n",
      "country[T.LTU]  3628.9100     42.087     86.224      0.000    3546.421    3711.399\n",
      "country[T.LUX]  2.222e+04     42.087    528.018      0.000    2.21e+04    2.23e+04\n",
      "country[T.LVA]  3769.7000     42.087     89.569      0.000    3687.211    3852.189\n",
      "country[T.MAR]  -657.1800     42.087    -15.615      0.000    -739.669    -574.691\n",
      "country[T.MDA]  -845.6000     42.087    -20.092      0.000    -928.089    -763.111\n",
      "country[T.MDG] -2649.5000     42.087    -62.953      0.000   -2731.989   -2567.011\n",
      "country[T.MEX]   891.0500     42.087     21.172      0.000     808.561     973.539\n",
      "country[T.MKD]  1604.6400     42.087     38.127      0.000    1522.151    1687.129\n",
      "country[T.MLI] -2313.7100     42.087    -54.974      0.000   -2396.199   -2231.221\n",
      "country[T.MNE]  3553.1300     42.087     84.423      0.000    3470.641    3635.619\n",
      "country[T.MNG]  -656.6900     42.087    -15.603      0.000    -739.179    -574.201\n",
      "country[T.MOZ] -2302.2500     42.087    -54.702      0.000   -2384.739   -2219.761\n",
      "country[T.MRT] -1196.1800     42.087    -28.422      0.000   -1278.669   -1113.691\n",
      "country[T.MWI] -2080.4800     42.087    -49.433      0.000   -2162.969   -1997.991\n",
      "country[T.MYS]  3011.5700     42.087     71.556      0.000    2929.081    3094.059\n",
      "country[T.NER] -2344.6600     42.087    -55.710      0.000   -2427.149   -2262.171\n",
      "country[T.NGA] -2302.8700     42.087    -54.717      0.000   -2385.359   -2220.381\n",
      "country[T.NIC]  -475.4000     42.087    -11.296      0.000    -557.889    -392.911\n",
      "country[T.NLD]  1.473e+04     42.087    350.080      0.000    1.47e+04    1.48e+04\n",
      "country[T.NOR]  1.949e+04     42.087    463.053      0.000    1.94e+04    1.96e+04\n",
      "country[T.NPL] -2080.3700     42.087    -49.430      0.000   -2162.859   -1997.881\n",
      "country[T.PAK] -2106.9600     42.087    -50.062      0.000   -2189.449   -2024.471\n",
      "country[T.PAN]  2140.3500     42.087     50.855      0.000    2057.861    2222.839\n",
      "country[T.PER]   335.7400     42.087      7.977      0.000     253.251     418.229\n",
      "country[T.PHL] -1520.7100     42.087    -36.132      0.000   -1603.199   -1438.221\n",
      "country[T.POL]  2746.9200     42.087     65.267      0.000    2664.431    2829.409\n",
      "country[T.PRT]  7103.8700     42.087    168.790      0.000    7021.381    7186.359\n",
      "country[T.PRY]   283.3000     42.087      6.731      0.000     200.811     365.789\n",
      "country[T.PSE] -1880.6900     42.087    -44.686      0.000   -1963.179   -1798.201\n",
      "country[T.ROU]   323.5300     42.087      7.687      0.000     241.041     406.019\n",
      "country[T.RUS]  4162.0200     42.087     98.891      0.000    4079.531    4244.509\n",
      "country[T.SDN] -1909.4100     42.087    -45.368      0.000   -1991.899   -1826.921\n",
      "country[T.SLV]  -139.5800     42.087     -3.316      0.001    -222.069     -57.091\n",
      "country[T.SRB]  1884.9800     42.087     44.788      0.000    1802.491    1967.469\n",
      "country[T.SVK]  3101.7800     42.087     73.699      0.000    3019.291    3184.269\n",
      "country[T.SVN]  9111.2300     42.087    216.485      0.000    9028.741    9193.719\n",
      "country[T.SWE]  1.319e+04     42.087    313.384      0.000    1.31e+04    1.33e+04\n",
      "country[T.SWZ] -2464.4900     42.087    -58.557      0.000   -2546.979   -2382.001\n",
      "country[T.SYR] -2308.8800     42.087    -54.860      0.000   -2391.369   -2226.391\n",
      "country[T.THA]  -251.0600     42.087     -5.965      0.000    -333.549    -168.571\n",
      "country[T.TJK]  -924.8500     42.087    -21.975      0.000   -1007.339    -842.361\n",
      "country[T.TLS] -2267.2000     42.087    -53.869      0.000   -2349.689   -2184.711\n",
      "country[T.TUR]  3055.7200     42.087     72.605      0.000    2973.231    3138.209\n",
      "country[T.TZA] -2406.0500     42.087    -57.168      0.000   -2488.539   -2323.561\n",
      "country[T.UGA] -2007.6000     42.087    -47.701      0.000   -2090.089   -1925.111\n",
      "country[T.UKR]   354.6300     42.087      8.426      0.000     272.141     437.119\n",
      "country[T.URY]  2296.0100     42.087     54.554      0.000    2213.521    2378.499\n",
      "country[T.USA]  2.251e+04     42.087    534.815      0.000    2.24e+04    2.26e+04\n",
      "country[T.VEN]   172.4000     42.087      4.096      0.000      89.911     254.889\n",
      "country[T.VNM] -1616.9900     42.087    -38.420      0.000   -1699.479   -1534.501\n",
      "country[T.YEM] -1952.1500     42.087    -46.384      0.000   -2034.639   -1869.661\n",
      "country[T.ZAF]  2623.1800     42.087     62.327      0.000    2540.691    2705.669\n",
      "==============================================================================\n",
      "Omnibus:                  7223141.570   Durbin-Watson:                   0.001\n",
      "Prob(Omnibus):                  0.000   Jarque-Bera (JB):       2161535520.374\n",
      "Skew:                           6.815   Prob(JB):                         0.00\n",
      "Kurtosis:                      97.421   Cond. No.                         115.\n",
      "==============================================================================\n",
      "\n",
      "Notes:\n",
      "[1] Standard Errors assume that the covariance matrix of the errors is correctly specified.\n"
     ]
    }
   ],
   "source": [
    "print(anova_country.summary())"
   ]
  },
  {
   "cell_type": "code",
   "execution_count": 81,
   "id": "5935e1d8",
   "metadata": {},
   "outputs": [
    {
     "data": {
      "text/html": [
       "<div>\n",
       "<style scoped>\n",
       "    .dataframe tbody tr th:only-of-type {\n",
       "        vertical-align: middle;\n",
       "    }\n",
       "\n",
       "    .dataframe tbody tr th {\n",
       "        vertical-align: top;\n",
       "    }\n",
       "\n",
       "    .dataframe thead th {\n",
       "        text-align: right;\n",
       "    }\n",
       "</style>\n",
       "<table border=\"1\" class=\"dataframe\">\n",
       "  <thead>\n",
       "    <tr style=\"text-align: right;\">\n",
       "      <th></th>\n",
       "      <th>sum_sq</th>\n",
       "      <th>df</th>\n",
       "      <th>F</th>\n",
       "      <th>PR(&gt;F)</th>\n",
       "    </tr>\n",
       "  </thead>\n",
       "  <tbody>\n",
       "    <tr>\n",
       "      <th>country</th>\n",
       "      <td>2.489018e+14</td>\n",
       "      <td>113.0</td>\n",
       "      <td>49740.548122</td>\n",
       "      <td>0.0</td>\n",
       "    </tr>\n",
       "    <tr>\n",
       "      <th>Residual</th>\n",
       "      <td>2.524092e+14</td>\n",
       "      <td>5699886.0</td>\n",
       "      <td>NaN</td>\n",
       "      <td>NaN</td>\n",
       "    </tr>\n",
       "  </tbody>\n",
       "</table>\n",
       "</div>"
      ],
      "text/plain": [
       "                sum_sq         df             F  PR(>F)\n",
       "country   2.489018e+14      113.0  49740.548122     0.0\n",
       "Residual  2.524092e+14  5699886.0           NaN     NaN"
      ]
     },
     "execution_count": 81,
     "metadata": {},
     "output_type": "execute_result"
    }
   ],
   "source": [
    "anova_table"
   ]
  },
  {
   "cell_type": "markdown",
   "id": "737d103b",
   "metadata": {},
   "source": [
    "The large F-statistic and low p-value indicate that there is significant different from one another and that I can reject the null hypothesis. \n",
    "\n"
   ]
  },
  {
   "cell_type": "markdown",
   "id": "cb661ed0",
   "metadata": {},
   "source": [
    "## Income and country logged"
   ]
  },
  {
   "cell_type": "code",
   "execution_count": 82,
   "id": "e6d8572a",
   "metadata": {},
   "outputs": [],
   "source": [
    "anova_country_log = smf.ols('income_ln ~ country',\n",
    "                       data= df_c).fit()\n",
    "\n",
    "anova_table_log = sm.stats.anova_lm(anova_country_log, typ=2)"
   ]
  },
  {
   "cell_type": "code",
   "execution_count": 83,
   "id": "92b2240b",
   "metadata": {},
   "outputs": [
    {
     "name": "stdout",
     "output_type": "stream",
     "text": [
      "                            OLS Regression Results                            \n",
      "==============================================================================\n",
      "Dep. Variable:              income_ln   R-squared:                       0.727\n",
      "Model:                            OLS   Adj. R-squared:                  0.727\n",
      "Method:                 Least Squares   F-statistic:                 1.346e+05\n",
      "Date:                Wed, 03 Jul 2024   Prob (F-statistic):               0.00\n",
      "Time:                        16:57:26   Log-Likelihood:            -6.2282e+06\n",
      "No. Observations:             5700000   AIC:                         1.246e+07\n",
      "Df Residuals:                 5699886   BIC:                         1.246e+07\n",
      "Df Model:                         113                                         \n",
      "Covariance Type:            nonrobust                                         \n",
      "==================================================================================\n",
      "                     coef    std err          t      P>|t|      [0.025      0.975]\n",
      "----------------------------------------------------------------------------------\n",
      "Intercept          7.8515      0.003   2432.910      0.000       7.845       7.858\n",
      "country[T.ARG]     0.4504      0.005     98.694      0.000       0.441       0.459\n",
      "country[T.ARM]    -0.5699      0.005   -124.872      0.000      -0.579      -0.561\n",
      "country[T.AUT]     1.7385      0.005    380.916      0.000       1.730       1.747\n",
      "country[T.AZE]    -0.2479      0.005    -54.311      0.000      -0.257      -0.239\n",
      "country[T.BEL]     1.6258      0.005    356.238      0.000       1.617       1.635\n",
      "country[T.BFA]    -1.2926      0.005   -283.213      0.000      -1.302      -1.284\n",
      "country[T.BGD]    -1.1075      0.005   -242.657      0.000      -1.116      -1.099\n",
      "country[T.BGR]     0.4236      0.005     92.804      0.000       0.415       0.432\n",
      "country[T.BIH]     0.6882      0.005    150.792      0.000       0.679       0.697\n",
      "country[T.BLR]     0.3059      0.005     67.035      0.000       0.297       0.315\n",
      "country[T.BOL]    -0.4933      0.005   -108.088      0.000      -0.502      -0.484\n",
      "country[T.BRA]     0.0789      0.005     17.279      0.000       0.070       0.088\n",
      "country[T.BTN]    -0.7672      0.005   -168.104      0.000      -0.776      -0.758\n",
      "country[T.CAF]    -1.7225      0.005   -377.418      0.000      -1.731      -1.714\n",
      "country[T.CAN]     1.9630      0.005    430.105      0.000       1.954       1.972\n",
      "country[T.CHL]     0.5108      0.005    111.915      0.000       0.502       0.520\n",
      "country[T.CHN]    -0.4544      0.005    -99.556      0.000      -0.463      -0.445\n",
      "country[T.CIV]    -2.1590      0.005   -473.054      0.000      -2.168      -2.150\n",
      "country[T.CMR]    -0.6063      0.005   -132.852      0.000      -0.615      -0.597\n",
      "country[T.COD]    -2.5667      0.005   -562.394      0.000      -2.576      -2.558\n",
      "country[T.COL]    -0.2956      0.005    -64.766      0.000      -0.305      -0.287\n",
      "country[T.CRI]     0.3491      0.005     76.500      0.000       0.340       0.358\n",
      "country[T.CYP]     1.7784      0.005    389.669      0.000       1.769       1.787\n",
      "country[T.CZE]     1.0543      0.005    231.017      0.000       1.045       1.063\n",
      "country[T.DEU]     1.7887      0.005    391.921      0.000       1.780       1.798\n",
      "country[T.DNK]     1.7709      0.005    388.014      0.000       1.762       1.780\n",
      "country[T.DOM]    -0.1184      0.005    -25.943      0.000      -0.127      -0.109\n",
      "country[T.ECU]    -0.2009      0.005    -44.012      0.000      -0.210      -0.192\n",
      "country[T.EGY]    -0.4474      0.005    -98.038      0.000      -0.456      -0.438\n",
      "country[T.ESP]     1.4577      0.005    319.401      0.000       1.449       1.467\n",
      "country[T.EST]     0.9425      0.005    206.520      0.000       0.934       0.951\n",
      "country[T.FIN]     1.7187      0.005    376.589      0.000       1.710       1.728\n",
      "country[T.FJI]    -0.5097      0.005   -111.686      0.000      -0.519      -0.501\n",
      "country[T.FRA]     1.7806      0.005    390.137      0.000       1.772       1.790\n",
      "country[T.GBR]     1.9304      0.005    422.965      0.000       1.921       1.939\n",
      "country[T.GEO]    -0.9044      0.005   -198.166      0.000      -0.913      -0.895\n",
      "country[T.GHA]    -1.5687      0.005   -343.706      0.000      -1.578      -1.560\n",
      "country[T.GIN]    -1.5702      0.005   -344.051      0.000      -1.579      -1.561\n",
      "country[T.GRC]     1.3267      0.005    290.689      0.000       1.318       1.336\n",
      "country[T.GTM]    -0.7849      0.005   -171.971      0.000      -0.794      -0.776\n",
      "country[T.HND]    -0.4711      0.005   -103.214      0.000      -0.480      -0.462\n",
      "country[T.HRV]     0.9466      0.005    207.402      0.000       0.938       0.956\n",
      "country[T.HUN]     0.7376      0.005    161.608      0.000       0.729       0.747\n",
      "country[T.IDN]    -0.8826      0.005   -193.379      0.000      -0.892      -0.874\n",
      "country[T.IND]    -1.2047      0.005   -263.967      0.000      -1.214      -1.196\n",
      "country[T.IRL]     1.7757      0.005    389.070      0.000       1.767       1.785\n",
      "country[T.IRN]     0.4876      0.005    106.838      0.000       0.479       0.497\n",
      "country[T.IRQ]    -0.6338      0.005   -138.878      0.000      -0.643      -0.625\n",
      "country[T.ISL]     2.2100      0.005    484.233      0.000       2.201       2.219\n",
      "country[T.ISR]     1.1322      0.005    248.076      0.000       1.123       1.141\n",
      "country[T.ITA]     1.5796      0.005    346.108      0.000       1.571       1.589\n",
      "country[T.JOR]    -0.0137      0.005     -3.003      0.003      -0.023      -0.005\n",
      "country[T.JPN]     1.7290      0.005    378.840      0.000       1.720       1.738\n",
      "country[T.KAZ]    -0.2534      0.005    -55.532      0.000      -0.262      -0.244\n",
      "country[T.KEN]    -1.7500      0.005   -383.439      0.000      -1.759      -1.741\n",
      "country[T.KGZ]    -0.5742      0.005   -125.808      0.000      -0.583      -0.565\n",
      "country[T.KHM]    -0.7074      0.005   -154.998      0.000      -0.716      -0.698\n",
      "country[T.KOR]     1.5035      0.005    329.427      0.000       1.495       1.512\n",
      "country[T.LAO]    -1.1470      0.005   -251.319      0.000      -1.156      -1.138\n",
      "country[T.LBR]    -1.6864      0.005   -369.514      0.000      -1.695      -1.677\n",
      "country[T.LKA]    -0.5795      0.005   -126.965      0.000      -0.588      -0.571\n",
      "country[T.LTU]     0.7495      0.005    164.219      0.000       0.741       0.758\n",
      "country[T.LUX]     2.1419      0.005    469.315      0.000       2.133       2.151\n",
      "country[T.LVA]     0.7395      0.005    162.023      0.000       0.731       0.748\n",
      "country[T.MAR]    -0.3699      0.005    -81.051      0.000      -0.379      -0.361\n",
      "country[T.MDA]    -0.3395      0.005    -74.387      0.000      -0.348      -0.331\n",
      "country[T.MDG]    -2.3416      0.005   -513.076      0.000      -2.351      -2.333\n",
      "country[T.MEX]    -0.0707      0.005    -15.490      0.000      -0.080      -0.062\n",
      "country[T.MKD]     0.3188      0.005     69.859      0.000       0.310       0.328\n",
      "country[T.MLI]    -1.5058      0.005   -329.941      0.000      -1.515      -1.497\n",
      "country[T.MNE]     0.7960      0.005    174.409      0.000       0.787       0.805\n",
      "country[T.MNG]    -0.3045      0.005    -66.725      0.000      -0.313      -0.296\n",
      "country[T.MOZ]    -1.6764      0.005   -367.311      0.000      -1.685      -1.667\n",
      "country[T.MRT]    -0.6342      0.005   -138.961      0.000      -0.643      -0.625\n",
      "country[T.MWI]    -1.3774      0.005   -301.794      0.000      -1.386      -1.368\n",
      "country[T.MYS]     0.4682      0.005    102.577      0.000       0.459       0.477\n",
      "country[T.NER]    -1.6038      0.005   -351.407      0.000      -1.613      -1.595\n",
      "country[T.NGA]    -1.6946      0.005   -371.297      0.000      -1.704      -1.686\n",
      "country[T.NIC]    -0.4670      0.005   -102.327      0.000      -0.476      -0.458\n",
      "country[T.NLD]     1.7899      0.005    392.186      0.000       1.781       1.799\n",
      "country[T.NOR]     2.0482      0.005    448.772      0.000       2.039       2.057\n",
      "country[T.NPL]    -1.2087      0.005   -264.836      0.000      -1.218      -1.200\n",
      "country[T.PAK]    -1.2094      0.005   -264.996      0.000      -1.218      -1.200\n",
      "country[T.PAN]     0.1706      0.005     37.386      0.000       0.162       0.180\n",
      "country[T.PER]    -0.1562      0.005    -34.219      0.000      -0.165      -0.147\n",
      "country[T.PHL]    -0.8793      0.005   -192.661      0.000      -0.888      -0.870\n",
      "country[T.POL]     0.6175      0.005    135.303      0.000       0.609       0.626\n",
      "country[T.PRT]     1.1457      0.005    251.041      0.000       1.137       1.155\n",
      "country[T.PRY]    -0.2594      0.005    -56.839      0.000      -0.268      -0.250\n",
      "country[T.PSE]    -1.0428      0.005   -228.489      0.000      -1.052      -1.034\n",
      "country[T.ROU]    -0.0021      0.005     -0.461      0.645      -0.011       0.007\n",
      "country[T.RUS]     0.7360      0.005    161.270      0.000       0.727       0.745\n",
      "country[T.SDN]    -1.0632      0.005   -232.961      0.000      -1.072      -1.054\n",
      "country[T.SLV]    -0.2929      0.005    -64.183      0.000      -0.302      -0.284\n",
      "country[T.SRB]     0.5169      0.005    113.256      0.000       0.508       0.526\n",
      "country[T.SVK]     0.7523      0.005    164.833      0.000       0.743       0.761\n",
      "country[T.SVN]     1.4607      0.005    320.058      0.000       1.452       1.470\n",
      "country[T.SWE]     1.7273      0.005    378.468      0.000       1.718       1.736\n",
      "country[T.SWZ]    -1.9548      0.005   -428.314      0.000      -1.964      -1.946\n",
      "country[T.SYR]    -1.5295      0.005   -335.123      0.000      -1.538      -1.521\n",
      "country[T.THA]    -0.3429      0.005    -75.122      0.000      -0.352      -0.334\n",
      "country[T.TJK]    -0.3703      0.005    -81.128      0.000      -0.379      -0.361\n",
      "country[T.TLS]    -1.4285      0.005   -312.995      0.000      -1.437      -1.420\n",
      "country[T.TUR]     0.5378      0.005    117.831      0.000       0.529       0.547\n",
      "country[T.TZA]    -1.7108      0.005   -374.850      0.000      -1.720      -1.702\n",
      "country[T.UGA]    -1.2615      0.005   -276.399      0.000      -1.270      -1.253\n",
      "country[T.UKR]     0.1598      0.005     35.003      0.000       0.151       0.169\n",
      "country[T.URY]     0.3584      0.005     78.528      0.000       0.349       0.367\n",
      "country[T.USA]     1.9419      0.005    425.491      0.000       1.933       1.951\n",
      "country[T.VEN]    -0.1264      0.005    -27.696      0.000      -0.135      -0.117\n",
      "country[T.VNM]    -0.8587      0.005   -188.144      0.000      -0.868      -0.850\n",
      "country[T.YEM]    -1.1365      0.005   -249.028      0.000      -1.145      -1.128\n",
      "country[T.ZAF]    -0.1342      0.005    -29.406      0.000      -0.143      -0.125\n",
      "==============================================================================\n",
      "Omnibus:                   362124.397   Durbin-Watson:                   0.001\n",
      "Prob(Omnibus):                  0.000   Jarque-Bera (JB):          1695351.281\n",
      "Skew:                          -0.070   Prob(JB):                         0.00\n",
      "Kurtosis:                       5.668   Cond. No.                         115.\n",
      "==============================================================================\n",
      "\n",
      "Notes:\n",
      "[1] Standard Errors assume that the covariance matrix of the errors is correctly specified.\n"
     ]
    }
   ],
   "source": [
    "print(anova_country_log.summary())"
   ]
  },
  {
   "cell_type": "code",
   "execution_count": 84,
   "id": "97686e2f",
   "metadata": {},
   "outputs": [
    {
     "data": {
      "text/html": [
       "<div>\n",
       "<style scoped>\n",
       "    .dataframe tbody tr th:only-of-type {\n",
       "        vertical-align: middle;\n",
       "    }\n",
       "\n",
       "    .dataframe tbody tr th {\n",
       "        vertical-align: top;\n",
       "    }\n",
       "\n",
       "    .dataframe thead th {\n",
       "        text-align: right;\n",
       "    }\n",
       "</style>\n",
       "<table border=\"1\" class=\"dataframe\">\n",
       "  <thead>\n",
       "    <tr style=\"text-align: right;\">\n",
       "      <th></th>\n",
       "      <th>sum_sq</th>\n",
       "      <th>df</th>\n",
       "      <th>F</th>\n",
       "      <th>PR(&gt;F)</th>\n",
       "    </tr>\n",
       "  </thead>\n",
       "  <tbody>\n",
       "    <tr>\n",
       "      <th>country</th>\n",
       "      <td>7.921240e+06</td>\n",
       "      <td>113.0</td>\n",
       "      <td>134615.893235</td>\n",
       "      <td>0.0</td>\n",
       "    </tr>\n",
       "    <tr>\n",
       "      <th>Residual</th>\n",
       "      <td>2.968141e+06</td>\n",
       "      <td>5699886.0</td>\n",
       "      <td>NaN</td>\n",
       "      <td>NaN</td>\n",
       "    </tr>\n",
       "  </tbody>\n",
       "</table>\n",
       "</div>"
      ],
      "text/plain": [
       "                sum_sq         df              F  PR(>F)\n",
       "country   7.921240e+06      113.0  134615.893235     0.0\n",
       "Residual  2.968141e+06  5699886.0            NaN     NaN"
      ]
     },
     "execution_count": 84,
     "metadata": {},
     "output_type": "execute_result"
    }
   ],
   "source": [
    "anova_table_log"
   ]
  },
  {
   "cell_type": "markdown",
   "id": "f7d2253e",
   "metadata": {},
   "source": [
    "This model also has a high F statistic and low p value but the r squared value indicates that the model performed even better"
   ]
  },
  {
   "cell_type": "markdown",
   "id": "d3e541f5",
   "metadata": {},
   "source": [
    "# Linear regression"
   ]
  },
  {
   "cell_type": "code",
   "execution_count": 85,
   "id": "4e8978fa",
   "metadata": {
    "scrolled": false
   },
   "outputs": [
    {
     "data": {
      "text/html": [
       "<div>\n",
       "<style scoped>\n",
       "    .dataframe tbody tr th:only-of-type {\n",
       "        vertical-align: middle;\n",
       "    }\n",
       "\n",
       "    .dataframe tbody tr th {\n",
       "        vertical-align: top;\n",
       "    }\n",
       "\n",
       "    .dataframe thead th {\n",
       "        text-align: right;\n",
       "    }\n",
       "</style>\n",
       "<table border=\"1\" class=\"dataframe\">\n",
       "  <thead>\n",
       "    <tr style=\"text-align: right;\">\n",
       "      <th></th>\n",
       "      <th>country</th>\n",
       "      <th>c_i_child</th>\n",
       "      <th>income</th>\n",
       "      <th>gini</th>\n",
       "      <th>elasticity</th>\n",
       "      <th>mi</th>\n",
       "      <th>c_i_parent</th>\n",
       "      <th>income_ln</th>\n",
       "      <th>gini_ln</th>\n",
       "      <th>mi_ln</th>\n",
       "      <th>c_i_parent_ln</th>\n",
       "    </tr>\n",
       "  </thead>\n",
       "  <tbody>\n",
       "    <tr>\n",
       "      <th>0</th>\n",
       "      <td>ALB</td>\n",
       "      <td>1</td>\n",
       "      <td>728</td>\n",
       "      <td>30</td>\n",
       "      <td>0.815874</td>\n",
       "      <td>2994.27</td>\n",
       "      <td>12</td>\n",
       "      <td>6.590301</td>\n",
       "      <td>3.401197</td>\n",
       "      <td>8.004456</td>\n",
       "      <td>2.484907</td>\n",
       "    </tr>\n",
       "    <tr>\n",
       "      <th>1</th>\n",
       "      <td>ALB</td>\n",
       "      <td>1</td>\n",
       "      <td>728</td>\n",
       "      <td>30</td>\n",
       "      <td>0.815874</td>\n",
       "      <td>2994.27</td>\n",
       "      <td>1</td>\n",
       "      <td>6.590301</td>\n",
       "      <td>3.401197</td>\n",
       "      <td>8.004456</td>\n",
       "      <td>0.000000</td>\n",
       "    </tr>\n",
       "    <tr>\n",
       "      <th>2</th>\n",
       "      <td>ALB</td>\n",
       "      <td>1</td>\n",
       "      <td>728</td>\n",
       "      <td>30</td>\n",
       "      <td>0.815874</td>\n",
       "      <td>2994.27</td>\n",
       "      <td>1</td>\n",
       "      <td>6.590301</td>\n",
       "      <td>3.401197</td>\n",
       "      <td>8.004456</td>\n",
       "      <td>0.000000</td>\n",
       "    </tr>\n",
       "    <tr>\n",
       "      <th>3</th>\n",
       "      <td>ALB</td>\n",
       "      <td>1</td>\n",
       "      <td>728</td>\n",
       "      <td>30</td>\n",
       "      <td>0.815874</td>\n",
       "      <td>2994.27</td>\n",
       "      <td>7</td>\n",
       "      <td>6.590301</td>\n",
       "      <td>3.401197</td>\n",
       "      <td>8.004456</td>\n",
       "      <td>1.945910</td>\n",
       "    </tr>\n",
       "    <tr>\n",
       "      <th>4</th>\n",
       "      <td>ALB</td>\n",
       "      <td>1</td>\n",
       "      <td>728</td>\n",
       "      <td>30</td>\n",
       "      <td>0.815874</td>\n",
       "      <td>2994.27</td>\n",
       "      <td>1</td>\n",
       "      <td>6.590301</td>\n",
       "      <td>3.401197</td>\n",
       "      <td>8.004456</td>\n",
       "      <td>0.000000</td>\n",
       "    </tr>\n",
       "  </tbody>\n",
       "</table>\n",
       "</div>"
      ],
      "text/plain": [
       "  country  c_i_child  income  gini  elasticity       mi  c_i_parent  \\\n",
       "0     ALB          1     728    30    0.815874  2994.27          12   \n",
       "1     ALB          1     728    30    0.815874  2994.27           1   \n",
       "2     ALB          1     728    30    0.815874  2994.27           1   \n",
       "3     ALB          1     728    30    0.815874  2994.27           7   \n",
       "4     ALB          1     728    30    0.815874  2994.27           1   \n",
       "\n",
       "   income_ln   gini_ln     mi_ln  c_i_parent_ln  \n",
       "0   6.590301  3.401197  8.004456       2.484907  \n",
       "1   6.590301  3.401197  8.004456       0.000000  \n",
       "2   6.590301  3.401197  8.004456       0.000000  \n",
       "3   6.590301  3.401197  8.004456       1.945910  \n",
       "4   6.590301  3.401197  8.004456       0.000000  "
      ]
     },
     "execution_count": 85,
     "metadata": {},
     "output_type": "execute_result"
    }
   ],
   "source": [
    "df_c.head()"
   ]
  },
  {
   "cell_type": "markdown",
   "id": "bb4f8d28",
   "metadata": {},
   "source": [
    "## Gini and Mean Income"
   ]
  },
  {
   "cell_type": "code",
   "execution_count": 86,
   "id": "23c01cc7",
   "metadata": {},
   "outputs": [],
   "source": [
    "model_lr1 = smf.ols(formula='income ~ gini + mi', data=df_c).fit()"
   ]
  },
  {
   "cell_type": "code",
   "execution_count": 87,
   "id": "69261176",
   "metadata": {},
   "outputs": [
    {
     "name": "stdout",
     "output_type": "stream",
     "text": [
      "                            OLS Regression Results                            \n",
      "==============================================================================\n",
      "Dep. Variable:                 income   R-squared:                       0.497\n",
      "Model:                            OLS   Adj. R-squared:                  0.497\n",
      "Method:                 Least Squares   F-statistic:                 2.810e+06\n",
      "Date:                Wed, 03 Jul 2024   Prob (F-statistic):               0.00\n",
      "Time:                        16:57:32   Log-Likelihood:            -5.8265e+07\n",
      "No. Observations:             5700000   AIC:                         1.165e+08\n",
      "Df Residuals:                 5699997   BIC:                         1.165e+08\n",
      "Df Model:                           2                                         \n",
      "Covariance Type:            nonrobust                                         \n",
      "==============================================================================\n",
      "                 coef    std err          t      P>|t|      [0.025      0.975]\n",
      "------------------------------------------------------------------------------\n",
      "Intercept   1.873e-09     15.187   1.23e-10      1.000     -29.765      29.765\n",
      "gini       -3.156e-11      0.367  -8.59e-11      1.000      -0.720       0.720\n",
      "mi             1.0000      0.000   2230.315      0.000       0.999       1.001\n",
      "==============================================================================\n",
      "Omnibus:                  7223141.570   Durbin-Watson:                   0.001\n",
      "Prob(Omnibus):                  0.000   Jarque-Bera (JB):       2161535520.374\n",
      "Skew:                           6.815   Prob(JB):                         0.00\n",
      "Kurtosis:                      97.421   Cond. No.                     4.87e+04\n",
      "==============================================================================\n",
      "\n",
      "Notes:\n",
      "[1] Standard Errors assume that the covariance matrix of the errors is correctly specified.\n",
      "[2] The condition number is large, 4.87e+04. This might indicate that there are\n",
      "strong multicollinearity or other numerical problems.\n"
     ]
    }
   ],
   "source": [
    "print(model_lr1.summary())"
   ]
  },
  {
   "cell_type": "code",
   "execution_count": 88,
   "id": "6e761ded",
   "metadata": {},
   "outputs": [],
   "source": [
    "anova_lr1 = sm.stats.anova_lm(model_lr1,typ=1)"
   ]
  },
  {
   "cell_type": "code",
   "execution_count": 89,
   "id": "ef34fb90",
   "metadata": {},
   "outputs": [
    {
     "data": {
      "text/html": [
       "<div>\n",
       "<style scoped>\n",
       "    .dataframe tbody tr th:only-of-type {\n",
       "        vertical-align: middle;\n",
       "    }\n",
       "\n",
       "    .dataframe tbody tr th {\n",
       "        vertical-align: top;\n",
       "    }\n",
       "\n",
       "    .dataframe thead th {\n",
       "        text-align: right;\n",
       "    }\n",
       "</style>\n",
       "<table border=\"1\" class=\"dataframe\">\n",
       "  <thead>\n",
       "    <tr style=\"text-align: right;\">\n",
       "      <th></th>\n",
       "      <th>df</th>\n",
       "      <th>sum_sq</th>\n",
       "      <th>mean_sq</th>\n",
       "      <th>F</th>\n",
       "      <th>PR(&gt;F)</th>\n",
       "    </tr>\n",
       "  </thead>\n",
       "  <tbody>\n",
       "    <tr>\n",
       "      <th>gini</th>\n",
       "      <td>1.0</td>\n",
       "      <td>2.862790e+13</td>\n",
       "      <td>2.862790e+13</td>\n",
       "      <td>6.464857e+05</td>\n",
       "      <td>0.0</td>\n",
       "    </tr>\n",
       "    <tr>\n",
       "      <th>mi</th>\n",
       "      <td>1.0</td>\n",
       "      <td>2.202739e+14</td>\n",
       "      <td>2.202739e+14</td>\n",
       "      <td>4.974306e+06</td>\n",
       "      <td>0.0</td>\n",
       "    </tr>\n",
       "    <tr>\n",
       "      <th>Residual</th>\n",
       "      <td>5699997.0</td>\n",
       "      <td>2.524092e+14</td>\n",
       "      <td>4.428234e+07</td>\n",
       "      <td>NaN</td>\n",
       "      <td>NaN</td>\n",
       "    </tr>\n",
       "  </tbody>\n",
       "</table>\n",
       "</div>"
      ],
      "text/plain": [
       "                 df        sum_sq       mean_sq             F  PR(>F)\n",
       "gini            1.0  2.862790e+13  2.862790e+13  6.464857e+05     0.0\n",
       "mi              1.0  2.202739e+14  2.202739e+14  4.974306e+06     0.0\n",
       "Residual  5699997.0  2.524092e+14  4.428234e+07           NaN     NaN"
      ]
     },
     "execution_count": 89,
     "metadata": {},
     "output_type": "execute_result"
    }
   ],
   "source": [
    "anova_lr1"
   ]
  },
  {
   "cell_type": "code",
   "execution_count": 90,
   "id": "ca532e7f",
   "metadata": {},
   "outputs": [
    {
     "data": {
      "text/plain": [
       "0.05710606540361468"
      ]
     },
     "execution_count": 90,
     "metadata": {},
     "output_type": "execute_result"
    }
   ],
   "source": [
    "r_sq_g = anova_lr1.sum_sq['gini']/anova_lr1['sum_sq'].sum()\n",
    "r_sq_g"
   ]
  },
  {
   "cell_type": "code",
   "execution_count": 91,
   "id": "f5825a91",
   "metadata": {
    "scrolled": true
   },
   "outputs": [
    {
     "data": {
      "text/plain": [
       "0.4393956974627202"
      ]
     },
     "execution_count": 91,
     "metadata": {},
     "output_type": "execute_result"
    }
   ],
   "source": [
    "r_sq_mi = anova_lr1.sum_sq['mi']/anova_lr1['sum_sq'].sum()\n",
    "r_sq_mi"
   ]
  },
  {
   "cell_type": "code",
   "execution_count": 92,
   "id": "5ef17819",
   "metadata": {
    "scrolled": true
   },
   "outputs": [
    {
     "name": "stdout",
     "output_type": "stream",
     "text": [
      "0.4965017628663349\n",
      "0.4965017628664119\n"
     ]
    }
   ],
   "source": [
    "print(r_sq_g + r_sq_mi)\n",
    "print(model_lr1.rsquared)"
   ]
  },
  {
   "cell_type": "code",
   "execution_count": 93,
   "id": "024cb698",
   "metadata": {
    "scrolled": true
   },
   "outputs": [
    {
     "name": "stdout",
     "output_type": "stream",
     "text": [
      "Decomposition of r-squared of our model:\n",
      "\n",
      "=> The variable \"gini\" explains 5.71% of the variance of the variable \"income\"\n",
      "\n",
      "=> The variable \"mi\" explains 43.94% of the variance of the variable \"income\"\n",
      "\n",
      "Our model explains 49.65% of the variance of the variable \"income\"\n"
     ]
    }
   ],
   "source": [
    "print(f'Decomposition of r-squared of our model:\\n\\n\\\n",
    "=> The variable \\\"gini\\\" explains {100 * r_sq_g:.2f}% of the variance of the variable \\\"income\\\"\\n\\n\\\n",
    "=> The variable \\\"mi\\\" explains {100 * r_sq_mi:.2f}% of the variance of the variable \\\"income\\\"\\n\\n\\\n",
    "Our model explains {100 * model_lr1.rsquared:.2f}% of the variance of the variable \\\"income\\\"'\n",
    ")\n"
   ]
  },
  {
   "cell_type": "markdown",
   "id": "b636a6b2",
   "metadata": {},
   "source": [
    "## Gini and Mean income logged"
   ]
  },
  {
   "cell_type": "code",
   "execution_count": 94,
   "id": "3e42749f",
   "metadata": {},
   "outputs": [],
   "source": [
    "model_lr1_ln = smf.ols(formula='income_ln ~ gini_ln + mi_ln', data=df_c).fit()"
   ]
  },
  {
   "cell_type": "code",
   "execution_count": 95,
   "id": "b694d780",
   "metadata": {},
   "outputs": [
    {
     "name": "stdout",
     "output_type": "stream",
     "text": [
      "                            OLS Regression Results                            \n",
      "==============================================================================\n",
      "Dep. Variable:              income_ln   R-squared:                       0.725\n",
      "Model:                            OLS   Adj. R-squared:                  0.725\n",
      "Method:                 Least Squares   F-statistic:                 7.504e+06\n",
      "Date:                Wed, 03 Jul 2024   Prob (F-statistic):               0.00\n",
      "Time:                        16:57:39   Log-Likelihood:            -6.2561e+06\n",
      "No. Observations:             5700000   AIC:                         1.251e+07\n",
      "Df Residuals:                 5699997   BIC:                         1.251e+07\n",
      "Df Model:                           2                                         \n",
      "Covariance Type:            nonrobust                                         \n",
      "==============================================================================\n",
      "                 coef    std err          t      P>|t|      [0.025      0.975]\n",
      "------------------------------------------------------------------------------\n",
      "Intercept      2.0819      0.006    322.897      0.000       2.069       2.095\n",
      "gini_ln       -0.6238      0.002   -413.939      0.000      -0.627      -0.621\n",
      "mi_ln          0.9873      0.000   3571.452      0.000       0.987       0.988\n",
      "==============================================================================\n",
      "Omnibus:                   384409.731   Durbin-Watson:                   0.001\n",
      "Prob(Omnibus):                  0.000   Jarque-Bera (JB):          1762923.726\n",
      "Skew:                          -0.152   Prob(JB):                         0.00\n",
      "Kurtosis:                       5.708   Cond. No.                         195.\n",
      "==============================================================================\n",
      "\n",
      "Notes:\n",
      "[1] Standard Errors assume that the covariance matrix of the errors is correctly specified.\n"
     ]
    }
   ],
   "source": [
    "print(model_lr1_ln.summary())"
   ]
  },
  {
   "cell_type": "code",
   "execution_count": 96,
   "id": "c09fa6a2",
   "metadata": {},
   "outputs": [],
   "source": [
    "anova_lr1_ln = sm.stats.anova_lm(model_lr1_ln,typ=1)"
   ]
  },
  {
   "cell_type": "code",
   "execution_count": 97,
   "id": "8df792ed",
   "metadata": {},
   "outputs": [
    {
     "data": {
      "text/html": [
       "<div>\n",
       "<style scoped>\n",
       "    .dataframe tbody tr th:only-of-type {\n",
       "        vertical-align: middle;\n",
       "    }\n",
       "\n",
       "    .dataframe tbody tr th {\n",
       "        vertical-align: top;\n",
       "    }\n",
       "\n",
       "    .dataframe thead th {\n",
       "        text-align: right;\n",
       "    }\n",
       "</style>\n",
       "<table border=\"1\" class=\"dataframe\">\n",
       "  <thead>\n",
       "    <tr style=\"text-align: right;\">\n",
       "      <th></th>\n",
       "      <th>df</th>\n",
       "      <th>sum_sq</th>\n",
       "      <th>mean_sq</th>\n",
       "      <th>F</th>\n",
       "      <th>PR(&gt;F)</th>\n",
       "    </tr>\n",
       "  </thead>\n",
       "  <tbody>\n",
       "    <tr>\n",
       "      <th>gini_ln</th>\n",
       "      <td>1.0</td>\n",
       "      <td>1.184971e+06</td>\n",
       "      <td>1.184971e+06</td>\n",
       "      <td>2.253507e+06</td>\n",
       "      <td>0.0</td>\n",
       "    </tr>\n",
       "    <tr>\n",
       "      <th>mi_ln</th>\n",
       "      <td>1.0</td>\n",
       "      <td>6.707157e+06</td>\n",
       "      <td>6.707157e+06</td>\n",
       "      <td>1.275527e+07</td>\n",
       "      <td>0.0</td>\n",
       "    </tr>\n",
       "    <tr>\n",
       "      <th>Residual</th>\n",
       "      <td>5699997.0</td>\n",
       "      <td>2.997253e+06</td>\n",
       "      <td>5.258341e-01</td>\n",
       "      <td>NaN</td>\n",
       "      <td>NaN</td>\n",
       "    </tr>\n",
       "  </tbody>\n",
       "</table>\n",
       "</div>"
      ],
      "text/plain": [
       "                 df        sum_sq       mean_sq             F  PR(>F)\n",
       "gini_ln         1.0  1.184971e+06  1.184971e+06  2.253507e+06     0.0\n",
       "mi_ln           1.0  6.707157e+06  6.707157e+06  1.275527e+07     0.0\n",
       "Residual  5699997.0  2.997253e+06  5.258341e-01           NaN     NaN"
      ]
     },
     "execution_count": 97,
     "metadata": {},
     "output_type": "execute_result"
    }
   ],
   "source": [
    "anova_lr1_ln"
   ]
  },
  {
   "cell_type": "code",
   "execution_count": 98,
   "id": "a7829fa6",
   "metadata": {},
   "outputs": [
    {
     "data": {
      "text/plain": [
       "0.1088189591528403"
      ]
     },
     "execution_count": 98,
     "metadata": {},
     "output_type": "execute_result"
    }
   ],
   "source": [
    "r_sq_g_ln = anova_lr1_ln.sum_sq['gini_ln']/anova_lr1_ln['sum_sq'].sum()\n",
    "r_sq_g_ln"
   ]
  },
  {
   "cell_type": "code",
   "execution_count": 99,
   "id": "d7938367",
   "metadata": {
    "scrolled": true
   },
   "outputs": [
    {
     "data": {
      "text/plain": [
       "0.6159355591910509"
      ]
     },
     "execution_count": 99,
     "metadata": {},
     "output_type": "execute_result"
    }
   ],
   "source": [
    "r_sq_mi_ln = anova_lr1_ln.sum_sq['mi_ln']/anova_lr1_ln['sum_sq'].sum()\n",
    "r_sq_mi_ln"
   ]
  },
  {
   "cell_type": "code",
   "execution_count": 100,
   "id": "975506ff",
   "metadata": {
    "scrolled": true
   },
   "outputs": [
    {
     "name": "stdout",
     "output_type": "stream",
     "text": [
      "0.7247545183438913\n",
      "0.7247545183439925\n"
     ]
    }
   ],
   "source": [
    "print(r_sq_g_ln + r_sq_mi_ln)\n",
    "print(model_lr1_ln.rsquared)"
   ]
  },
  {
   "cell_type": "code",
   "execution_count": 101,
   "id": "8da69ae4",
   "metadata": {
    "scrolled": true
   },
   "outputs": [
    {
     "name": "stdout",
     "output_type": "stream",
     "text": [
      "Decomposition of r-squared of our model:\n",
      "\n",
      "=> The variable \"gini\" explains 10.88% of the variance of the variable \"income\"\n",
      "\n",
      "=> The variable \"mi\" explains 61.59% of the variance of the variable \"income\"\n",
      "\n",
      "Our model explains 72.48% of the variance of the variable \"income\"\n"
     ]
    }
   ],
   "source": [
    "print(f'Decomposition of r-squared of our model:\\n\\n\\\n",
    "=> The variable \\\"gini\\\" explains {100 * r_sq_g_ln:.2f}% of the variance of the variable \\\"income\\\"\\n\\n\\\n",
    "=> The variable \\\"mi\\\" explains {100 * r_sq_mi_ln:.2f}% of the variance of the variable \\\"income\\\"\\n\\n\\\n",
    "Our model explains {100 * model_lr1_ln.rsquared:.2f}% of the variance of the variable \\\"income\\\"'\n",
    ")\n"
   ]
  },
  {
   "cell_type": "markdown",
   "id": "170f5b40",
   "metadata": {},
   "source": [
    "## Gini, Mean Income and Parent's salary"
   ]
  },
  {
   "cell_type": "code",
   "execution_count": 102,
   "id": "cb7a5f79",
   "metadata": {},
   "outputs": [],
   "source": [
    "model_lr2 = smf.ols('income ~ gini + mi + c_i_parent', data =df_c).fit()"
   ]
  },
  {
   "cell_type": "code",
   "execution_count": 103,
   "id": "29e68c68",
   "metadata": {},
   "outputs": [
    {
     "name": "stdout",
     "output_type": "stream",
     "text": [
      "                            OLS Regression Results                            \n",
      "==============================================================================\n",
      "Dep. Variable:                 income   R-squared:                       0.522\n",
      "Model:                            OLS   Adj. R-squared:                  0.522\n",
      "Method:                 Least Squares   F-statistic:                 2.072e+06\n",
      "Date:                Wed, 03 Jul 2024   Prob (F-statistic):               0.00\n",
      "Time:                        16:57:46   Log-Likelihood:            -5.8119e+07\n",
      "No. Observations:             5700000   AIC:                         1.162e+08\n",
      "Df Residuals:                 5699996   BIC:                         1.162e+08\n",
      "Df Model:                           3                                         \n",
      "Covariance Type:            nonrobust                                         \n",
      "==============================================================================\n",
      "                 coef    std err          t      P>|t|      [0.025      0.975]\n",
      "------------------------------------------------------------------------------\n",
      "Intercept  -2603.9282     15.547   -167.490      0.000   -2634.399   -2573.457\n",
      "gini           0.0389      0.358      0.109      0.914      -0.663       0.740\n",
      "mi             0.9999      0.000   2288.030      0.000       0.999       1.001\n",
      "c_i_parent    51.5489      0.094    547.742      0.000      51.364      51.733\n",
      "==============================================================================\n",
      "Omnibus:                  7334806.105   Durbin-Watson:                   0.083\n",
      "Prob(Omnibus):                  0.000   Jarque-Bera (JB):       2393113413.485\n",
      "Skew:                           6.986   Prob(JB):                         0.00\n",
      "Kurtosis:                     102.403   Cond. No.                     5.11e+04\n",
      "==============================================================================\n",
      "\n",
      "Notes:\n",
      "[1] Standard Errors assume that the covariance matrix of the errors is correctly specified.\n",
      "[2] The condition number is large, 5.11e+04. This might indicate that there are\n",
      "strong multicollinearity or other numerical problems.\n"
     ]
    }
   ],
   "source": [
    "print(model_lr2.summary())"
   ]
  },
  {
   "cell_type": "code",
   "execution_count": 104,
   "id": "7a4eac30",
   "metadata": {},
   "outputs": [
    {
     "data": {
      "text/html": [
       "<div>\n",
       "<style scoped>\n",
       "    .dataframe tbody tr th:only-of-type {\n",
       "        vertical-align: middle;\n",
       "    }\n",
       "\n",
       "    .dataframe tbody tr th {\n",
       "        vertical-align: top;\n",
       "    }\n",
       "\n",
       "    .dataframe thead th {\n",
       "        text-align: right;\n",
       "    }\n",
       "</style>\n",
       "<table border=\"1\" class=\"dataframe\">\n",
       "  <thead>\n",
       "    <tr style=\"text-align: right;\">\n",
       "      <th></th>\n",
       "      <th>df</th>\n",
       "      <th>sum_sq</th>\n",
       "      <th>mean_sq</th>\n",
       "      <th>F</th>\n",
       "      <th>PR(&gt;F)</th>\n",
       "    </tr>\n",
       "  </thead>\n",
       "  <tbody>\n",
       "    <tr>\n",
       "      <th>gini</th>\n",
       "      <td>1.0</td>\n",
       "      <td>2.862790e+13</td>\n",
       "      <td>2.862790e+13</td>\n",
       "      <td>6.805136e+05</td>\n",
       "      <td>0.0</td>\n",
       "    </tr>\n",
       "    <tr>\n",
       "      <th>mi</th>\n",
       "      <td>1.0</td>\n",
       "      <td>2.202739e+14</td>\n",
       "      <td>2.202739e+14</td>\n",
       "      <td>5.236129e+06</td>\n",
       "      <td>0.0</td>\n",
       "    </tr>\n",
       "    <tr>\n",
       "      <th>c_i_parent</th>\n",
       "      <td>1.0</td>\n",
       "      <td>1.262132e+13</td>\n",
       "      <td>1.262132e+13</td>\n",
       "      <td>3.000214e+05</td>\n",
       "      <td>0.0</td>\n",
       "    </tr>\n",
       "    <tr>\n",
       "      <th>Residual</th>\n",
       "      <td>5699996.0</td>\n",
       "      <td>2.397879e+14</td>\n",
       "      <td>4.206808e+07</td>\n",
       "      <td>NaN</td>\n",
       "      <td>NaN</td>\n",
       "    </tr>\n",
       "  </tbody>\n",
       "</table>\n",
       "</div>"
      ],
      "text/plain": [
       "                   df        sum_sq       mean_sq             F  PR(>F)\n",
       "gini              1.0  2.862790e+13  2.862790e+13  6.805136e+05     0.0\n",
       "mi                1.0  2.202739e+14  2.202739e+14  5.236129e+06     0.0\n",
       "c_i_parent        1.0  1.262132e+13  1.262132e+13  3.000214e+05     0.0\n",
       "Residual    5699996.0  2.397879e+14  4.206808e+07           NaN     NaN"
      ]
     },
     "execution_count": 104,
     "metadata": {},
     "output_type": "execute_result"
    }
   ],
   "source": [
    "# Anova on the linear regression model LR2\n",
    "anova_lr2 = sm.stats.anova_lm(model_lr2, typ=1)\n",
    "anova_lr2"
   ]
  },
  {
   "cell_type": "code",
   "execution_count": 105,
   "id": "631c0a81",
   "metadata": {},
   "outputs": [
    {
     "data": {
      "text/plain": [
       "0.0571060654036148"
      ]
     },
     "execution_count": 105,
     "metadata": {},
     "output_type": "execute_result"
    }
   ],
   "source": [
    "# Calculation of R-squared for the gini index of the country \"gj\"\n",
    "r_sq_g = anova_lr2.sum_sq[\"gini\"] / anova_lr2[\"sum_sq\"].sum()\n",
    "r_sq_g"
   ]
  },
  {
   "cell_type": "code",
   "execution_count": 106,
   "id": "f12610cc",
   "metadata": {},
   "outputs": [
    {
     "data": {
      "text/plain": [
       "0.43939569746272117"
      ]
     },
     "execution_count": 106,
     "metadata": {},
     "output_type": "execute_result"
    }
   ],
   "source": [
    "# Calculation of R-squared for the average income of the country \"mj\"\n",
    "r_sq_mi = anova_lr2.sum_sq[\"mi\"] / anova_lr2[\"sum_sq\"].sum()\n",
    "r_sq_mi"
   ]
  },
  {
   "cell_type": "code",
   "execution_count": 107,
   "id": "949dc6d5",
   "metadata": {},
   "outputs": [
    {
     "data": {
      "text/plain": [
       "0.025176635718956394"
      ]
     },
     "execution_count": 107,
     "metadata": {},
     "output_type": "execute_result"
    }
   ],
   "source": [
    "# Calculation of R-squared for the income class of the parents \"c_i_parents\"\n",
    "r_sq_c_i_parent = anova_lr2.sum_sq[\"c_i_parent\"] / anova_lr2[\"sum_sq\"].sum()\n",
    "r_sq_c_i_parent"
   ]
  },
  {
   "cell_type": "code",
   "execution_count": 108,
   "id": "6caea547",
   "metadata": {},
   "outputs": [
    {
     "name": "stdout",
     "output_type": "stream",
     "text": [
      "0.5216783985852923\n",
      "0.5216783985853666\n"
     ]
    }
   ],
   "source": [
    "print(r_sq_g + r_sq_mi + r_sq_c_i_parent)\n",
    "print(model_lr2.rsquared)"
   ]
  },
  {
   "cell_type": "code",
   "execution_count": 109,
   "id": "76b6a2d8",
   "metadata": {
    "scrolled": false
   },
   "outputs": [
    {
     "name": "stdout",
     "output_type": "stream",
     "text": [
      "Decomposition of r-squared of our model:\n",
      "\n",
      "=> The variable \"gini\" explains 5.71% of the variance of the variable \"income\"\n",
      "\n",
      "=> The variable \"mi\" explains 43.94% of the variance of the variable \"income\"\n",
      "\n",
      "=> The variable \"c_i_parent\" explains 2.52% of the variance of the variable \"income\"\n",
      "\n",
      "Our model explains 52.17% of the variance of the variable \"income\"\n"
     ]
    }
   ],
   "source": [
    "print(f'Decomposition of r-squared of our model:\\n\\n\\\n",
    "=> The variable \\\"gini\\\" explains {100 * r_sq_g:.2f}% of the variance of the variable \\\"income\\\"\\n\\n\\\n",
    "=> The variable \\\"mi\\\" explains {100 * r_sq_mi:.2f}% of the variance of the variable \\\"income\\\"\\n\\n\\\n",
    "=> The variable \\\"c_i_parent\\\" explains {100 * r_sq_c_i_parent:.2f}% of the variance of the variable \\\"income\\\"\\n\\n\\\n",
    "Our model explains {100 * model_lr2.rsquared:.2f}% of the variance of the variable \\\"income\\\"'\n",
    ")"
   ]
  },
  {
   "cell_type": "markdown",
   "id": "c2279f3d",
   "metadata": {},
   "source": [
    "## Gini, Mean Income and Prent's income logged"
   ]
  },
  {
   "cell_type": "code",
   "execution_count": 110,
   "id": "4be2e9c1",
   "metadata": {},
   "outputs": [
    {
     "data": {
      "text/html": [
       "<div>\n",
       "<style scoped>\n",
       "    .dataframe tbody tr th:only-of-type {\n",
       "        vertical-align: middle;\n",
       "    }\n",
       "\n",
       "    .dataframe tbody tr th {\n",
       "        vertical-align: top;\n",
       "    }\n",
       "\n",
       "    .dataframe thead th {\n",
       "        text-align: right;\n",
       "    }\n",
       "</style>\n",
       "<table border=\"1\" class=\"dataframe\">\n",
       "  <thead>\n",
       "    <tr style=\"text-align: right;\">\n",
       "      <th></th>\n",
       "      <th>country</th>\n",
       "      <th>c_i_child</th>\n",
       "      <th>income</th>\n",
       "      <th>gini</th>\n",
       "      <th>elasticity</th>\n",
       "      <th>mi</th>\n",
       "      <th>c_i_parent</th>\n",
       "      <th>income_ln</th>\n",
       "      <th>gini_ln</th>\n",
       "      <th>mi_ln</th>\n",
       "      <th>c_i_parent_ln</th>\n",
       "    </tr>\n",
       "  </thead>\n",
       "  <tbody>\n",
       "    <tr>\n",
       "      <th>0</th>\n",
       "      <td>ALB</td>\n",
       "      <td>1</td>\n",
       "      <td>728</td>\n",
       "      <td>30</td>\n",
       "      <td>0.815874</td>\n",
       "      <td>2994.27</td>\n",
       "      <td>12</td>\n",
       "      <td>6.590301</td>\n",
       "      <td>3.401197</td>\n",
       "      <td>8.004456</td>\n",
       "      <td>2.484907</td>\n",
       "    </tr>\n",
       "    <tr>\n",
       "      <th>1</th>\n",
       "      <td>ALB</td>\n",
       "      <td>1</td>\n",
       "      <td>728</td>\n",
       "      <td>30</td>\n",
       "      <td>0.815874</td>\n",
       "      <td>2994.27</td>\n",
       "      <td>1</td>\n",
       "      <td>6.590301</td>\n",
       "      <td>3.401197</td>\n",
       "      <td>8.004456</td>\n",
       "      <td>0.000000</td>\n",
       "    </tr>\n",
       "    <tr>\n",
       "      <th>2</th>\n",
       "      <td>ALB</td>\n",
       "      <td>1</td>\n",
       "      <td>728</td>\n",
       "      <td>30</td>\n",
       "      <td>0.815874</td>\n",
       "      <td>2994.27</td>\n",
       "      <td>1</td>\n",
       "      <td>6.590301</td>\n",
       "      <td>3.401197</td>\n",
       "      <td>8.004456</td>\n",
       "      <td>0.000000</td>\n",
       "    </tr>\n",
       "    <tr>\n",
       "      <th>3</th>\n",
       "      <td>ALB</td>\n",
       "      <td>1</td>\n",
       "      <td>728</td>\n",
       "      <td>30</td>\n",
       "      <td>0.815874</td>\n",
       "      <td>2994.27</td>\n",
       "      <td>7</td>\n",
       "      <td>6.590301</td>\n",
       "      <td>3.401197</td>\n",
       "      <td>8.004456</td>\n",
       "      <td>1.945910</td>\n",
       "    </tr>\n",
       "    <tr>\n",
       "      <th>4</th>\n",
       "      <td>ALB</td>\n",
       "      <td>1</td>\n",
       "      <td>728</td>\n",
       "      <td>30</td>\n",
       "      <td>0.815874</td>\n",
       "      <td>2994.27</td>\n",
       "      <td>1</td>\n",
       "      <td>6.590301</td>\n",
       "      <td>3.401197</td>\n",
       "      <td>8.004456</td>\n",
       "      <td>0.000000</td>\n",
       "    </tr>\n",
       "    <tr>\n",
       "      <th>...</th>\n",
       "      <td>...</td>\n",
       "      <td>...</td>\n",
       "      <td>...</td>\n",
       "      <td>...</td>\n",
       "      <td>...</td>\n",
       "      <td>...</td>\n",
       "      <td>...</td>\n",
       "      <td>...</td>\n",
       "      <td>...</td>\n",
       "      <td>...</td>\n",
       "      <td>...</td>\n",
       "    </tr>\n",
       "    <tr>\n",
       "      <th>5699995</th>\n",
       "      <td>ZAF</td>\n",
       "      <td>100</td>\n",
       "      <td>82408</td>\n",
       "      <td>63</td>\n",
       "      <td>0.677000</td>\n",
       "      <td>5617.45</td>\n",
       "      <td>80</td>\n",
       "      <td>11.319438</td>\n",
       "      <td>4.143135</td>\n",
       "      <td>8.633633</td>\n",
       "      <td>4.382027</td>\n",
       "    </tr>\n",
       "    <tr>\n",
       "      <th>5699996</th>\n",
       "      <td>ZAF</td>\n",
       "      <td>100</td>\n",
       "      <td>82408</td>\n",
       "      <td>63</td>\n",
       "      <td>0.677000</td>\n",
       "      <td>5617.45</td>\n",
       "      <td>98</td>\n",
       "      <td>11.319438</td>\n",
       "      <td>4.143135</td>\n",
       "      <td>8.633633</td>\n",
       "      <td>4.584967</td>\n",
       "    </tr>\n",
       "    <tr>\n",
       "      <th>5699997</th>\n",
       "      <td>ZAF</td>\n",
       "      <td>100</td>\n",
       "      <td>82408</td>\n",
       "      <td>63</td>\n",
       "      <td>0.677000</td>\n",
       "      <td>5617.45</td>\n",
       "      <td>86</td>\n",
       "      <td>11.319438</td>\n",
       "      <td>4.143135</td>\n",
       "      <td>8.633633</td>\n",
       "      <td>4.454347</td>\n",
       "    </tr>\n",
       "    <tr>\n",
       "      <th>5699998</th>\n",
       "      <td>ZAF</td>\n",
       "      <td>100</td>\n",
       "      <td>82408</td>\n",
       "      <td>63</td>\n",
       "      <td>0.677000</td>\n",
       "      <td>5617.45</td>\n",
       "      <td>95</td>\n",
       "      <td>11.319438</td>\n",
       "      <td>4.143135</td>\n",
       "      <td>8.633633</td>\n",
       "      <td>4.553877</td>\n",
       "    </tr>\n",
       "    <tr>\n",
       "      <th>5699999</th>\n",
       "      <td>ZAF</td>\n",
       "      <td>100</td>\n",
       "      <td>82408</td>\n",
       "      <td>63</td>\n",
       "      <td>0.677000</td>\n",
       "      <td>5617.45</td>\n",
       "      <td>98</td>\n",
       "      <td>11.319438</td>\n",
       "      <td>4.143135</td>\n",
       "      <td>8.633633</td>\n",
       "      <td>4.584967</td>\n",
       "    </tr>\n",
       "  </tbody>\n",
       "</table>\n",
       "<p>5700000 rows × 11 columns</p>\n",
       "</div>"
      ],
      "text/plain": [
       "        country  c_i_child  income  gini  elasticity       mi  c_i_parent  \\\n",
       "0           ALB          1     728    30    0.815874  2994.27          12   \n",
       "1           ALB          1     728    30    0.815874  2994.27           1   \n",
       "2           ALB          1     728    30    0.815874  2994.27           1   \n",
       "3           ALB          1     728    30    0.815874  2994.27           7   \n",
       "4           ALB          1     728    30    0.815874  2994.27           1   \n",
       "...         ...        ...     ...   ...         ...      ...         ...   \n",
       "5699995     ZAF        100   82408    63    0.677000  5617.45          80   \n",
       "5699996     ZAF        100   82408    63    0.677000  5617.45          98   \n",
       "5699997     ZAF        100   82408    63    0.677000  5617.45          86   \n",
       "5699998     ZAF        100   82408    63    0.677000  5617.45          95   \n",
       "5699999     ZAF        100   82408    63    0.677000  5617.45          98   \n",
       "\n",
       "         income_ln   gini_ln     mi_ln  c_i_parent_ln  \n",
       "0         6.590301  3.401197  8.004456       2.484907  \n",
       "1         6.590301  3.401197  8.004456       0.000000  \n",
       "2         6.590301  3.401197  8.004456       0.000000  \n",
       "3         6.590301  3.401197  8.004456       1.945910  \n",
       "4         6.590301  3.401197  8.004456       0.000000  \n",
       "...            ...       ...       ...            ...  \n",
       "5699995  11.319438  4.143135  8.633633       4.382027  \n",
       "5699996  11.319438  4.143135  8.633633       4.584967  \n",
       "5699997  11.319438  4.143135  8.633633       4.454347  \n",
       "5699998  11.319438  4.143135  8.633633       4.553877  \n",
       "5699999  11.319438  4.143135  8.633633       4.584967  \n",
       "\n",
       "[5700000 rows x 11 columns]"
      ]
     },
     "execution_count": 110,
     "metadata": {},
     "output_type": "execute_result"
    }
   ],
   "source": [
    "df_c"
   ]
  },
  {
   "cell_type": "code",
   "execution_count": 111,
   "id": "265ced6f",
   "metadata": {},
   "outputs": [
    {
     "name": "stdout",
     "output_type": "stream",
     "text": [
      "                            OLS Regression Results                            \n",
      "==============================================================================\n",
      "Dep. Variable:              income_ln   R-squared:                       0.772\n",
      "Model:                            OLS   Adj. R-squared:                  0.772\n",
      "Method:                 Least Squares   F-statistic:                 6.450e+06\n",
      "Date:                Wed, 03 Jul 2024   Prob (F-statistic):               0.00\n",
      "Time:                        16:57:53   Log-Likelihood:            -5.7138e+06\n",
      "No. Observations:             5700000   AIC:                         1.143e+07\n",
      "Df Residuals:                 5699996   BIC:                         1.143e+07\n",
      "Df Model:                           3                                         \n",
      "Covariance Type:            nonrobust                                         \n",
      "=================================================================================\n",
      "                    coef    std err          t      P>|t|      [0.025      0.975]\n",
      "---------------------------------------------------------------------------------\n",
      "Intercept         0.8915      0.006    149.503      0.000       0.880       0.903\n",
      "gini_ln          -0.6231      0.001   -454.761      0.000      -0.626      -0.620\n",
      "mi_ln             0.9872      0.000   3927.620      0.000       0.987       0.988\n",
      "c_i_parent_ln     0.3268      0.000   1092.950      0.000       0.326       0.327\n",
      "==============================================================================\n",
      "Omnibus:                   372919.521   Durbin-Watson:                   0.334\n",
      "Prob(Omnibus):                  0.000   Jarque-Bera (JB):          1744528.740\n",
      "Skew:                          -0.107   Prob(JB):                         0.00\n",
      "Kurtosis:                       5.702   Cond. No.                         214.\n",
      "==============================================================================\n",
      "\n",
      "Notes:\n",
      "[1] Standard Errors assume that the covariance matrix of the errors is correctly specified.\n"
     ]
    }
   ],
   "source": [
    "model_lr2_ln = smf.ols('income_ln ~ gini_ln + mi_ln + c_i_parent_ln', data =df_c).fit()\n",
    "\n",
    "print(model_lr2_ln.summary())"
   ]
  },
  {
   "cell_type": "code",
   "execution_count": 112,
   "id": "24a9bd35",
   "metadata": {},
   "outputs": [
    {
     "data": {
      "text/html": [
       "<div>\n",
       "<style scoped>\n",
       "    .dataframe tbody tr th:only-of-type {\n",
       "        vertical-align: middle;\n",
       "    }\n",
       "\n",
       "    .dataframe tbody tr th {\n",
       "        vertical-align: top;\n",
       "    }\n",
       "\n",
       "    .dataframe thead th {\n",
       "        text-align: right;\n",
       "    }\n",
       "</style>\n",
       "<table border=\"1\" class=\"dataframe\">\n",
       "  <thead>\n",
       "    <tr style=\"text-align: right;\">\n",
       "      <th></th>\n",
       "      <th>df</th>\n",
       "      <th>sum_sq</th>\n",
       "      <th>mean_sq</th>\n",
       "      <th>F</th>\n",
       "      <th>PR(&gt;F)</th>\n",
       "    </tr>\n",
       "  </thead>\n",
       "  <tbody>\n",
       "    <tr>\n",
       "      <th>gini_ln</th>\n",
       "      <td>1.0</td>\n",
       "      <td>1.184971e+06</td>\n",
       "      <td>1.184971e+06</td>\n",
       "      <td>2.725771e+06</td>\n",
       "      <td>0.0</td>\n",
       "    </tr>\n",
       "    <tr>\n",
       "      <th>mi_ln</th>\n",
       "      <td>1.0</td>\n",
       "      <td>6.707157e+06</td>\n",
       "      <td>6.707157e+06</td>\n",
       "      <td>1.542837e+07</td>\n",
       "      <td>0.0</td>\n",
       "    </tr>\n",
       "    <tr>\n",
       "      <th>c_i_parent_ln</th>\n",
       "      <td>1.0</td>\n",
       "      <td>5.193010e+05</td>\n",
       "      <td>5.193010e+05</td>\n",
       "      <td>1.194540e+06</td>\n",
       "      <td>0.0</td>\n",
       "    </tr>\n",
       "    <tr>\n",
       "      <th>Residual</th>\n",
       "      <td>5699996.0</td>\n",
       "      <td>2.477952e+06</td>\n",
       "      <td>4.347287e-01</td>\n",
       "      <td>NaN</td>\n",
       "      <td>NaN</td>\n",
       "    </tr>\n",
       "  </tbody>\n",
       "</table>\n",
       "</div>"
      ],
      "text/plain": [
       "                      df        sum_sq       mean_sq             F  PR(>F)\n",
       "gini_ln              1.0  1.184971e+06  1.184971e+06  2.725771e+06     0.0\n",
       "mi_ln                1.0  6.707157e+06  6.707157e+06  1.542837e+07     0.0\n",
       "c_i_parent_ln        1.0  5.193010e+05  5.193010e+05  1.194540e+06     0.0\n",
       "Residual       5699996.0  2.477952e+06  4.347287e-01           NaN     NaN"
      ]
     },
     "execution_count": 112,
     "metadata": {},
     "output_type": "execute_result"
    }
   ],
   "source": [
    "# Anova on the linear regression model LR2\n",
    "anova_lr2_ln = sm.stats.anova_lm(model_lr2_ln, typ=1)\n",
    "anova_lr2_ln"
   ]
  },
  {
   "cell_type": "code",
   "execution_count": 113,
   "id": "6fd7fb1d",
   "metadata": {},
   "outputs": [
    {
     "data": {
      "text/plain": [
       "0.10881895915283991"
      ]
     },
     "execution_count": 113,
     "metadata": {},
     "output_type": "execute_result"
    }
   ],
   "source": [
    "# Calculation of R-squared for the gini index of the country \"gj\"\n",
    "r_sq_g_ln = anova_lr2_ln.sum_sq[\"gini_ln\"] / anova_lr2_ln[\"sum_sq\"].sum()\n",
    "r_sq_g_ln"
   ]
  },
  {
   "cell_type": "code",
   "execution_count": 114,
   "id": "0bc1e19f",
   "metadata": {},
   "outputs": [
    {
     "data": {
      "text/plain": [
       "0.6159355591910488"
      ]
     },
     "execution_count": 114,
     "metadata": {},
     "output_type": "execute_result"
    }
   ],
   "source": [
    "# Calculation of R-squared for the average income of the country \"mj\"\n",
    "r_sq_mi_ln = anova_lr2_ln.sum_sq[\"mi_ln\"] / anova_lr2_ln[\"sum_sq\"].sum()\n",
    "r_sq_mi_ln"
   ]
  },
  {
   "cell_type": "code",
   "execution_count": 115,
   "id": "408de650",
   "metadata": {},
   "outputs": [
    {
     "data": {
      "text/plain": [
       "0.047688746274041294"
      ]
     },
     "execution_count": 115,
     "metadata": {},
     "output_type": "execute_result"
    }
   ],
   "source": [
    "# Calculation of R-squared for the income class of the parents \"c_i_parents\"\n",
    "r_sq_c_i_parent_ln = anova_lr2_ln.sum_sq[\"c_i_parent_ln\"] / anova_lr2_ln[\"sum_sq\"].sum()\n",
    "r_sq_c_i_parent_ln"
   ]
  },
  {
   "cell_type": "code",
   "execution_count": 116,
   "id": "44bfef4a",
   "metadata": {},
   "outputs": [
    {
     "name": "stdout",
     "output_type": "stream",
     "text": [
      "0.77244326461793\n"
     ]
    }
   ],
   "source": [
    "print(r_sq_g_ln + r_sq_mi_ln + r_sq_c_i_parent_ln)"
   ]
  },
  {
   "cell_type": "code",
   "execution_count": 117,
   "id": "2981a0bd",
   "metadata": {},
   "outputs": [
    {
     "name": "stdout",
     "output_type": "stream",
     "text": [
      "0.7724432646180127\n"
     ]
    }
   ],
   "source": [
    "print(model_lr2_ln.rsquared)"
   ]
  },
  {
   "cell_type": "code",
   "execution_count": 118,
   "id": "97a6e352",
   "metadata": {},
   "outputs": [
    {
     "name": "stdout",
     "output_type": "stream",
     "text": [
      "Decomposition of r-squared of our model:\n",
      "\n",
      "=> The variable \"gini\" explains 10.88% of the variance of the variable \"income\"\n",
      "\n",
      "=> The variable \"mi\" explains 61.59% of the variance of the variable \"income\"\n",
      "\n",
      "=> The variable \"c_i_parent\" explains 4.77% of the variance of the variable \"income\"\n",
      "\n",
      "Our model explains 77.24% of the variance of the variable \"income\"\n"
     ]
    }
   ],
   "source": [
    "print(f'Decomposition of r-squared of our model:\\n\\n\\\n",
    "=> The variable \\\"gini\\\" explains {100 * r_sq_g_ln:.2f}% of the variance of the variable \\\"income\\\"\\n\\n\\\n",
    "=> The variable \\\"mi\\\" explains {100 * r_sq_mi_ln:.2f}% of the variance of the variable \\\"income\\\"\\n\\n\\\n",
    "=> The variable \\\"c_i_parent\\\" explains {100 * r_sq_c_i_parent_ln:.2f}% of the variance of the variable \\\"income\\\"\\n\\n\\\n",
    "Our model explains {100 * model_lr2_ln.rsquared:.2f}% of the variance of the variable \\\"income\\\"'\n",
    ")"
   ]
  },
  {
   "cell_type": "markdown",
   "id": "478d162e",
   "metadata": {},
   "source": [
    "## Comparing all the models"
   ]
  },
  {
   "cell_type": "code",
   "execution_count": 119,
   "id": "192dde53",
   "metadata": {
    "scrolled": true
   },
   "outputs": [
    {
     "name": "stdout",
     "output_type": "stream",
     "text": [
      "What % of the variance of the variable \"income\" do the models explain?\n",
      "\n",
      "gini + mean income :  49.65%\n",
      "gini + mean income logged : 72.48%\n",
      "gini + mean income + parents income class : 52.17%\n",
      "gini + mean income + parents income class logged :  77.24%\n"
     ]
    }
   ],
   "source": [
    "models = {\n",
    "    \"gini + mean income : \": model_lr1,\n",
    "    \"gini + mean income logged :\": model_lr1_ln,\n",
    "    \"gini + mean income + parents income class :\": model_lr2,\n",
    "    \"gini + mean income + parents income class logged : \": model_lr2_ln\n",
    "}\n",
    "\n",
    "\n",
    "print('What % of the variance of the variable \"income\" do the models explain?\\n')\n",
    "\n",
    "\n",
    "for model_name, model in models.items():\n",
    "    print(f'{model_name} {100 * model.rsquared:.2f}%')\n",
    "    \n"
   ]
  },
  {
   "cell_type": "markdown",
   "id": "c74dacab",
   "metadata": {},
   "source": [
    "Clearly, the best performing model is the last one, using the gini, mean and parent's income class logged can explain around 77.24% of the child's income."
   ]
  },
  {
   "cell_type": "markdown",
   "id": "49a75163",
   "metadata": {},
   "source": [
    "# Question 2:"
   ]
  },
  {
   "cell_type": "markdown",
   "id": "7cf1f849",
   "metadata": {},
   "source": [
    "How can we know that there are less people benefiting from a higher gini index? \n",
    "\n",
    "\n",
    "As we can see, in all the models, but below I have the summary statistics of model 4, you can tell that the gini coefficient and the income of an individual is negatively correlated. This means that, in the case of model 4, for a one-unit increase in gini_ln, income_ln is expected to decrease by approximately \n",
    "0.6243. This means the majority of people's income will decrease with the increase of a higher gini. "
   ]
  },
  {
   "cell_type": "code",
   "execution_count": 120,
   "id": "1baebddc",
   "metadata": {},
   "outputs": [
    {
     "name": "stdout",
     "output_type": "stream",
     "text": [
      "=================================================================================\n",
      "                    coef    std err          t      P>|t|      [0.025      0.975]\n",
      "---------------------------------------------------------------------------------\n",
      "Intercept         0.8915      0.006    149.503      0.000       0.880       0.903\n",
      "gini_ln          -0.6231      0.001   -454.761      0.000      -0.626      -0.620\n",
      "mi_ln             0.9872      0.000   3927.620      0.000       0.987       0.988\n",
      "c_i_parent_ln     0.3268      0.000   1092.950      0.000       0.326       0.327\n",
      "=================================================================================\n"
     ]
    }
   ],
   "source": [
    "print(model_lr2_ln.summary().tables[1])"
   ]
  },
  {
   "cell_type": "markdown",
   "id": "06383cda",
   "metadata": {},
   "source": [
    "# Question 3:"
   ]
  },
  {
   "cell_type": "markdown",
   "id": "6803907d",
   "metadata": {},
   "source": [
    "## Part 1"
   ]
  },
  {
   "cell_type": "markdown",
   "id": "caa34ea6",
   "metadata": {},
   "source": [
    "Is this model worth using? \n",
    "\n",
    "R-squared: 0.772\n",
    "This indicates that approximately 77.2% of the variance in income_ln is explained by the model. The value suggests that the model fits the data well.\n",
    "\n",
    "P-values:\n",
    "All predictors (Intercept, gini_ln, mi_ln, and c_i_parent_ln) have p-values of \n",
    "0.000, indicating that they are all statistically significant at any common significance level (e.g., 0.05, 0.01).\n",
    "This suggests that each variable makes a meaningful contribution to predicting income_ln.\n",
    "\n",
    "\n",
    "F-statistic: 6.450e+06 with a p-value of 0.00\n",
    "This indicates that the overall model is statistically significant, meaning that at least one predictor is significantly related to the dependent variable.\n"
   ]
  },
  {
   "cell_type": "markdown",
   "id": "1fef2d29",
   "metadata": {},
   "source": [
    "## Part 2"
   ]
  },
  {
   "cell_type": "markdown",
   "id": "5e2c926f",
   "metadata": {},
   "source": [
    "Recap of model 4: \n",
    "\n",
    "- Intercept: 0.8943\n",
    "- gini_ln coefficient:−0.6243\n",
    "- mi_ln coefficient: 0.9872\n",
    "- c_i_parent_ln coefficient: 0.3270\n"
   ]
  },
  {
   "cell_type": "code",
   "execution_count": 121,
   "id": "db49b89d",
   "metadata": {},
   "outputs": [],
   "source": [
    "intercept = 0.8943\n",
    "gini_ln_coef = -0.6243\n",
    "mi_ln_coef = 0.9872\n",
    "c_i_parent_ln_coef = 0.3270"
   ]
  },
  {
   "cell_type": "markdown",
   "id": "a960e039",
   "metadata": {},
   "source": [
    "y= exp( intercept + (gini_ln_coef x gini_ln) + (mi_ln_coef x mi_ln) + (c_i_parent_ln_coef x c_i_parent_ln) "
   ]
  },
  {
   "cell_type": "code",
   "execution_count": 122,
   "id": "6763823f",
   "metadata": {},
   "outputs": [],
   "source": [
    "y = intercept"
   ]
  },
  {
   "cell_type": "code",
   "execution_count": 123,
   "id": "b621952b",
   "metadata": {
    "scrolled": false
   },
   "outputs": [
    {
     "data": {
      "text/html": [
       "<div>\n",
       "<style scoped>\n",
       "    .dataframe tbody tr th:only-of-type {\n",
       "        vertical-align: middle;\n",
       "    }\n",
       "\n",
       "    .dataframe tbody tr th {\n",
       "        vertical-align: top;\n",
       "    }\n",
       "\n",
       "    .dataframe thead th {\n",
       "        text-align: right;\n",
       "    }\n",
       "</style>\n",
       "<table border=\"1\" class=\"dataframe\">\n",
       "  <thead>\n",
       "    <tr style=\"text-align: right;\">\n",
       "      <th></th>\n",
       "      <th>country</th>\n",
       "      <th>c_i_child</th>\n",
       "      <th>income</th>\n",
       "      <th>gini</th>\n",
       "      <th>elasticity</th>\n",
       "      <th>mi</th>\n",
       "      <th>c_i_parent</th>\n",
       "      <th>income_ln</th>\n",
       "      <th>gini_ln</th>\n",
       "      <th>mi_ln</th>\n",
       "      <th>c_i_parent_ln</th>\n",
       "    </tr>\n",
       "  </thead>\n",
       "  <tbody>\n",
       "    <tr>\n",
       "      <th>604</th>\n",
       "      <td>ALB</td>\n",
       "      <td>2</td>\n",
       "      <td>916</td>\n",
       "      <td>30</td>\n",
       "      <td>0.815874</td>\n",
       "      <td>2994.27</td>\n",
       "      <td>50</td>\n",
       "      <td>6.820016</td>\n",
       "      <td>3.401197</td>\n",
       "      <td>8.004456</td>\n",
       "      <td>3.912023</td>\n",
       "    </tr>\n",
       "    <tr>\n",
       "      <th>643</th>\n",
       "      <td>ALB</td>\n",
       "      <td>2</td>\n",
       "      <td>916</td>\n",
       "      <td>30</td>\n",
       "      <td>0.815874</td>\n",
       "      <td>2994.27</td>\n",
       "      <td>50</td>\n",
       "      <td>6.820016</td>\n",
       "      <td>3.401197</td>\n",
       "      <td>8.004456</td>\n",
       "      <td>3.912023</td>\n",
       "    </tr>\n",
       "    <tr>\n",
       "      <th>1017</th>\n",
       "      <td>ALB</td>\n",
       "      <td>3</td>\n",
       "      <td>1010</td>\n",
       "      <td>30</td>\n",
       "      <td>0.815874</td>\n",
       "      <td>2994.27</td>\n",
       "      <td>50</td>\n",
       "      <td>6.917706</td>\n",
       "      <td>3.401197</td>\n",
       "      <td>8.004456</td>\n",
       "      <td>3.912023</td>\n",
       "    </tr>\n",
       "    <tr>\n",
       "      <th>1260</th>\n",
       "      <td>ALB</td>\n",
       "      <td>3</td>\n",
       "      <td>1010</td>\n",
       "      <td>30</td>\n",
       "      <td>0.815874</td>\n",
       "      <td>2994.27</td>\n",
       "      <td>50</td>\n",
       "      <td>6.917706</td>\n",
       "      <td>3.401197</td>\n",
       "      <td>8.004456</td>\n",
       "      <td>3.912023</td>\n",
       "    </tr>\n",
       "    <tr>\n",
       "      <th>1613</th>\n",
       "      <td>ALB</td>\n",
       "      <td>4</td>\n",
       "      <td>1086</td>\n",
       "      <td>30</td>\n",
       "      <td>0.815874</td>\n",
       "      <td>2994.27</td>\n",
       "      <td>50</td>\n",
       "      <td>6.990257</td>\n",
       "      <td>3.401197</td>\n",
       "      <td>8.004456</td>\n",
       "      <td>3.912023</td>\n",
       "    </tr>\n",
       "  </tbody>\n",
       "</table>\n",
       "</div>"
      ],
      "text/plain": [
       "     country  c_i_child  income  gini  elasticity       mi  c_i_parent  \\\n",
       "604      ALB          2     916    30    0.815874  2994.27          50   \n",
       "643      ALB          2     916    30    0.815874  2994.27          50   \n",
       "1017     ALB          3    1010    30    0.815874  2994.27          50   \n",
       "1260     ALB          3    1010    30    0.815874  2994.27          50   \n",
       "1613     ALB          4    1086    30    0.815874  2994.27          50   \n",
       "\n",
       "      income_ln   gini_ln     mi_ln  c_i_parent_ln  \n",
       "604    6.820016  3.401197  8.004456       3.912023  \n",
       "643    6.820016  3.401197  8.004456       3.912023  \n",
       "1017   6.917706  3.401197  8.004456       3.912023  \n",
       "1260   6.917706  3.401197  8.004456       3.912023  \n",
       "1613   6.990257  3.401197  8.004456       3.912023  "
      ]
     },
     "execution_count": 123,
     "metadata": {},
     "output_type": "execute_result"
    }
   ],
   "source": [
    "# I'm just going to make a table for each country with the data that is \n",
    "# the 50th percent for the parent income.\n",
    "df_mean = df_c[df_c['c_i_parent'] == 50]\n",
    "df_mean.head()"
   ]
  },
  {
   "cell_type": "code",
   "execution_count": 124,
   "id": "e7f6133f",
   "metadata": {},
   "outputs": [
    {
     "data": {
      "text/html": [
       "<div>\n",
       "<style scoped>\n",
       "    .dataframe tbody tr th:only-of-type {\n",
       "        vertical-align: middle;\n",
       "    }\n",
       "\n",
       "    .dataframe tbody tr th {\n",
       "        vertical-align: top;\n",
       "    }\n",
       "\n",
       "    .dataframe thead th {\n",
       "        text-align: right;\n",
       "    }\n",
       "</style>\n",
       "<table border=\"1\" class=\"dataframe\">\n",
       "  <thead>\n",
       "    <tr style=\"text-align: right;\">\n",
       "      <th></th>\n",
       "      <th>gini_ln</th>\n",
       "      <th>mi_ln</th>\n",
       "      <th>c_i_parent_ln</th>\n",
       "    </tr>\n",
       "    <tr>\n",
       "      <th>country</th>\n",
       "      <th></th>\n",
       "      <th></th>\n",
       "      <th></th>\n",
       "    </tr>\n",
       "  </thead>\n",
       "  <tbody>\n",
       "    <tr>\n",
       "      <th>ALB</th>\n",
       "      <td>3.401197</td>\n",
       "      <td>8.004456</td>\n",
       "      <td>3.912023</td>\n",
       "    </tr>\n",
       "    <tr>\n",
       "      <th>ARG</th>\n",
       "      <td>3.806662</td>\n",
       "      <td>8.673758</td>\n",
       "      <td>3.912023</td>\n",
       "    </tr>\n",
       "    <tr>\n",
       "      <th>ARM</th>\n",
       "      <td>3.367296</td>\n",
       "      <td>7.395034</td>\n",
       "      <td>3.912023</td>\n",
       "    </tr>\n",
       "    <tr>\n",
       "      <th>AUT</th>\n",
       "      <td>3.401197</td>\n",
       "      <td>9.719389</td>\n",
       "      <td>3.912023</td>\n",
       "    </tr>\n",
       "    <tr>\n",
       "      <th>AZE</th>\n",
       "      <td>3.258097</td>\n",
       "      <td>7.765098</td>\n",
       "      <td>3.912023</td>\n",
       "    </tr>\n",
       "  </tbody>\n",
       "</table>\n",
       "</div>"
      ],
      "text/plain": [
       "          gini_ln     mi_ln  c_i_parent_ln\n",
       "country                                   \n",
       "ALB      3.401197  8.004456       3.912023\n",
       "ARG      3.806662  8.673758       3.912023\n",
       "ARM      3.367296  7.395034       3.912023\n",
       "AUT      3.401197  9.719389       3.912023\n",
       "AZE      3.258097  7.765098       3.912023"
      ]
     },
     "execution_count": 124,
     "metadata": {},
     "output_type": "execute_result"
    }
   ],
   "source": [
    "df_mean = df_mean[['country', 'gini_ln', 'mi_ln','c_i_parent_ln']]\n",
    "df_mean = df_mean.groupby(by=['country']).first()\n",
    "df_mean.head()"
   ]
  },
  {
   "cell_type": "code",
   "execution_count": 125,
   "id": "7a990bd3",
   "metadata": {
    "scrolled": true
   },
   "outputs": [
    {
     "data": {
      "text/html": [
       "<div>\n",
       "<style scoped>\n",
       "    .dataframe tbody tr th:only-of-type {\n",
       "        vertical-align: middle;\n",
       "    }\n",
       "\n",
       "    .dataframe tbody tr th {\n",
       "        vertical-align: top;\n",
       "    }\n",
       "\n",
       "    .dataframe thead th {\n",
       "        text-align: right;\n",
       "    }\n",
       "</style>\n",
       "<table border=\"1\" class=\"dataframe\">\n",
       "  <thead>\n",
       "    <tr style=\"text-align: right;\">\n",
       "      <th></th>\n",
       "      <th>gini_ln</th>\n",
       "      <th>mi_ln</th>\n",
       "      <th>c_i_parent_ln</th>\n",
       "      <th>predicted_child_income</th>\n",
       "    </tr>\n",
       "    <tr>\n",
       "      <th>country</th>\n",
       "      <th></th>\n",
       "      <th></th>\n",
       "      <th></th>\n",
       "      <th></th>\n",
       "    </tr>\n",
       "  </thead>\n",
       "  <tbody>\n",
       "    <tr>\n",
       "      <th>ALB</th>\n",
       "      <td>3.401197</td>\n",
       "      <td>8.004456</td>\n",
       "      <td>3.912023</td>\n",
       "      <td>2841.714099</td>\n",
       "    </tr>\n",
       "    <tr>\n",
       "      <th>ARG</th>\n",
       "      <td>3.806662</td>\n",
       "      <td>8.673758</td>\n",
       "      <td>3.912023</td>\n",
       "      <td>4271.693200</td>\n",
       "    </tr>\n",
       "    <tr>\n",
       "      <th>ARM</th>\n",
       "      <td>3.367296</td>\n",
       "      <td>7.395034</td>\n",
       "      <td>3.912023</td>\n",
       "      <td>1590.344816</td>\n",
       "    </tr>\n",
       "    <tr>\n",
       "      <th>AUT</th>\n",
       "      <td>3.401197</td>\n",
       "      <td>9.719389</td>\n",
       "      <td>3.912023</td>\n",
       "      <td>15446.612979</td>\n",
       "    </tr>\n",
       "    <tr>\n",
       "      <th>AZE</th>\n",
       "      <td>3.258097</td>\n",
       "      <td>7.765098</td>\n",
       "      <td>3.912023</td>\n",
       "      <td>2453.342916</td>\n",
       "    </tr>\n",
       "    <tr>\n",
       "      <th>...</th>\n",
       "      <td>...</td>\n",
       "      <td>...</td>\n",
       "      <td>...</td>\n",
       "      <td>...</td>\n",
       "    </tr>\n",
       "    <tr>\n",
       "      <th>USA</th>\n",
       "      <td>3.688879</td>\n",
       "      <td>10.146555</td>\n",
       "      <td>3.912023</td>\n",
       "      <td>19677.742708</td>\n",
       "    </tr>\n",
       "    <tr>\n",
       "      <th>VEN</th>\n",
       "      <td>3.784190</td>\n",
       "      <td>8.060436</td>\n",
       "      <td>3.912023</td>\n",
       "      <td>2364.505521</td>\n",
       "    </tr>\n",
       "    <tr>\n",
       "      <th>VNM</th>\n",
       "      <td>3.555348</td>\n",
       "      <td>7.227866</td>\n",
       "      <td>3.912023</td>\n",
       "      <td>1199.040418</td>\n",
       "    </tr>\n",
       "    <tr>\n",
       "      <th>YEM</th>\n",
       "      <td>3.526361</td>\n",
       "      <td>6.949012</td>\n",
       "      <td>3.912023</td>\n",
       "      <td>927.126175</td>\n",
       "    </tr>\n",
       "    <tr>\n",
       "      <th>ZAF</th>\n",
       "      <td>4.143135</td>\n",
       "      <td>8.633633</td>\n",
       "      <td>3.912023</td>\n",
       "      <td>3327.894540</td>\n",
       "    </tr>\n",
       "  </tbody>\n",
       "</table>\n",
       "<p>114 rows × 4 columns</p>\n",
       "</div>"
      ],
      "text/plain": [
       "          gini_ln      mi_ln  c_i_parent_ln  predicted_child_income\n",
       "country                                                            \n",
       "ALB      3.401197   8.004456       3.912023             2841.714099\n",
       "ARG      3.806662   8.673758       3.912023             4271.693200\n",
       "ARM      3.367296   7.395034       3.912023             1590.344816\n",
       "AUT      3.401197   9.719389       3.912023            15446.612979\n",
       "AZE      3.258097   7.765098       3.912023             2453.342916\n",
       "...           ...        ...            ...                     ...\n",
       "USA      3.688879  10.146555       3.912023            19677.742708\n",
       "VEN      3.784190   8.060436       3.912023             2364.505521\n",
       "VNM      3.555348   7.227866       3.912023             1199.040418\n",
       "YEM      3.526361   6.949012       3.912023              927.126175\n",
       "ZAF      4.143135   8.633633       3.912023             3327.894540\n",
       "\n",
       "[114 rows x 4 columns]"
      ]
     },
     "execution_count": 125,
     "metadata": {},
     "output_type": "execute_result"
    }
   ],
   "source": [
    "# Define the function to calculate y\n",
    "def calculate_y(row):\n",
    "    return np.exp(intercept + \n",
    "            gini_ln_coef * row['gini_ln'] + \n",
    "            mi_ln_coef * row['mi_ln'] + \n",
    "            c_i_parent_ln_coef * row['c_i_parent_ln'])\n",
    "\n",
    "# Apply the function to each row in the DataFrame\n",
    "df_mean['predicted_child_income'] = df_mean.apply(calculate_y, axis=1)\n",
    "\n",
    "# Display the DataFrame with the new column\n",
    "df_mean"
   ]
  },
  {
   "cell_type": "markdown",
   "id": "2c3c20b7",
   "metadata": {},
   "source": [
    "Let's pick a country to filter the dataset for: "
   ]
  },
  {
   "cell_type": "code",
   "execution_count": 126,
   "id": "db1b8da0",
   "metadata": {},
   "outputs": [],
   "source": [
    "country_to_filter = 'HUN'"
   ]
  },
  {
   "cell_type": "markdown",
   "id": "f51d6261",
   "metadata": {},
   "source": [
    "Let's look at what your salary would be if your parents earned an average salary in given country based on the data we were given."
   ]
  },
  {
   "cell_type": "code",
   "execution_count": 127,
   "id": "ed2ca24f",
   "metadata": {
    "scrolled": false
   },
   "outputs": [
    {
     "data": {
      "text/html": [
       "<div>\n",
       "<style scoped>\n",
       "    .dataframe tbody tr th:only-of-type {\n",
       "        vertical-align: middle;\n",
       "    }\n",
       "\n",
       "    .dataframe tbody tr th {\n",
       "        vertical-align: top;\n",
       "    }\n",
       "\n",
       "    .dataframe thead th {\n",
       "        text-align: right;\n",
       "    }\n",
       "</style>\n",
       "<table border=\"1\" class=\"dataframe\">\n",
       "  <thead>\n",
       "    <tr style=\"text-align: right;\">\n",
       "      <th></th>\n",
       "      <th>country</th>\n",
       "      <th>gini_ln</th>\n",
       "      <th>mi_ln</th>\n",
       "      <th>c_i_parent_ln</th>\n",
       "      <th>predicted_child_income</th>\n",
       "    </tr>\n",
       "  </thead>\n",
       "  <tbody>\n",
       "    <tr>\n",
       "      <th>43</th>\n",
       "      <td>HUN</td>\n",
       "      <td>3.295837</td>\n",
       "      <td>8.716182</td>\n",
       "      <td>3.912023</td>\n",
       "      <td>6127.580094</td>\n",
       "    </tr>\n",
       "  </tbody>\n",
       "</table>\n",
       "</div>"
      ],
      "text/plain": [
       "   country   gini_ln     mi_ln  c_i_parent_ln  predicted_child_income\n",
       "43     HUN  3.295837  8.716182       3.912023             6127.580094"
      ]
     },
     "execution_count": 127,
     "metadata": {},
     "output_type": "execute_result"
    }
   ],
   "source": [
    "df_mean_reset = df_mean.reset_index()\n",
    "df_mean_reset[df_mean_reset['country'] == country_to_filter]"
   ]
  },
  {
   "cell_type": "markdown",
   "id": "b1115647",
   "metadata": {},
   "source": [
    "Another way to check what would be my expected salary if my parent's were in the 50th percentile is by simply looking at the graph of all possibilities: "
   ]
  },
  {
   "cell_type": "code",
   "execution_count": 128,
   "id": "ec891c8a",
   "metadata": {},
   "outputs": [
    {
     "data": {
      "image/png": "[encoded data removed]",
      "text/plain": [
       "<Figure size 600x400 with 1 Axes>"
      ]
     },
     "metadata": {},
     "output_type": "display_data"
    }
   ],
   "source": [
    "for parent_class in [50]:\n",
    "    plt.figure(figsize = (6,4))\n",
    "    plt.xlim(1,100)\n",
    "    plt.title(f'For Parent Class = {parent_class}, What Is The Distribution of the Child Class?')\n",
    "    \n",
    "    sns.histplot(data = df_c[(df_c.country == country_to_filter) & \n",
    "                          (df_c.c_i_parent == parent_class)], \n",
    "             x = \"c_i_child\", kde = True, color = \"salmon\", label = country_to_filter)\n",
    "    \n",
    "    plt.legend()"
   ]
  }
 ],
 "metadata": {
  "kernelspec": {
   "display_name": "Python 3 (ipykernel)",
   "language": "python",
   "name": "python3"
  },
  "language_info": {
   "codemirror_mode": {
    "name": "ipython",
    "version": 3
   },
   "file_extension": ".py",
   "mimetype": "text/x-python",
   "name": "python",
   "nbconvert_exporter": "python",
   "pygments_lexer": "ipython3",
   "version": "3.11.5"
  },
  "toc": {
   "base_numbering": 1,
   "nav_menu": {},
   "number_sections": true,
   "sideBar": true,
   "skip_h1_title": false,
   "title_cell": "Table of Contents",
   "title_sidebar": "Contents",
   "toc_cell": true,
   "toc_position": {
    "height": "calc(100% - 180px)",
    "left": "10px",
    "top": "150px",
    "width": "343.958px"
   },
   "toc_section_display": true,
   "toc_window_display": false
  }
 },
 "nbformat": 4,
 "nbformat_minor": 5
}
